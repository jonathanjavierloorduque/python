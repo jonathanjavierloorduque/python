{
 "cells": [
  {
   "cell_type": "code",
   "execution_count": 14,
   "metadata": {},
   "outputs": [],
   "source": [
    "from tkinter import *\n",
    "from tkinter import ttk\n",
    "class Alumno:\n",
    "    def __init__(self,ventana):\n",
    "        self.ventana=ventana\n",
    "        self.ventana.title(\"Hola mundo\")\n",
    "        #Nombre\n",
    "        Label(self.ventana,text=\"Nombre\").grid(row=0,column=0)\n",
    "        Entry(self.ventana).grid(row=0,column=1)\n",
    "        #Clave\n",
    "        Label(self.ventana,text=\"Clave\").grid(row=1,column=0)\n",
    "        Entry(self.ventana).grid(row=1,column=1)\n",
    "        #Boton\n",
    "        ttk.Button(self.ventana,text=\"Guadar alumno\").grid(row=2,columnspan=2,sticky=W+E)\n",
    "        #ttk.Button(marco,text=\"Guardar alumno\").grid(row=2,columnspan=2,sticky=W+E)\n",
    "    \n",
    "if __name__ ==\"__main__\":\n",
    "    ventana=Tk()\n",
    "    aplicacion=Alumno(ventana)\n",
    "    ventana.mainloop()"
   ]
  },
  {
   "cell_type": "code",
   "execution_count": null,
   "metadata": {},
   "outputs": [],
   "source": []
  },
  {
   "cell_type": "code",
   "execution_count": 7,
   "metadata": {},
   "outputs": [
    {
     "name": "stdout",
     "output_type": "stream",
     "text": [
      "hola\n"
     ]
    }
   ],
   "source": [
    "print(\"hola\")"
   ]
  },
  {
   "cell_type": "code",
   "execution_count": 11,
   "metadata": {},
   "outputs": [],
   "source": [
    "from tkinter import *\n",
    "from tkinter import ttk\n",
    "class Alumno:\n",
    "    def __init__(self,ventana):\n",
    "        self.ventana=ventana\n",
    "        self.ventana.title(\"Hola mundo\")\n",
    "        macro=LabelFrame(self.ventana,text='Alumno')\n",
    "        macro.grid(row=0,column=0,columnspan=3,pady=20)\n",
    "        #Nombre\n",
    "        Label(macro,text=\"Nombre\").grid(row=0,column=0)\n",
    "        self.nombre = Entry(macro)\n",
    "        self.nombre.grid(row=0,column=1)\n",
    "        #Clave\n",
    "        Label(macro,text=\"Clave\").grid(row=1,column=0)\n",
    "        self.nombre = Entry(macro)\n",
    "        self.nombre.grid(row=1,column=1)\n",
    "        #Boton\n",
    "        ttk.Button(macro,text=\"Guadar alumno\").grid(row=2,columnspan=2,sticky=W+E)\n",
    "        #ttk.Button(marco,text=\"Guardar alumno\").grid(row=2,columnspan=2,sticky=W+E)\n",
    "        \n",
    "if __name__ ==\"__main__\":\n",
    "    ventana=Tk()\n",
    "    aplicacion= Alumno(ventana)\n",
    "    ventana.mainloop()"
   ]
  },
  {
   "cell_type": "code",
   "execution_count": 11,
   "metadata": {},
   "outputs": [
    {
     "ename": "AttributeError",
     "evalue": "'Cliente' object has no attribute 'consultaClientes'",
     "output_type": "error",
     "traceback": [
      "\u001b[1;31m---------------------------------------------------------------------------\u001b[0m",
      "\u001b[1;31mAttributeError\u001b[0m                            Traceback (most recent call last)",
      "\u001b[1;32m<ipython-input-11-9197d3627b72>\u001b[0m in \u001b[0;36m<module>\u001b[1;34m\u001b[0m\n\u001b[0;32m     31\u001b[0m     \u001b[0mventana\u001b[0m\u001b[1;33m=\u001b[0m\u001b[0mTk\u001b[0m\u001b[1;33m(\u001b[0m\u001b[1;33m)\u001b[0m\u001b[1;33m\u001b[0m\u001b[1;33m\u001b[0m\u001b[0m\n\u001b[0;32m     32\u001b[0m     \u001b[0maplicacion\u001b[0m\u001b[1;33m=\u001b[0m \u001b[0mCliente\u001b[0m\u001b[1;33m(\u001b[0m\u001b[0mventana\u001b[0m\u001b[1;33m)\u001b[0m\u001b[1;33m\u001b[0m\u001b[1;33m\u001b[0m\u001b[0m\n\u001b[1;32m---> 33\u001b[1;33m     \u001b[0maplicacion\u001b[0m\u001b[1;33m.\u001b[0m\u001b[0mmostrarDatos\u001b[0m\u001b[1;33m(\u001b[0m\u001b[1;33m)\u001b[0m\u001b[1;33m\u001b[0m\u001b[1;33m\u001b[0m\u001b[0m\n\u001b[0m\u001b[0;32m     34\u001b[0m     \u001b[0mventana\u001b[0m\u001b[1;33m.\u001b[0m\u001b[0mmainloop\u001b[0m\u001b[1;33m(\u001b[0m\u001b[1;33m)\u001b[0m\u001b[1;33m\u001b[0m\u001b[1;33m\u001b[0m\u001b[0m\n",
      "\u001b[1;32m<ipython-input-11-9197d3627b72>\u001b[0m in \u001b[0;36mmostrarDatos\u001b[1;34m(self)\u001b[0m\n\u001b[0;32m     25\u001b[0m         \u001b[1;32mreturn\u001b[0m \u001b[0mcur\u001b[0m\u001b[1;33m\u001b[0m\u001b[1;33m\u001b[0m\u001b[0m\n\u001b[0;32m     26\u001b[0m     \u001b[1;32mdef\u001b[0m \u001b[0mmostrarDatos\u001b[0m\u001b[1;33m(\u001b[0m\u001b[0mself\u001b[0m\u001b[1;33m)\u001b[0m\u001b[1;33m:\u001b[0m\u001b[1;33m\u001b[0m\u001b[1;33m\u001b[0m\u001b[0m\n\u001b[1;32m---> 27\u001b[1;33m         \u001b[0mcur\u001b[0m\u001b[1;33m=\u001b[0m\u001b[0mself\u001b[0m\u001b[1;33m.\u001b[0m\u001b[0mconsultaClientes\u001b[0m\u001b[1;33m(\u001b[0m\u001b[1;34m\"SELECT `Cedula o Ruc`,`Nombre`,`Representante`,`Tipo de cliente`,`Ciudad`,`Zona`,`Teléfono_1`,`Teléfono_2`,`Mail_1`,`Mail_2`,`Dirección` FROM `clientes` \"\u001b[0m\u001b[1;33m)\u001b[0m\u001b[1;33m\u001b[0m\u001b[1;33m\u001b[0m\u001b[0m\n\u001b[0m\u001b[0;32m     28\u001b[0m         \u001b[1;32mfor\u001b[0m\u001b[1;33m(\u001b[0m\u001b[0mCedula_o_Ruc\u001b[0m\u001b[1;33m,\u001b[0m\u001b[0mNombre\u001b[0m\u001b[1;33m,\u001b[0m\u001b[0mRepresentante\u001b[0m\u001b[1;33m,\u001b[0m\u001b[0mTipo_de_cliente\u001b[0m\u001b[1;33m,\u001b[0m\u001b[0mCiudad\u001b[0m\u001b[1;33m,\u001b[0m\u001b[0mZona\u001b[0m\u001b[1;33m,\u001b[0m\u001b[0mTeléfono_1\u001b[0m\u001b[1;33m,\u001b[0m\u001b[0mTeléfono_2\u001b[0m\u001b[1;33m,\u001b[0m\u001b[0mMail_1\u001b[0m\u001b[1;33m,\u001b[0m\u001b[0mMail_2\u001b[0m\u001b[1;33m,\u001b[0m\u001b[0mDirección\u001b[0m\u001b[1;33m)\u001b[0m \u001b[1;32min\u001b[0m \u001b[0mcur\u001b[0m\u001b[1;33m:\u001b[0m\u001b[1;33m\u001b[0m\u001b[1;33m\u001b[0m\u001b[0m\n\u001b[0;32m     29\u001b[0m             \u001b[0mprint\u001b[0m\u001b[1;33m(\u001b[0m\u001b[0mCedula_o_Ruc\u001b[0m\u001b[1;33m,\u001b[0m\u001b[0mNombre\u001b[0m\u001b[1;33m,\u001b[0m\u001b[0mRepresentante\u001b[0m\u001b[1;33m,\u001b[0m\u001b[0mTipo_de_cliente\u001b[0m\u001b[1;33m,\u001b[0m\u001b[0mCiudad\u001b[0m\u001b[1;33m,\u001b[0m\u001b[0mZona\u001b[0m\u001b[1;33m,\u001b[0m\u001b[0mTeléfono_1\u001b[0m\u001b[1;33m,\u001b[0m\u001b[0mTeléfono_2\u001b[0m\u001b[1;33m,\u001b[0m\u001b[0mMail_1\u001b[0m\u001b[1;33m,\u001b[0m\u001b[0mMail_2\u001b[0m\u001b[1;33m,\u001b[0m\u001b[0mDirección\u001b[0m\u001b[1;33m)\u001b[0m\u001b[1;33m\u001b[0m\u001b[1;33m\u001b[0m\u001b[0m\n",
      "\u001b[1;31mAttributeError\u001b[0m: 'Cliente' object has no attribute 'consultaClientes'"
     ]
    }
   ],
   "source": [
    "from tkinter import *\n",
    "from tkinter import ttk\n",
    "class Cliente:\n",
    "    def __init__(self,ventana):\n",
    "        self.ventana=ventana\n",
    "        self.ventana.title(\"Compaz Industrial\")\n",
    "        macro=LabelFrame(self.ventana,text='Clientes')\n",
    "        macro.grid(row=0,column=0,columnspan=3,pady=20)\n",
    "        #Nombre\n",
    "        Label(macro,text=\"Cédula o Ruc\").grid(row=0,column=0)\n",
    "        Entry(macro).grid(row=0,column=1)\n",
    "        #Clave\n",
    "        Label(macro,text=\"Nombre\").grid(row=1,column=0)\n",
    "        Entry(macro).grid(row=1,column=1)\n",
    "        #Boton\n",
    "        ttk.Button(macro,text=\"Guadar cliente\").grid(row=2,columnspan=2,sticky=W+E)\n",
    "        #ttk.Button(marco,text=\"Guardar alumno\").grid(row=2,columnspan=2,sticky=W+E)\n",
    "    def colsultaClientes(self,query):\n",
    "        try:\n",
    "            con=mariadb.connect(host=\"localhost\",user=\"root\",password=\"123456\",database=\"compazindustrial\")\n",
    "        except mariadb.Erro as e:\n",
    "            print(\"Error al conectarse a la mariadb\",e)\n",
    "        cur=conn.cursor()\n",
    "        cur.execute(query)\n",
    "        return cur\n",
    "    def mostrarDatos(self):\n",
    "        cur=self.consultaClientes(\"SELECT `Cedula o Ruc`,`Nombre`,`Representante`,`Tipo de cliente`,`Ciudad`,`Zona`,`Teléfono_1`,`Teléfono_2`,`Mail_1`,`Mail_2`,`Dirección` FROM `clientes` \")\n",
    "        for(Cedula_o_Ruc,Nombre,Representante,Tipo_de_cliente,Ciudad,Zona,Teléfono_1,Teléfono_2,Mail_1,Mail_2,Dirección) in cur:\n",
    "            print(Cedula_o_Ruc,Nombre,Representante,Tipo_de_cliente,Ciudad,Zona,Teléfono_1,Teléfono_2,Mail_1,Mail_2,Dirección)\n",
    "if __name__ ==\"__main__\":\n",
    "    ventana=Tk()\n",
    "    aplicacion= Cliente(ventana)\n",
    "    aplicacion.mostrarDatos()\n",
    "    ventana.mainloop()"
   ]
  },
  {
   "cell_type": "code",
   "execution_count": 26,
   "metadata": {},
   "outputs": [
    {
     "ename": "ModuleNotFoundError",
     "evalue": "No module named 'mariadb'",
     "output_type": "error",
     "traceback": [
      "\u001b[1;31m---------------------------------------------------------------------------\u001b[0m",
      "\u001b[1;31mModuleNotFoundError\u001b[0m                       Traceback (most recent call last)",
      "\u001b[1;32m<ipython-input-26-df12f85e65a5>\u001b[0m in \u001b[0;36m<module>\u001b[1;34m\u001b[0m\n\u001b[0;32m      1\u001b[0m \u001b[1;32mfrom\u001b[0m \u001b[0mtkinter\u001b[0m \u001b[1;32mimport\u001b[0m \u001b[1;33m*\u001b[0m\u001b[1;33m\u001b[0m\u001b[1;33m\u001b[0m\u001b[0m\n\u001b[0;32m      2\u001b[0m \u001b[1;32mfrom\u001b[0m \u001b[0mtkinter\u001b[0m \u001b[1;32mimport\u001b[0m \u001b[0mttk\u001b[0m\u001b[1;33m\u001b[0m\u001b[1;33m\u001b[0m\u001b[0m\n\u001b[1;32m----> 3\u001b[1;33m \u001b[1;32mimport\u001b[0m \u001b[0mmariadb\u001b[0m\u001b[1;33m\u001b[0m\u001b[1;33m\u001b[0m\u001b[0m\n\u001b[0m\u001b[0;32m      4\u001b[0m \u001b[1;32mclass\u001b[0m \u001b[0mCliente\u001b[0m\u001b[1;33m:\u001b[0m\u001b[1;33m\u001b[0m\u001b[1;33m\u001b[0m\u001b[0m\n\u001b[0;32m      5\u001b[0m     \u001b[1;32mdef\u001b[0m \u001b[0m__init__\u001b[0m\u001b[1;33m(\u001b[0m\u001b[0mself\u001b[0m\u001b[1;33m,\u001b[0m\u001b[0mventana\u001b[0m\u001b[1;33m)\u001b[0m\u001b[1;33m:\u001b[0m\u001b[1;33m\u001b[0m\u001b[1;33m\u001b[0m\u001b[0m\n",
      "\u001b[1;31mModuleNotFoundError\u001b[0m: No module named 'mariadb'"
     ]
    }
   ],
   "source": [
    "from tkinter import *\n",
    "from tkinter import ttk\n",
    "import mariadb\n",
    "\n",
    "class Cliente:\n",
    "    def __init__(self,ventana):\n",
    "        self.ventana=ventana\n",
    "        self.ventana.title(\"Compaz Industrial\")\n",
    "        macro=LabelFrame(self.ventana,text='Clientes')\n",
    "        macro.grid(row=0,column=0,columnspan=3,pady=20)\n",
    "        #Nombre\n",
    "        Label(macro,text=\"Cédula o Ruc\").grid(row=0,column=0)\n",
    "        Entry(macro).grid(row=0,column=1)\n",
    "        #Clave\n",
    "        Label(macro,text=\"Nombre\").grid(row=1,column=0)\n",
    "        Entry(macro).grid(row=1,column=1)\n",
    "        #Boton\n",
    "        ttk.Button(macro,text=\"Guadar cliente\").grid(row=2,columnspan=2,sticky=W+E)\n",
    "        #ttk.Button(marco,text=\"Guardar alumno\").grid(row=2,columnspan=2,sticky=W+E)\n",
    "    def colsultaClientes(self,query):\n",
    "        try:\n",
    "            conn=mariadb.connect(host=\"localhost\",user=\"root\",password=\"123456\",database=\"compazindustrial\")\n",
    "        except mariadb.Erro as e:\n",
    "            print(\"Error al conectarse a la mariadb\",e)\n",
    "        cur=conn.cursor()\n",
    "        cur.execute(query)\n",
    "        return cur\n",
    "    def mostrarDatos(self):\n",
    "        cur=self.consultaClientes(\"SELECT `Cedula_Ruc`,`Nombre`,`Representante`,`Tipo_de_cliente`,`Ciudad`,`Zona`,`Teléfono_1`,`Teléfono_2`,`Mail_1`,`Mail_2`,`Direccion` FROM `clientes` \")\n",
    "        for(Cedula_Ruc,Nombre,Representante,Tipo_de_cliente,Ciudad,Zona,Teléfono_1,Teléfono_2,Mail_1,Mail_2,Direccion) in cur:\n",
    "            print(Cedula_Ruc,Nombre,Representante,Tipo_de_cliente,Ciudad,Zona,Teléfono_1,Teléfono_2,Mail_1,Mail_2,Direccion)\n",
    "            \n",
    "if __name__ ==\"__main__\":\n",
    "    ventana=Tk()\n",
    "    aplicacion= Cliente(ventana)\n",
    "    aplicacion.mostrarDatos()\n",
    "    ventana.mainloop()"
   ]
  },
  {
   "cell_type": "code",
   "execution_count": 24,
   "metadata": {},
   "outputs": [
    {
     "ename": "NameError",
     "evalue": "name 'mariadb' is not defined",
     "output_type": "error",
     "traceback": [
      "\u001b[1;31m---------------------------------------------------------------------------\u001b[0m",
      "\u001b[1;31mNameError\u001b[0m                                 Traceback (most recent call last)",
      "\u001b[1;32m<ipython-input-24-a04f59584e27>\u001b[0m in \u001b[0;36mconsulataAlumnos\u001b[1;34m(self, query)\u001b[0m\n\u001b[0;32m     20\u001b[0m         \u001b[1;32mtry\u001b[0m\u001b[1;33m:\u001b[0m\u001b[1;33m\u001b[0m\u001b[1;33m\u001b[0m\u001b[0m\n\u001b[1;32m---> 21\u001b[1;33m             conn=mariadb.connect(\n\u001b[0m\u001b[0;32m     22\u001b[0m                 \u001b[0mhost\u001b[0m\u001b[1;33m=\u001b[0m\u001b[1;34m\"localhost\"\u001b[0m\u001b[1;33m,\u001b[0m\u001b[1;33m\u001b[0m\u001b[1;33m\u001b[0m\u001b[0m\n",
      "\u001b[1;31mNameError\u001b[0m: name 'mariadb' is not defined",
      "\nDuring handling of the above exception, another exception occurred:\n",
      "\u001b[1;31mNameError\u001b[0m                                 Traceback (most recent call last)",
      "\u001b[1;32m<ipython-input-24-a04f59584e27>\u001b[0m in \u001b[0;36m<module>\u001b[1;34m\u001b[0m\n\u001b[0;32m     38\u001b[0m     \u001b[0mventana\u001b[0m\u001b[1;33m=\u001b[0m\u001b[0mTk\u001b[0m\u001b[1;33m(\u001b[0m\u001b[1;33m)\u001b[0m\u001b[1;33m\u001b[0m\u001b[1;33m\u001b[0m\u001b[0m\n\u001b[0;32m     39\u001b[0m     \u001b[0maplicacion\u001b[0m\u001b[1;33m=\u001b[0m \u001b[0mCliente\u001b[0m\u001b[1;33m(\u001b[0m\u001b[0mventana\u001b[0m\u001b[1;33m)\u001b[0m\u001b[1;33m\u001b[0m\u001b[1;33m\u001b[0m\u001b[0m\n\u001b[1;32m---> 40\u001b[1;33m     \u001b[0maplicacion\u001b[0m\u001b[1;33m.\u001b[0m\u001b[0mmostrarDatos\u001b[0m\u001b[1;33m(\u001b[0m\u001b[1;33m)\u001b[0m\u001b[1;33m\u001b[0m\u001b[1;33m\u001b[0m\u001b[0m\n\u001b[0m\u001b[0;32m     41\u001b[0m     \u001b[0mventana\u001b[0m\u001b[1;33m.\u001b[0m\u001b[0mmainloop\u001b[0m\u001b[1;33m(\u001b[0m\u001b[1;33m)\u001b[0m\u001b[1;33m\u001b[0m\u001b[1;33m\u001b[0m\u001b[0m\n",
      "\u001b[1;32m<ipython-input-24-a04f59584e27>\u001b[0m in \u001b[0;36mmostrarDatos\u001b[1;34m(self)\u001b[0m\n\u001b[0;32m     31\u001b[0m         \u001b[1;32mreturn\u001b[0m \u001b[0mcur\u001b[0m\u001b[1;33m\u001b[0m\u001b[1;33m\u001b[0m\u001b[0m\n\u001b[0;32m     32\u001b[0m     \u001b[1;32mdef\u001b[0m \u001b[0mmostrarDatos\u001b[0m\u001b[1;33m(\u001b[0m\u001b[0mself\u001b[0m\u001b[1;33m)\u001b[0m\u001b[1;33m:\u001b[0m\u001b[1;33m\u001b[0m\u001b[1;33m\u001b[0m\u001b[0m\n\u001b[1;32m---> 33\u001b[1;33m         \u001b[0mcur\u001b[0m\u001b[1;33m=\u001b[0m\u001b[0mself\u001b[0m\u001b[1;33m.\u001b[0m\u001b[0mconsulataAlumnos\u001b[0m\u001b[1;33m(\u001b[0m\u001b[1;34m\"SELECT `nombre`,`clave` FROM `alumnos`\"\u001b[0m\u001b[1;33m)\u001b[0m\u001b[1;33m\u001b[0m\u001b[1;33m\u001b[0m\u001b[0m\n\u001b[0m\u001b[0;32m     34\u001b[0m         \u001b[1;32mfor\u001b[0m \u001b[1;33m(\u001b[0m\u001b[0mnombre\u001b[0m\u001b[1;33m,\u001b[0m\u001b[0mclave\u001b[0m\u001b[1;33m)\u001b[0m \u001b[1;32min\u001b[0m \u001b[0mcur\u001b[0m\u001b[1;33m:\u001b[0m\u001b[1;33m\u001b[0m\u001b[1;33m\u001b[0m\u001b[0m\n\u001b[0;32m     35\u001b[0m             \u001b[0mprint\u001b[0m\u001b[1;33m(\u001b[0m\u001b[0mnombre\u001b[0m\u001b[1;33m,\u001b[0m\u001b[0mclave\u001b[0m\u001b[1;33m)\u001b[0m\u001b[1;33m\u001b[0m\u001b[1;33m\u001b[0m\u001b[0m\n",
      "\u001b[1;32m<ipython-input-24-a04f59584e27>\u001b[0m in \u001b[0;36mconsulataAlumnos\u001b[1;34m(self, query)\u001b[0m\n\u001b[0;32m     25\u001b[0m                 \u001b[0mdatabase\u001b[0m\u001b[1;33m=\u001b[0m\u001b[1;34m\"alumnos\"\u001b[0m\u001b[1;33m\u001b[0m\u001b[1;33m\u001b[0m\u001b[0m\n\u001b[0;32m     26\u001b[0m             )\n\u001b[1;32m---> 27\u001b[1;33m         \u001b[1;32mexcept\u001b[0m \u001b[0mmariadb\u001b[0m\u001b[1;33m.\u001b[0m\u001b[0mError\u001b[0m \u001b[1;32mas\u001b[0m \u001b[0me\u001b[0m\u001b[1;33m:\u001b[0m\u001b[1;33m\u001b[0m\u001b[1;33m\u001b[0m\u001b[0m\n\u001b[0m\u001b[0;32m     28\u001b[0m             \u001b[0mprint\u001b[0m\u001b[1;33m(\u001b[0m\u001b[1;34m\"Error al conectarse a la bd \"\u001b[0m\u001b[1;33m,\u001b[0m\u001b[0me\u001b[0m\u001b[1;33m)\u001b[0m\u001b[1;33m\u001b[0m\u001b[1;33m\u001b[0m\u001b[0m\n\u001b[0;32m     29\u001b[0m         \u001b[0mcur\u001b[0m\u001b[1;33m=\u001b[0m\u001b[0mconn\u001b[0m\u001b[1;33m.\u001b[0m\u001b[0mcursor\u001b[0m\u001b[1;33m(\u001b[0m\u001b[1;33m)\u001b[0m\u001b[1;33m\u001b[0m\u001b[1;33m\u001b[0m\u001b[0m\n",
      "\u001b[1;31mNameError\u001b[0m: name 'mariadb' is not defined"
     ]
    }
   ],
   "source": [
    "from tkinter import *\n",
    "from tkinter import ttk\n",
    "class Cliente:\n",
    "    def __init__(self,ventana):\n",
    "        self.ventana=ventana\n",
    "        self.ventana.title(\"Compaz Industrial\")\n",
    "        macro=LabelFrame(self.ventana,text='Clientes')\n",
    "        macro.grid(row=0,column=0,columnspan=3,pady=20)\n",
    "        #Nombre\n",
    "        Label(macro,text=\"Cédula o Ruc\").grid(row=0,column=0)\n",
    "        Entry(macro).grid(row=0,column=1)\n",
    "        #Clave\n",
    "        Label(macro,text=\"Nombre\").grid(row=1,column=0)\n",
    "        Entry(macro).grid(row=1,column=1)\n",
    "        #Boton\n",
    "        ttk.Button(macro,text=\"Guadar cliente\").grid(row=2,columnspan=2,sticky=W+E)\n",
    "        #ttk.Button(marco,text=\"Guardar alumno\").grid(row=2,columnspan=2,sticky=W+E)\n",
    "     \n",
    "    def consulataAlumnos(self,query):\n",
    "        try:\n",
    "            conn=mariadb.connect(\n",
    "                host=\"localhost\",\n",
    "                user=\"root\",\n",
    "                password=\"123456\",\n",
    "                database=\"alumnos\" )\n",
    "            \n",
    "        except mariadb.Error as e:\n",
    "            print(\"Error al conectarse a la bd \",e)\n",
    "        cur=conn.cursor()\n",
    "        cur.execute(query)\n",
    "        return cur\n",
    "    def mostrarDatos(self):\n",
    "        cur=self.consulataAlumnos(\"SELECT `nombre`,`clave` FROM `alumnos`\")\n",
    "        for (nombre,clave) in cur:\n",
    "            print(nombre,clave)\n",
    "            \n",
    "if __name__ ==\"__main__\":\n",
    "    ventana=Tk()\n",
    "    aplicacion= Cliente(ventana)\n",
    "    aplicacion.mostrarDatos()\n",
    "    ventana.mainloop()"
   ]
  },
  {
   "cell_type": "code",
   "execution_count": 2,
   "metadata": {},
   "outputs": [
    {
     "ename": "ModuleNotFoundError",
     "evalue": "No module named 'mariadb'",
     "output_type": "error",
     "traceback": [
      "\u001b[1;31m---------------------------------------------------------------------------\u001b[0m",
      "\u001b[1;31mModuleNotFoundError\u001b[0m                       Traceback (most recent call last)",
      "\u001b[1;32m<ipython-input-2-af1c8e83f723>\u001b[0m in \u001b[0;36m<module>\u001b[1;34m\u001b[0m\n\u001b[0;32m      1\u001b[0m \u001b[1;32mfrom\u001b[0m \u001b[0mtkinter\u001b[0m \u001b[1;32mimport\u001b[0m \u001b[1;33m*\u001b[0m\u001b[1;33m\u001b[0m\u001b[1;33m\u001b[0m\u001b[0m\n\u001b[0;32m      2\u001b[0m \u001b[1;32mfrom\u001b[0m \u001b[0mtkinter\u001b[0m \u001b[1;32mimport\u001b[0m \u001b[0mttk\u001b[0m\u001b[1;33m\u001b[0m\u001b[1;33m\u001b[0m\u001b[0m\n\u001b[1;32m----> 3\u001b[1;33m \u001b[1;32mimport\u001b[0m \u001b[0mmariadb\u001b[0m\u001b[1;33m\u001b[0m\u001b[1;33m\u001b[0m\u001b[0m\n\u001b[0m\u001b[0;32m      4\u001b[0m \u001b[1;33m\u001b[0m\u001b[0m\n\u001b[0;32m      5\u001b[0m \u001b[1;32mclass\u001b[0m \u001b[0mAlumno\u001b[0m\u001b[1;33m:\u001b[0m\u001b[1;33m\u001b[0m\u001b[1;33m\u001b[0m\u001b[0m\n",
      "\u001b[1;31mModuleNotFoundError\u001b[0m: No module named 'mariadb'"
     ]
    }
   ],
   "source": [
    "from tkinter import *\n",
    "from tkinter import ttk\n",
    "import mariadb\n",
    "\n",
    "class Alumno:\n",
    "    def __init__(self,ventana):\n",
    "        self.ventana=ventana\n",
    "        self.ventana.title(\"Hola mundo\")\n",
    "        marco=LabelFrame(self.ventana,text=\"Alumno\")\n",
    "        marco.grid(row=1,columnspan=3,pady=20)\n",
    "        #Nombre\n",
    "        Label(marco,text=\"Nombre\").grid(row=0,column=0)\n",
    "        Entry(marco).grid(row=0,column=1)\n",
    "        #Clave\n",
    "        Label(marco,text=\"Clave\").grid(row=1,column=0)\n",
    "        Entry(marco).grid(row=1,column=1)\n",
    "        #Boton\n",
    "        ttk.Button(marco,text=\"Guardar alumno\").grid(row=2,columnspan=2,sticky=W+E)\n",
    "    def consulataAlumnos(self,query):\n",
    "        try:\n",
    "            conn=mariadb.connect(\n",
    "                host=\"localhost\",\n",
    "                user=\"root\",\n",
    "                password=\"123456\",\n",
    "                database=\"escuela\"\n",
    "            )\n",
    "        except mariadb.Error as e:\n",
    "            print(\"Error al conectarse a la bd \",e)\n",
    "        cur=conn.cursor()\n",
    "        cur.execute(query)\n",
    "        return cur\n",
    "    def mostrarDatos(self):\n",
    "        cur=self.consulataAlumnos(\"SELECT `nombre`,`clave` FROM `alumnos`\")\n",
    "        for (nombre,clave) in cur:\n",
    "            print(nombre,clave)\n",
    "       \n",
    "if __name__ ==\"__main__\":\n",
    "    ventana=Tk()\n",
    "    aplicacion=Alumno(ventana)\n",
    "    aplicacion.mostrarDatos()\n",
    "    ventana.mainloop()"
   ]
  },
  {
   "cell_type": "code",
   "execution_count": null,
   "metadata": {},
   "outputs": [],
   "source": []
  }
 ],
 "metadata": {
  "kernelspec": {
   "display_name": "Python 3",
   "language": "python",
   "name": "python3"
  },
  "language_info": {
   "codemirror_mode": {
    "name": "ipython",
    "version": 3
   },
   "file_extension": ".py",
   "mimetype": "text/x-python",
   "name": "python",
   "nbconvert_exporter": "python",
   "pygments_lexer": "ipython3",
   "version": "3.8.5"
  }
 },
 "nbformat": 4,
 "nbformat_minor": 4
}
