{
 "cells": [
  {
   "cell_type": "code",
   "execution_count": 42,
   "metadata": {},
   "outputs": [
    {
     "name": "stdout",
     "output_type": "stream",
     "text": [
      "MENU Registros\n",
      "\n",
      "1)-Nuevo\n",
      "2)-Mostrar\n",
      "3)-Eliminar Registros\n"
     ]
    },
    {
     "ename": "KeyboardInterrupt",
     "evalue": "Interrupted by user",
     "output_type": "error",
     "traceback": [
      "\u001b[1;31m---------------------------------------------------------------------------\u001b[0m",
      "\u001b[1;31mKeyboardInterrupt\u001b[0m                         Traceback (most recent call last)",
      "\u001b[1;32m<ipython-input-42-3c2eaa83c566>\u001b[0m in \u001b[0;36m<module>\u001b[1;34m\u001b[0m\n\u001b[0;32m      1\u001b[0m \u001b[0mprint\u001b[0m \u001b[1;33m(\u001b[0m\u001b[1;34m\"MENU Registros\\n\\n1)-Nuevo\\n2)-Mostrar\\n3)-Eliminar Registros\"\u001b[0m\u001b[1;33m)\u001b[0m\u001b[1;33m\u001b[0m\u001b[1;33m\u001b[0m\u001b[0m\n\u001b[1;32m----> 2\u001b[1;33m \u001b[0mopcion\u001b[0m \u001b[1;33m=\u001b[0m \u001b[0minput\u001b[0m\u001b[1;33m(\u001b[0m\u001b[1;34m\"Eige una opción:\"\u001b[0m\u001b[1;33m)\u001b[0m\u001b[1;33m\u001b[0m\u001b[1;33m\u001b[0m\u001b[0m\n\u001b[0m\u001b[0;32m      3\u001b[0m \u001b[1;33m\u001b[0m\u001b[0m\n\u001b[0;32m      4\u001b[0m \u001b[1;32mif\u001b[0m \u001b[0mopcion\u001b[0m \u001b[1;33m==\u001b[0m \u001b[1;34m'1'\u001b[0m\u001b[1;33m:\u001b[0m\u001b[1;33m\u001b[0m\u001b[1;33m\u001b[0m\u001b[0m\n\u001b[0;32m      5\u001b[0m     \u001b[0mprint\u001b[0m\u001b[1;33m(\u001b[0m\u001b[1;34m\"Nuevo Registro\\n\"\u001b[0m\u001b[1;33m)\u001b[0m\u001b[1;33m\u001b[0m\u001b[1;33m\u001b[0m\u001b[0m\n",
      "\u001b[1;32m~\\anaconda3\\lib\\site-packages\\ipykernel\\kernelbase.py\u001b[0m in \u001b[0;36mraw_input\u001b[1;34m(self, prompt)\u001b[0m\n\u001b[0;32m    858\u001b[0m                 \u001b[1;34m\"raw_input was called, but this frontend does not support input requests.\"\u001b[0m\u001b[1;33m\u001b[0m\u001b[1;33m\u001b[0m\u001b[0m\n\u001b[0;32m    859\u001b[0m             )\n\u001b[1;32m--> 860\u001b[1;33m         return self._input_request(str(prompt),\n\u001b[0m\u001b[0;32m    861\u001b[0m             \u001b[0mself\u001b[0m\u001b[1;33m.\u001b[0m\u001b[0m_parent_ident\u001b[0m\u001b[1;33m,\u001b[0m\u001b[1;33m\u001b[0m\u001b[1;33m\u001b[0m\u001b[0m\n\u001b[0;32m    862\u001b[0m             \u001b[0mself\u001b[0m\u001b[1;33m.\u001b[0m\u001b[0m_parent_header\u001b[0m\u001b[1;33m,\u001b[0m\u001b[1;33m\u001b[0m\u001b[1;33m\u001b[0m\u001b[0m\n",
      "\u001b[1;32m~\\anaconda3\\lib\\site-packages\\ipykernel\\kernelbase.py\u001b[0m in \u001b[0;36m_input_request\u001b[1;34m(self, prompt, ident, parent, password)\u001b[0m\n\u001b[0;32m    902\u001b[0m             \u001b[1;32mexcept\u001b[0m \u001b[0mKeyboardInterrupt\u001b[0m\u001b[1;33m:\u001b[0m\u001b[1;33m\u001b[0m\u001b[1;33m\u001b[0m\u001b[0m\n\u001b[0;32m    903\u001b[0m                 \u001b[1;31m# re-raise KeyboardInterrupt, to truncate traceback\u001b[0m\u001b[1;33m\u001b[0m\u001b[1;33m\u001b[0m\u001b[1;33m\u001b[0m\u001b[0m\n\u001b[1;32m--> 904\u001b[1;33m                 \u001b[1;32mraise\u001b[0m \u001b[0mKeyboardInterrupt\u001b[0m\u001b[1;33m(\u001b[0m\u001b[1;34m\"Interrupted by user\"\u001b[0m\u001b[1;33m)\u001b[0m \u001b[1;32mfrom\u001b[0m \u001b[1;32mNone\u001b[0m\u001b[1;33m\u001b[0m\u001b[1;33m\u001b[0m\u001b[0m\n\u001b[0m\u001b[0;32m    905\u001b[0m             \u001b[1;32mexcept\u001b[0m \u001b[0mException\u001b[0m \u001b[1;32mas\u001b[0m \u001b[0me\u001b[0m\u001b[1;33m:\u001b[0m\u001b[1;33m\u001b[0m\u001b[1;33m\u001b[0m\u001b[0m\n\u001b[0;32m    906\u001b[0m                 \u001b[0mself\u001b[0m\u001b[1;33m.\u001b[0m\u001b[0mlog\u001b[0m\u001b[1;33m.\u001b[0m\u001b[0mwarning\u001b[0m\u001b[1;33m(\u001b[0m\u001b[1;34m\"Invalid Message:\"\u001b[0m\u001b[1;33m,\u001b[0m \u001b[0mexc_info\u001b[0m\u001b[1;33m=\u001b[0m\u001b[1;32mTrue\u001b[0m\u001b[1;33m)\u001b[0m\u001b[1;33m\u001b[0m\u001b[1;33m\u001b[0m\u001b[0m\n",
      "\u001b[1;31mKeyboardInterrupt\u001b[0m: Interrupted by user"
     ]
    }
   ],
   "source": [
    "print (\"MENU Registros\\n\\n1)-Nuevo\\n2)-Mostrar todos los registros\\n3)-Eliminar todos los Registros\")\n",
    "opcion = input(\"Eige una opción:\")\n",
    "\n",
    "if opcion == '1':\n",
    "    print(\"Nuevo Registro\\n\")\n",
    "    archivo = open (\"ejemplo.csv\",\"a\")\n",
    "    \n",
    "    nombre = input(\"Ingrese el nombre de el cliente\")\n",
    "    telefono = input('Ingrese el teléfono de el cliente')\n",
    "    fecha = input('Ingrese la fecha de la factura; dia/mes/año')\n",
    "    numero_de_factura = input('Ingrese el numero de la factura')\n",
    "    forma_de_pago = input('Ingrese la forma de pago')\n",
    "    linea_de_credito = input('Disponde de linea de credito: Si ó No')\n",
    "    if linea_de_credito.lower() == \"si\":\n",
    "            credito= input('Ingrese el valor total de el credito:')\n",
    "            abono= input('Ingrese el valor total abonado hasta la fecha:')\n",
    "            le_falta_por_pagar = int(credito)-int(abono)\n",
    "            le_falta_por_pagar= str(le_falta_por_pagar)\n",
    "            print(\"Se han guardado\",nombre,'con la fecha',fecha,'número de factura',numero_de_factura,\n",
    "                   'y la forma de pago fue:',forma_de_pago,',el cual cuenta con una linea de credito por'\n",
    "                   ,credito,'de lo cual tiene abonado',abono,'por lo tanto le falta por pagar :',le_falta_por_pagar,'dolares')\n",
    "            archivo.write(nombre)\n",
    "            archivo.write(\",\")\n",
    "            archivo.write(telefono)\n",
    "            archivo.write(\",\")\n",
    "            archivo.write(fecha)\n",
    "            archivo.write(\",\")\n",
    "            archivo.write(numero_de_factura)\n",
    "            archivo.write(\",\")\n",
    "            archivo.write(forma_de_pago)\n",
    "            archivo.write(\",\")\n",
    "            archivo.write(credito)\n",
    "            archivo.write(\",\")\n",
    "            archivo.write(abono)\n",
    "            archivo.write(\",\")\n",
    "            archivo.write(le_falta_por_pagar)\n",
    "            archivo.write(\",\")\n",
    "            archivo.write(\"\\n\")\n",
    "            archivo.close()\n",
    "            \n",
    "    else:\n",
    "        cancela_toda_la_factura=(\"Cancela toda la factura\")\n",
    "        #cancelo el total\n",
    "        print(\"Se han guardado\",nombre,'con la fecha',fecha,'número de factura',numero_de_factura,'la forma de pago fue:',forma_de_pago,'y',cancela_toda_la_factura,)\n",
    "\n",
    "elif opcion == '2':\n",
    "    print('Mostrar registros\\n')\n",
    "    archivo = open (\"ejemplo.csv\")\n",
    "    \n",
    "    print(archivo.read())\n",
    "    \n",
    "    archivo.close()\n",
    "\n",
    "elif opcion ==\"3\":\n",
    "    archivo = open (\"ejemplo.csv\")\n",
    "    archivo.trucate()\n",
    "    print(\"Registros eliminados\")\n",
    "        \n",
    "else: \n",
    "    print(\"Debes elejir una opción\")"
   ]
  },
  {
   "cell_type": "code",
   "execution_count": null,
   "metadata": {},
   "outputs": [],
   "source": []
  }
 ],
 "metadata": {
  "kernelspec": {
   "display_name": "Python 3",
   "language": "python",
   "name": "python3"
  },
  "language_info": {
   "codemirror_mode": {
    "name": "ipython",
    "version": 3
   },
   "file_extension": ".py",
   "mimetype": "text/x-python",
   "name": "python",
   "nbconvert_exporter": "python",
   "pygments_lexer": "ipython3",
   "version": "3.8.5"
  }
 },
 "nbformat": 4,
 "nbformat_minor": 4
}
