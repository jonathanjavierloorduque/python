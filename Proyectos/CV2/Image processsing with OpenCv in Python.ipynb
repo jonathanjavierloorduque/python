{
 "cells": [
  {
   "cell_type": "markdown",
   "id": "69b2aad2",
   "metadata": {},
   "source": [
    "Chapter 1:Sofware and packages"
   ]
  },
  {
   "cell_type": "code",
   "execution_count": 1,
   "id": "14f8dda1",
   "metadata": {},
   "outputs": [],
   "source": [
    "import numpy as np\n",
    "import cv2\n",
    "from matplotlib import pyplot as plt"
   ]
  },
  {
   "cell_type": "code",
   "execution_count": 2,
   "id": "1ec44edc",
   "metadata": {},
   "outputs": [],
   "source": [
    "## Chapter2: basic operations on image"
   ]
  },
  {
   "cell_type": "code",
   "execution_count": 3,
   "id": "c0319dbd",
   "metadata": {},
   "outputs": [],
   "source": [
    "img=cv2.imread(\"im0.png\",0)"
   ]
  },
  {
   "cell_type": "code",
   "execution_count": 4,
   "id": "76354fe5",
   "metadata": {
    "scrolled": true
   },
   "outputs": [
    {
     "data": {
      "text/plain": [
       "array([[202, 202, 202, ...,  53,  53,  53],\n",
       "       [202, 202, 202, ...,  53,  53,  53],\n",
       "       [202, 202, 202, ...,  53,  53,  53],\n",
       "       ...,\n",
       "       [202, 202, 202, ..., 202, 202, 202],\n",
       "       [202, 202, 202, ..., 202, 202, 202],\n",
       "       [202, 202, 202, ..., 202, 202, 202]], dtype=uint8)"
      ]
     },
     "execution_count": 4,
     "metadata": {},
     "output_type": "execute_result"
    }
   ],
   "source": [
    "img"
   ]
  },
  {
   "cell_type": "code",
   "execution_count": 5,
   "id": "baa32a8e",
   "metadata": {},
   "outputs": [],
   "source": [
    "def wind(image):\n",
    "    cv2.namedWindow(\"image\",cv2.WINDOW_NORMAL)\n",
    "    cv2.imshow('window',image)\n",
    "    cv2.waitKey(0)\n",
    "    cv2.destroyAllWindows()"
   ]
  },
  {
   "cell_type": "code",
   "execution_count": null,
   "id": "ad65ee9d",
   "metadata": {},
   "outputs": [],
   "source": [
    "wind(img)"
   ]
  },
  {
   "cell_type": "code",
   "execution_count": 6,
   "id": "03320722",
   "metadata": {},
   "outputs": [],
   "source": [
    "imgCol=cv2.imread(\"im0.png\",1)"
   ]
  },
  {
   "cell_type": "code",
   "execution_count": null,
   "id": "8f1cdc65",
   "metadata": {},
   "outputs": [],
   "source": [
    "wind(imgCol)"
   ]
  },
  {
   "cell_type": "code",
   "execution_count": null,
   "id": "8757abff",
   "metadata": {},
   "outputs": [],
   "source": []
  },
  {
   "cell_type": "markdown",
   "id": "8e18196e",
   "metadata": {},
   "source": [
    "img = cv2.imread('im0.png')\n",
    "plt.imshow(img, cmap = 'gray', interpolation = 'bicubic')\n",
    "plt.xticks([]), plt.yticks([])  # to hide tick values on X and Y axis\n",
    "plt.show()"
   ]
  },
  {
   "cell_type": "markdown",
   "id": "3be3a3ba",
   "metadata": {},
   "source": [
    "imgCol=cv2.imread('im0.png',1)\n",
    "plt.imshow(img, cmap = 'gray', interpolation = 'bicubic')\n",
    "plt.xticks([]), plt.yticks([])  # to hide tick values on X and Y axis\n",
    "plt.show()"
   ]
  },
  {
   "cell_type": "code",
   "execution_count": null,
   "id": "ff93c261",
   "metadata": {},
   "outputs": [],
   "source": [
    "#Resizing, cropping and exporting"
   ]
  },
  {
   "cell_type": "code",
   "execution_count": null,
   "id": "5d8ffb04",
   "metadata": {},
   "outputs": [],
   "source": [
    "imgres=cv2.resize(imgCol,dsize=None, fx=0.2, fy=0.2, interpolation=cv2.INTER_CUBIC)"
   ]
  },
  {
   "cell_type": "code",
   "execution_count": null,
   "id": "799f5672",
   "metadata": {},
   "outputs": [],
   "source": [
    "cv2.imshow(\"window\",imgres)\n",
    "cv2.waitKey(0)\n",
    "cv2.destroyAllWindows()"
   ]
  },
  {
   "cell_type": "markdown",
   "id": "3e6638b6",
   "metadata": {},
   "source": [
    "plt.imshow(imgres, cmap = 'gray', interpolation = 'bicubic')\n",
    "plt.xticks([]), plt.yticks([])  # to hide tick values on X and Y axis\n",
    "plt.show()"
   ]
  },
  {
   "cell_type": "code",
   "execution_count": null,
   "id": "d5f1d817",
   "metadata": {},
   "outputs": [],
   "source": [
    "cropped=imgres[200:300,300:500]"
   ]
  },
  {
   "cell_type": "code",
   "execution_count": null,
   "id": "39771919",
   "metadata": {},
   "outputs": [],
   "source": [
    "plt.imshow(cropped, cmap = 'gray', interpolation = 'bicubic')\n",
    "plt.xticks([]), plt.yticks([])  # to hide tick values on X and Y axis\n",
    "plt.show()\n",
    "\n"
   ]
  },
  {
   "cell_type": "code",
   "execution_count": null,
   "id": "046e2cee",
   "metadata": {},
   "outputs": [],
   "source": []
  }
 ],
 "metadata": {
  "kernelspec": {
   "display_name": "Python 3 (ipykernel)",
   "language": "python",
   "name": "python3"
  },
  "language_info": {
   "codemirror_mode": {
    "name": "ipython",
    "version": 3
   },
   "file_extension": ".py",
   "mimetype": "text/x-python",
   "name": "python",
   "nbconvert_exporter": "python",
   "pygments_lexer": "ipython3",
   "version": "3.7.5"
  }
 },
 "nbformat": 4,
 "nbformat_minor": 5
}
