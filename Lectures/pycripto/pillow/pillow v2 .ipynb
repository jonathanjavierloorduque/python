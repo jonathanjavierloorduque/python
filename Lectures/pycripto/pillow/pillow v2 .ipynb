{
 "cells": [
  {
   "cell_type": "code",
   "execution_count": 10,
   "metadata": {},
   "outputs": [],
   "source": [
    "from PIL import Image\n",
    "import sys\n",
    "try:\n",
    "    img = Image.open(\"gato.jpg\")\n",
    "except:\n",
    "    print(\"No se pudo cargar la imagen\")\n",
    "    sys.exit(1)\n",
    "#img.show()# mostrar imagen\n",
    "img.save(\"paisaje.png\",\"png\")\n"
   ]
  },
  {
   "cell_type": "code",
   "execution_count": 12,
   "metadata": {},
   "outputs": [],
   "source": [
    "img2 = img.rotate(45)#Rotación de imágenes\n",
    "img2.show() #Mostrar la imagen\n"
   ]
  },
  {
   "cell_type": "code",
   "execution_count": 13,
   "metadata": {},
   "outputs": [
    {
     "name": "stdout",
     "output_type": "stream",
     "text": [
      "Ancho:  1140\n",
      "Alto:  855\n"
     ]
    }
   ],
   "source": [
    "ancho,alto = img.size#Encontrar ancho y alto de una imagen\n",
    "print(\"Ancho: \",ancho)\n",
    "print(\"Alto: \",alto)"
   ]
  },
  {
   "cell_type": "code",
   "execution_count": 14,
   "metadata": {},
   "outputs": [],
   "source": [
    "size = (200,200)#Reescalar imágenes y crear thumbnails\n",
    "img3 = img.resize(size)\n",
    "img4 = img.copy()\n",
    "img4.thumbnail(size) #mantiene aspecto del 200 por 200\n",
    "img3.show()\n",
    "img4.show()# a la fuerza"
   ]
  },
  {
   "cell_type": "code",
   "execution_count": 15,
   "metadata": {},
   "outputs": [
    {
     "name": "stdout",
     "output_type": "stream",
     "text": [
      "(228, 202, 185)\n"
     ]
    }
   ],
   "source": [
    "pixels = img.load()#Averiguar los colores de un pixel\n",
    "colores = pixels[20,20]\n",
    "print(colores) #Rgb"
   ]
  },
  {
   "cell_type": "code",
   "execution_count": null,
   "metadata": {},
   "outputs": [],
   "source": []
  }
 ],
 "metadata": {
  "kernelspec": {
   "display_name": "Python 3",
   "language": "python",
   "name": "python3"
  },
  "language_info": {
   "codemirror_mode": {
    "name": "ipython",
    "version": 3
   },
   "file_extension": ".py",
   "mimetype": "text/x-python",
   "name": "python",
   "nbconvert_exporter": "python",
   "pygments_lexer": "ipython3",
   "version": "3.8.5"
  }
 },
 "nbformat": 4,
 "nbformat_minor": 4
}
