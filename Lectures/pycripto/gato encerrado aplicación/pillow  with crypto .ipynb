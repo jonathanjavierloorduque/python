{
 "cells": [
  {
   "cell_type": "markdown",
   "metadata": {},
   "source": [
    "**Vestir al gato de preso"
   ]
  },
  {
   "cell_type": "code",
   "execution_count": 2,
   "metadata": {},
   "outputs": [],
   "source": [
    "from PIL import Image\n",
    "#import sys\n",
    "try:\n",
    "    img = Image.open(\"gato.jpg\")\n",
    "except:\n",
    "    print(\"No se pudo cargar la imagen\")\n",
    "    sys.exit(1)\n",
    "#img.show()# mostrar imagen\n",
    "img.save(\"gato_vestido_de_preso.png\",\"png\")\n",
    "\n"
   ]
  },
  {
   "cell_type": "markdown",
   "metadata": {},
   "source": [
    "**Buscar la carcel y la cerradura para encerrar al gato"
   ]
  },
  {
   "cell_type": "markdown",
   "metadata": {},
   "source": [
    "*generamos la clave"
   ]
  },
  {
   "cell_type": "code",
   "execution_count": 3,
   "metadata": {},
   "outputs": [
    {
     "name": "stdout",
     "output_type": "stream",
     "text": [
      "b'aadw2NmzpvzqWJiUYvic2AAYjwUENT4Tbid8Dy1uZy0='\n"
     ]
    }
   ],
   "source": [
    "from cryptography.fernet import Fernet\n",
    "\n",
    "key = Fernet.generate_key()\n",
    "print(key)\n"
   ]
  },
  {
   "cell_type": "markdown",
   "metadata": {},
   "source": [
    "*guardamos la clave generada"
   ]
  },
  {
   "cell_type": "code",
   "execution_count": 4,
   "metadata": {},
   "outputs": [
    {
     "name": "stdout",
     "output_type": "stream",
     "text": [
      "b'aadw2NmzpvzqWJiUYvic2AAYjwUENT4Tbid8Dy1uZy0='\n"
     ]
    }
   ],
   "source": [
    "file =open(\"key.key\", \"wb\")\n",
    "file.write(key) #el tipo de claves esta en bytes\n",
    "file.close()\n",
    "print(key)"
   ]
  },
  {
   "cell_type": "markdown",
   "metadata": {},
   "source": [
    "*le guardamos en su celda y le ponemos candado"
   ]
  },
  {
   "cell_type": "code",
   "execution_count": 5,
   "metadata": {},
   "outputs": [],
   "source": [
    "from cryptography.fernet import Fernet\n",
    "\n",
    "#obtener la clave desde un archivo\n",
    "file = open(\"key.key\", \"rb\")\n",
    "key = file.read() # la claver sera en tipo byte\n",
    "file.close()\n",
    "\n",
    "\n",
    "#abrir el archivo a encryptar y encriptarlo\n",
    "with open(\"gato_vestido_de_preso.png\",\"rb\") as f :\n",
    "     data = f.read()\n",
    "\n",
    "fernet = Fernet(key)\n",
    "encrypted = fernet.encrypt(data)\n",
    "\n",
    "#escribir el archivo encriptado\n",
    "\n",
    "with open(\"gato_vestido_de_preso.png.encrypted\",\"wb\") as f:\n",
    "    f.write(encrypted)"
   ]
  },
  {
   "cell_type": "markdown",
   "metadata": {},
   "source": [
    "*una vez en la carcel \"lechuga\" ~ el gato decide mandarle un mensaje a un amigo que se encuntra afuera de la carcel"
   ]
  },
  {
   "cell_type": "code",
   "execution_count": 6,
   "metadata": {},
   "outputs": [
    {
     "name": "stdout",
     "output_type": "stream",
     "text": [
      "b'gAAAAABgAeMIPNgSTtmKowiktbgzw7IWHiHSDrlpSYY5F4xHF2F3qkeMVqJE6DpFqEozHBctT49nHL4qlD-0l3y8tgathxFuFvoIE05AGR-tCBAE84hPxGA='\n",
      "b'Parce que me cazaron ayudeme '\n",
      "Parce que me cazaron ayudeme \n"
     ]
    }
   ],
   "source": [
    "from cryptography.fernet import Fernet\n",
    "#obtener la clave desde un archivo\n",
    "file = open(\"key.key\", \"rb\")\n",
    "key = file.read() # la claver sera en tipo byte\n",
    "file.close()\n",
    "#Mensaje codificado\n",
    "message = \"Parce que me cazaron ayudeme \"\n",
    "encoded = message.encode()\n",
    "\n",
    "#encriptado de el mensaje\n",
    "f = Fernet(key)\n",
    "encrypted = f.encrypt(encoded)\n",
    "print(encrypted)\n",
    "\n",
    "#desencriptado\n",
    "f2 = Fernet(key)\n",
    "decrypted = decrypted = f2.decrypt(encrypted)\n",
    "print(decrypted)\n",
    "\n",
    "#decodificar el mensaje\n",
    "original_message =decrypted.decode()\n",
    "print(original_message)"
   ]
  },
  {
   "cell_type": "markdown",
   "metadata": {},
   "source": [
    "*afortunadamente su amigo pago su fianza y salio"
   ]
  },
  {
   "cell_type": "code",
   "execution_count": 7,
   "metadata": {},
   "outputs": [],
   "source": [
    "from cryptography.fernet import Fernet\n",
    "\n",
    "#obtener la clave desde un archivo\n",
    "file = open(\"key.key\", \"rb\")\n",
    "key = file.read() # la claver sera en tipo byte\n",
    "file.close()\n",
    "\n",
    "\n",
    "#abrir el archivo a encryptado y desencriptarlo\n",
    "with open(\"gato_vestido_de_preso.png.encrypted\",\"rb\") as f:\n",
    "     data = f.read()\n",
    "\n",
    "fernet = Fernet(key)\n",
    "encrypted = fernet.decrypt(data)\n",
    "\n",
    "#sobrescribir el archivo encriptado\n",
    "\n",
    "with open(\"gato_vestido_de_preso.png.decrypted\",\"wb\") as f:\n",
    "    f.write(encrypted)\n"
   ]
  },
  {
   "cell_type": "markdown",
   "metadata": {},
   "source": [
    "# FIN"
   ]
  },
  {
   "cell_type": "code",
   "execution_count": 12,
   "metadata": {},
   "outputs": [],
   "source": [
    "img2 = img.rotate(45)#Rotación de imágenes\n",
    "img2.show() #Mostrar la imagen\n"
   ]
  },
  {
   "cell_type": "code",
   "execution_count": 13,
   "metadata": {},
   "outputs": [
    {
     "name": "stdout",
     "output_type": "stream",
     "text": [
      "Ancho:  1140\n",
      "Alto:  855\n"
     ]
    }
   ],
   "source": [
    "ancho,alto = img.size#Encontrar ancho y alto de una imagen\n",
    "print(\"Ancho: \",ancho)\n",
    "print(\"Alto: \",alto)"
   ]
  },
  {
   "cell_type": "code",
   "execution_count": 14,
   "metadata": {},
   "outputs": [],
   "source": [
    "size = (200,200)#Reescalar imágenes y crear thumbnails\n",
    "img3 = img.resize(size)\n",
    "img4 = img.copy()\n",
    "img4.thumbnail(size) #mantiene aspecto del 200 por 200\n",
    "img3.show()\n",
    "img4.show()# a la fuerza"
   ]
  },
  {
   "cell_type": "code",
   "execution_count": 15,
   "metadata": {},
   "outputs": [
    {
     "name": "stdout",
     "output_type": "stream",
     "text": [
      "(228, 202, 185)\n"
     ]
    }
   ],
   "source": [
    "pixels = img.load()#Averiguar los colores de un pixel\n",
    "colores = pixels[20,20]\n",
    "print(colores) #Rgb"
   ]
  },
  {
   "cell_type": "code",
   "execution_count": null,
   "metadata": {},
   "outputs": [],
   "source": []
  }
 ],
 "metadata": {
  "kernelspec": {
   "display_name": "Python 3",
   "language": "python",
   "name": "python3"
  },
  "language_info": {
   "codemirror_mode": {
    "name": "ipython",
    "version": 3
   },
   "file_extension": ".py",
   "mimetype": "text/x-python",
   "name": "python",
   "nbconvert_exporter": "python",
   "pygments_lexer": "ipython3",
   "version": "3.8.5"
  }
 },
 "nbformat": 4,
 "nbformat_minor": 4
}
