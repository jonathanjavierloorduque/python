{
 "cells": [
  {
   "cell_type": "code",
   "execution_count": 1,
   "id": "51839399",
   "metadata": {},
   "outputs": [
    {
     "name": "stdout",
     "output_type": "stream",
     "text": [
      "Hola\n"
     ]
    }
   ],
   "source": [
    "print(\"Hola\")"
   ]
  },
  {
   "cell_type": "code",
   "execution_count": 15,
   "id": "45ac651a",
   "metadata": {},
   "outputs": [
    {
     "name": "stdout",
     "output_type": "stream",
     "text": [
      "Mi nombre es Jonathan\n"
     ]
    }
   ],
   "source": [
    "print(\"Mi nombre es Jonathan\")"
   ]
  },
  {
   "cell_type": "code",
   "execution_count": 17,
   "id": "62703832",
   "metadata": {},
   "outputs": [
    {
     "name": "stdout",
     "output_type": "stream",
     "text": [
      "34\n"
     ]
    }
   ],
   "source": [
    "w=34\n",
    "\n",
    "print(w)"
   ]
  },
  {
   "cell_type": "markdown",
   "id": "39ab0a6b",
   "metadata": {},
   "source": [
    "## Variables y constantes en Python."
   ]
  },
  {
   "cell_type": "code",
   "execution_count": 5,
   "id": "522e8e8d",
   "metadata": {},
   "outputs": [],
   "source": [
    "mi_variable=132"
   ]
  },
  {
   "cell_type": "code",
   "execution_count": 6,
   "id": "230740ef",
   "metadata": {},
   "outputs": [
    {
     "data": {
      "text/plain": [
       "132"
      ]
     },
     "execution_count": 6,
     "metadata": {},
     "output_type": "execute_result"
    }
   ],
   "source": [
    "mi_variable"
   ]
  },
  {
   "cell_type": "code",
   "execution_count": 18,
   "id": "167230a5",
   "metadata": {},
   "outputs": [],
   "source": [
    "MI_CONSTANTE=140"
   ]
  },
  {
   "cell_type": "code",
   "execution_count": 19,
   "id": "8eafe413",
   "metadata": {},
   "outputs": [
    {
     "data": {
      "text/plain": [
       "140"
      ]
     },
     "execution_count": 19,
     "metadata": {},
     "output_type": "execute_result"
    }
   ],
   "source": [
    "MI_CONSTANTE"
   ]
  },
  {
   "cell_type": "code",
   "execution_count": 13,
   "id": "8b148f8a",
   "metadata": {},
   "outputs": [
    {
     "name": "stdout",
     "output_type": "stream",
     "text": [
      "Tu numero es igual a 10\n"
     ]
    }
   ],
   "source": [
    "x=10;\n",
    "if x>10:\n",
    "    print(\"Tu numero\", x, \"Es mayor que 10 \");\n",
    "if x==10:\n",
    "    print(\"Tu numero es igual a 10\")\n",
    "else:\n",
    "    print(\"Tu numero es menor que 10\" );"
   ]
  },
  {
   "cell_type": "code",
   "execution_count": null,
   "id": "4ae57b32",
   "metadata": {},
   "outputs": [],
   "source": []
  }
 ],
 "metadata": {
  "kernelspec": {
   "display_name": "Python 3 (ipykernel)",
   "language": "python",
   "name": "python3"
  },
  "language_info": {
   "codemirror_mode": {
    "name": "ipython",
    "version": 3
   },
   "file_extension": ".py",
   "mimetype": "text/x-python",
   "name": "python",
   "nbconvert_exporter": "python",
   "pygments_lexer": "ipython3",
   "version": "3.9.12"
  }
 },
 "nbformat": 4,
 "nbformat_minor": 5
}
