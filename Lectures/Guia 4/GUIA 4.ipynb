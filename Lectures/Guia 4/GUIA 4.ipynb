{
 "cells": [
  {
   "cell_type": "code",
   "execution_count": 3,
   "metadata": {},
   "outputs": [
    {
     "name": "stdout",
     "output_type": "stream",
     "text": [
      "True\n",
      "True\n",
      "False\n",
      "False\n",
      "[1, 2, 2, 3]\n"
     ]
    }
   ],
   "source": [
    "nums = [1,2,2,3]\n",
    "print(not 4 in nums)\n",
    "print(4 not in nums)\n",
    "print(not 3 in nums)\n",
    "print(3 not in nums)\n",
    "\n",
    "nums1=list(filter(lambda x: x==x,nums))\n",
    "print(nums1)"
   ]
  },
  {
   "cell_type": "code",
   "execution_count": null,
   "metadata": {},
   "outputs": [],
   "source": []
  },
  {
   "cell_type": "code",
   "execution_count": 1,
   "metadata": {},
   "outputs": [
    {
     "name": "stdout",
     "output_type": "stream",
     "text": [
      "[1, 2, 3]\n"
     ]
    }
   ],
   "source": [
    "nums = [3,2,1]\n",
    "nums.sort()\n",
    "print(nums)"
   ]
  },
  {
   "cell_type": "code",
   "execution_count": 13,
   "metadata": {},
   "outputs": [
    {
     "name": "stdout",
     "output_type": "stream",
     "text": [
      "1\t2\t3\t\n",
      "4\t5\t6\t\n",
      "7\t8\t9\t\n",
      "1\t2\t3\t\n",
      "4\t5\t6\t\n",
      "7\t8\t9\t\n",
      "Suma de matriz A + B\n",
      "2\t4\t6\t8\t10\t12\t14\t16\t18\tResta de matriz A - B\n",
      "0\t0\t0\t0\t0\t0\t0\t0\t0\tProducto de la matriz A X B\n",
      "1\t4\t9\t16\t25\t36\t49\t64\t81\t([1, 2, 3], [4, 5, 6], [7, 8, 9], [1, 2, 3], [4, 5, 6], [7, 8, 9], [1, 2, 3], [4, 5, 6], [7, 8, 9])\n"
     ]
    }
   ],
   "source": [
    "nums=([1,2,3],[4,5,6],[7,8,9])\n",
    "nums1=([1,2,3],[4,5,6],[7,8,9])\n",
    "for i in range (len(nums)):\n",
    "    for j in range (len(nums[i])):\n",
    "        print(nums[i][j],end=\"\\t\")\n",
    "    print(\"\")\n",
    "for i in range (len(nums1)):\n",
    "    for j in range (len(nums1[i])):\n",
    "        print(nums1[i][j],end=\"\\t\")\n",
    "    print(\"\")\n",
    "    \n",
    "print(\"Suma de matriz A + B\")\n",
    "for i in range (len(nums)):\n",
    "    for j in range (len(nums[i])):\n",
    "        suma_de_AB=nums[i][j]+nums1[i][j]\n",
    "        print(suma_de_AB,end=\"\\t\")\n",
    "        \n",
    "        \n",
    "print(\"Resta de matriz A - B\")\n",
    "for i in range (len(nums)):\n",
    "    for j in range (len(nums[i])):\n",
    "        sumaconnumerosnegativos_de_AB=nums[i][j]-nums1[i][j]\n",
    "        print(sumaconnumerosnegativos_de_AB,end=\"\\t\")\n",
    "print(\"Producto de la matriz A X B\")\n",
    "for i in range (len(nums)):\n",
    "    for j in range (len(nums[i])):\n",
    "        producto_de_AB=nums[i][j]*nums1[i][j]\n",
    "        print(producto_de_AB,end=\"\\t\")\n",
    "print(nums*3)"
   ]
  },
  {
   "cell_type": "code",
   "execution_count": 35,
   "metadata": {},
   "outputs": [
    {
     "name": "stdout",
     "output_type": "stream",
     "text": [
      "Ingrese la dimención de la matriz cuadrada6\n",
      "Elemento 0,0:1\n",
      "Elemento 0,1:1\n",
      "Elemento 0,2:1\n",
      "Elemento 0,3:0\n",
      "Elemento 0,4:0\n",
      "Elemento 0,5:0\n",
      "Elemento 1,0:1\n",
      "Elemento 1,1:1\n",
      "Elemento 1,2:1\n",
      "Elemento 1,3:0\n",
      "Elemento 1,4:0\n",
      "Elemento 1,5:0\n",
      "Elemento 2,0:1\n",
      "Elemento 2,1:1\n",
      "Elemento 2,2:1\n",
      "Elemento 2,3:0\n",
      "Elemento 2,4:0\n",
      "Elemento 2,5:0\n",
      "Elemento 3,0:0\n",
      "Elemento 3,1:0\n",
      "Elemento 3,2:0\n",
      "Elemento 3,3:1\n",
      "Elemento 3,4:1\n",
      "Elemento 3,5:1\n",
      "Elemento 4,0:0\n",
      "Elemento 4,1:0\n",
      "Elemento 4,2:0\n",
      "Elemento 4,3:1\n",
      "Elemento 4,4:1\n",
      "Elemento 4,5:1\n",
      "Elemento 5,0:0\n",
      "Elemento 5,1:0\n",
      "Elemento 5,2:0\n",
      "Elemento 5,3:1\n",
      "Elemento 5,4:1\n",
      "Elemento 5,5:1\n",
      "[[1, 1, 1, 0, 0, 0], [1, 1, 1, 0, 0, 0], [1, 1, 1, 0, 0, 0], [0, 0, 0, 1, 1, 1], [0, 0, 0, 1, 1, 1], [0, 0, 0, 1, 1, 1]]\n"
     ]
    }
   ],
   "source": [
    "matriz = []\n",
    "x=int(input('Ingrese la dimención de la matriz cuadrada'))\n",
    "filas = x\n",
    "columnas = x\n",
    "\n",
    "for i in range(filas):\n",
    "    matriz.append([0]*columnas)\n",
    "for f in range(filas):\n",
    "    for c in range(columnas):\n",
    "        matriz[f][c] = int(input(\"Elemento %d,%d:\" % (f,c)))\n",
    "print (matriz)"
   ]
  },
  {
   "cell_type": "code",
   "execution_count": 36,
   "metadata": {},
   "outputs": [
    {
     "name": "stdout",
     "output_type": "stream",
     "text": [
      "Ingrese la dimención de la matriz cuadrada7\n",
      "Elemento 0,0:1\n",
      "Elemento 0,1:2\n",
      "Elemento 0,2:0\n",
      "Elemento 0,3:0\n",
      "Elemento 0,4:0\n",
      "Elemento 0,5:2\n",
      "Elemento 0,6:1\n",
      "Elemento 1,0:2\n",
      "Elemento 1,1:1\n",
      "Elemento 1,2:2\n",
      "Elemento 1,3:0\n",
      "Elemento 1,4:2\n",
      "Elemento 1,5:1\n",
      "Elemento 1,6:2\n",
      "Elemento 2,0:0\n",
      "Elemento 2,1:2\n",
      "Elemento 2,2:1\n",
      "Elemento 2,3:2\n",
      "Elemento 2,4:1\n",
      "Elemento 2,5:2\n",
      "Elemento 2,6:0\n",
      "Elemento 3,0:0\n",
      "Elemento 3,1:0\n",
      "Elemento 3,2:2\n",
      "Elemento 3,3:1\n",
      "Elemento 3,4:2\n",
      "Elemento 3,5:0\n",
      "Elemento 3,6:0\n",
      "Elemento 4,0:0\n",
      "Elemento 4,1:2\n",
      "Elemento 4,2:1\n",
      "Elemento 4,3:2\n",
      "Elemento 4,4:1\n",
      "Elemento 4,5:2\n",
      "Elemento 4,6:0\n",
      "Elemento 5,0:2\n",
      "Elemento 5,1:1\n",
      "Elemento 5,2:2\n",
      "Elemento 5,3:0\n",
      "Elemento 5,4:2\n",
      "Elemento 5,5:1\n",
      "Elemento 5,6:2\n",
      "Elemento 6,0:1\n",
      "Elemento 6,1:2\n",
      "Elemento 6,2:0\n",
      "Elemento 6,3:0\n",
      "Elemento 6,4:0\n",
      "Elemento 6,5:2\n",
      "Elemento 6,6:1\n",
      "[[1, 2, 0, 0, 0, 2, 1], [2, 1, 2, 0, 2, 1, 2], [0, 2, 1, 2, 1, 2, 0], [0, 0, 2, 1, 2, 0, 0], [0, 2, 1, 2, 1, 2, 0], [2, 1, 2, 0, 2, 1, 2], [1, 2, 0, 0, 0, 2, 1]]\n"
     ]
    }
   ],
   "source": [
    "matriz = []\n",
    "x=int(input('Ingrese la dimención de la matriz cuadrada'))\n",
    "filas = x\n",
    "columnas = x\n",
    "\n",
    "for i in range(filas):\n",
    "    matriz.append([0]*columnas)\n",
    "for f in range(filas):\n",
    "    for c in range(columnas):\n",
    "        matriz[f][c] = int(input(\"Elemento %d,%d:\" % (f,c)))\n",
    "print (matriz)"
   ]
  },
  {
   "cell_type": "code",
   "execution_count": 37,
   "metadata": {},
   "outputs": [
    {
     "name": "stdout",
     "output_type": "stream",
     "text": [
      "Ingrese la dimención de la matriz cuadrada6\n",
      "Elemento 0,0:1\n",
      "Elemento 0,1:2\n",
      "Elemento 0,2:0\n",
      "Elemento 0,3:0\n",
      "Elemento 0,4:2\n",
      "Elemento 0,5:1\n",
      "Elemento 1,0:2\n",
      "Elemento 1,1:1\n",
      "Elemento 1,2:2\n",
      "Elemento 1,3:2\n",
      "Elemento 1,4:1\n",
      "Elemento 1,5:2\n",
      "Elemento 2,0:0\n",
      "Elemento 2,1:2\n",
      "Elemento 2,2:1\n",
      "Elemento 2,3:1\n",
      "Elemento 2,4:2\n",
      "Elemento 2,5:0\n",
      "Elemento 3,0:0\n",
      "Elemento 3,1:2\n",
      "Elemento 3,2:1\n",
      "Elemento 3,3:1\n",
      "Elemento 3,4:2\n",
      "Elemento 3,5:0\n",
      "Elemento 4,0:2\n",
      "Elemento 4,1:1\n",
      "Elemento 4,2:2\n",
      "Elemento 4,3:2\n",
      "Elemento 4,4:1\n",
      "Elemento 4,5:2\n",
      "Elemento 5,0:1\n",
      "Elemento 5,1:2\n",
      "Elemento 5,2:0\n",
      "Elemento 5,3:0\n",
      "Elemento 5,4:2\n",
      "Elemento 5,5:1\n",
      "[[1, 2, 0, 0, 2, 1], [2, 1, 2, 2, 1, 2], [0, 2, 1, 1, 2, 0], [0, 2, 1, 1, 2, 0], [2, 1, 2, 2, 1, 2], [1, 2, 0, 0, 2, 1]]\n"
     ]
    }
   ],
   "source": [
    "matriz = []\n",
    "x=int(input('Ingrese la dimención de la matriz cuadrada'))\n",
    "filas = x\n",
    "columnas = x\n",
    "\n",
    "for i in range(filas):\n",
    "    matriz.append([0]*columnas)\n",
    "for f in range(filas):\n",
    "    for c in range(columnas):\n",
    "        matriz[f][c] = int(input(\"Elemento %d,%d:\" % (f,c)))\n",
    "print (matriz)"
   ]
  },
  {
   "cell_type": "code",
   "execution_count": null,
   "metadata": {},
   "outputs": [],
   "source": []
  }
 ],
 "metadata": {
  "kernelspec": {
   "display_name": "Python 3",
   "language": "python",
   "name": "python3"
  },
  "language_info": {
   "codemirror_mode": {
    "name": "ipython",
    "version": 3
   },
   "file_extension": ".py",
   "mimetype": "text/x-python",
   "name": "python",
   "nbconvert_exporter": "python",
   "pygments_lexer": "ipython3",
   "version": "3.8.5"
  }
 },
 "nbformat": 4,
 "nbformat_minor": 4
}
