{
 "cells": [
  {
   "cell_type": "code",
   "execution_count": null,
   "metadata": {},
   "outputs": [],
   "source": [
    "n= int(input(\"Ingresar un numero Natural\"))\n",
    "\n",
    "def cuad(n)\n",
    "    #if 2n-1\n",
    "    lista =list(range(0,n+1)\n",
    "    if "
   ]
  },
  {
   "cell_type": "markdown",
   "metadata": {},
   "source": [
    "## Yes si su parámetro es un  número par y \"No\" si es un numero impar"
   ]
  },
  {
   "cell_type": "code",
   "execution_count": 26,
   "metadata": {},
   "outputs": [
    {
     "ename": "TypeError",
     "evalue": "unsupported operand type(s) for %: 'range' and 'int'",
     "output_type": "error",
     "traceback": [
      "\u001b[1;31m---------------------------------------------------------------------------\u001b[0m",
      "\u001b[1;31mTypeError\u001b[0m                                 Traceback (most recent call last)",
      "\u001b[1;32m<ipython-input-26-6a0d77d8d61b>\u001b[0m in \u001b[0;36m<module>\u001b[1;34m\u001b[0m\n\u001b[0;32m      5\u001b[0m         \u001b[0mprint\u001b[0m\u001b[1;33m(\u001b[0m\u001b[1;34m\"No\"\u001b[0m\u001b[1;33m)\u001b[0m\u001b[1;33m\u001b[0m\u001b[1;33m\u001b[0m\u001b[0m\n\u001b[0;32m      6\u001b[0m \u001b[1;33m\u001b[0m\u001b[0m\n\u001b[1;32m----> 7\u001b[1;33m \u001b[0mprint\u001b[0m\u001b[1;33m(\u001b[0m\u001b[0meven\u001b[0m\u001b[1;33m(\u001b[0m\u001b[0mrange\u001b[0m\u001b[1;33m(\u001b[0m\u001b[1;36m6\u001b[0m\u001b[1;33m)\u001b[0m\u001b[1;33m)\u001b[0m\u001b[1;33m)\u001b[0m\u001b[1;33m\u001b[0m\u001b[1;33m\u001b[0m\u001b[0m\n\u001b[0m",
      "\u001b[1;32m<ipython-input-26-6a0d77d8d61b>\u001b[0m in \u001b[0;36meven\u001b[1;34m(x)\u001b[0m\n\u001b[0;32m      1\u001b[0m \u001b[1;32mdef\u001b[0m \u001b[0meven\u001b[0m\u001b[1;33m(\u001b[0m\u001b[0mx\u001b[0m\u001b[1;33m)\u001b[0m\u001b[1;33m:\u001b[0m\u001b[1;33m\u001b[0m\u001b[1;33m\u001b[0m\u001b[0m\n\u001b[1;32m----> 2\u001b[1;33m     \u001b[1;32mif\u001b[0m \u001b[0mx\u001b[0m\u001b[1;33m%\u001b[0m\u001b[1;36m2\u001b[0m \u001b[1;33m==\u001b[0m \u001b[1;36m0\u001b[0m\u001b[1;33m:\u001b[0m\u001b[1;33m\u001b[0m\u001b[1;33m\u001b[0m\u001b[0m\n\u001b[0m\u001b[0;32m      3\u001b[0m         \u001b[0mprint\u001b[0m\u001b[1;33m(\u001b[0m\u001b[1;34m\"Yes\"\u001b[0m\u001b[1;33m)\u001b[0m\u001b[1;33m\u001b[0m\u001b[1;33m\u001b[0m\u001b[0m\n\u001b[0;32m      4\u001b[0m     \u001b[1;32melse\u001b[0m\u001b[1;33m:\u001b[0m\u001b[1;33m\u001b[0m\u001b[1;33m\u001b[0m\u001b[0m\n\u001b[0;32m      5\u001b[0m         \u001b[0mprint\u001b[0m\u001b[1;33m(\u001b[0m\u001b[1;34m\"No\"\u001b[0m\u001b[1;33m)\u001b[0m\u001b[1;33m\u001b[0m\u001b[1;33m\u001b[0m\u001b[0m\n",
      "\u001b[1;31mTypeError\u001b[0m: unsupported operand type(s) for %: 'range' and 'int'"
     ]
    }
   ],
   "source": [
    "def even(x):\n",
    "    if x%2 == 0:\n",
    "        print(\"Yes\")\n",
    "    else:\n",
    "        print(\"No\")\n",
    "        \n"
   ]
  },
  {
   "cell_type": "code",
   "execution_count": 27,
   "metadata": {},
   "outputs": [
    {
     "name": "stdout",
     "output_type": "stream",
     "text": [
      "numero10\n",
      "9\n",
      "Terminado\n"
     ]
    }
   ],
   "source": [
    "i= int(input(\"numero\"))\n",
    "x=list(range(i))\n",
    "y=x[i-1]\n",
    "print(y)\n",
    "while i <=y:\n",
    "    print(i)\n",
    "    i=i+1\n",
    "    print(i)\n",
    "    break\n",
    "print (\"Terminado\")"
   ]
  },
  {
   "cell_type": "code",
   "execution_count": 21,
   "metadata": {},
   "outputs": [
    {
     "name": "stdout",
     "output_type": "stream",
     "text": [
      "[0, 1, 2, 3, 4]\n",
      "4\n"
     ]
    }
   ],
   "source": [
    "nums=list(range(5))\n",
    "print(nums)\n",
    "print(nums[4])"
   ]
  },
  {
   "cell_type": "code",
   "execution_count": 28,
   "metadata": {},
   "outputs": [
    {
     "name": "stdout",
     "output_type": "stream",
     "text": [
      "6\n",
      "7\n",
      "8\n",
      "9\n",
      "10\n",
      "11\n",
      "¡Teminado¡\n"
     ]
    }
   ],
   "source": [
    "i= 6\n",
    "x= i*2-1\n",
    "while i <=x:\n",
    "    print(i)\n",
    "    i=i+1\n",
    "print(\"¡Teminado¡\")"
   ]
  },
  {
   "cell_type": "code",
   "execution_count": 15,
   "metadata": {},
   "outputs": [
    {
     "name": "stdout",
     "output_type": "stream",
     "text": [
      "La suma de los 7 primeros numeros impares es 49 y esto es es igual a 7 elevado al cuadrado,por lo tanto 49 es igual a  49 y se determina esta igualdad\n",
      "¡Teminado¡\n"
     ]
    }
   ],
   "source": [
    "i= 1\n",
    "j= 7 #input\n",
    "x= 2*j-1\n",
    "\n",
    "\n",
    "suma= 1\n",
    "b=(j**2)\n",
    "\n",
    "while i <= x:\n",
    "    i=i+1\n",
    "    if (i%2 ==0):\n",
    "        print(i,\"no suma\")\n",
    "    if (i%2 !=0):\n",
    "        #print(i)\n",
    "        suma+=i\n",
    "        if (suma==b):\n",
    "            print('La suma de los',j, 'primeros numeros impares es',suma, 'y esto es es igual a',j,'elevado al cuadrado,por lo tanto',b,'es igual a ',suma, 'y se determina esta igualdad')\n",
    "           \n",
    "\n",
    "           \n",
    "        #suma += i\n",
    "        #print(i)\n",
    "    #print(suma)\n",
    "print(\"¡Teminado¡\")"
   ]
  },
  {
   "cell_type": "code",
   "execution_count": 69,
   "metadata": {},
   "outputs": [
    {
     "name": "stdout",
     "output_type": "stream",
     "text": [
      "36\n"
     ]
    }
   ],
   "source": [
    "a=6\n",
    "b=(a**2)\n",
    "print(b)"
   ]
  },
  {
   "cell_type": "code",
   "execution_count": 26,
   "metadata": {},
   "outputs": [
    {
     "name": "stdout",
     "output_type": "stream",
     "text": [
      "Ingresar un numero Natural:7\n",
      "La suma de los 7 primeros numeros impares es 49 y esto es es igual a 7 elevado al cuadrado,por lo tanto 49 es igual a  49 y se determina esta igualdad\n",
      "None\n"
     ]
    }
   ],
   "source": [
    "j= int(input(\"Ingresar un numero Natural:\"))\n",
    "def cuad(j = 0 , i = 1, x = 2*j-1, suma = 1, b=(j**2)):\n",
    "\n",
    "    while i <= x:\n",
    "        i=i+1\n",
    "        if (i%2 !=0):\n",
    "        #print(i)\n",
    "            suma+=i\n",
    "            if (suma==b):\n",
    "                print('La suma de los',j, 'primeros numeros impares es',suma, 'y esto es es igual a',j,'elevado al cuadrado,por lo tanto',b,'es igual a ',suma, 'y se determina esta igualdad')\n",
    "result= cuad(j)          \n",
    "print(result)"
   ]
  },
  {
   "cell_type": "code",
   "execution_count": 3,
   "metadata": {},
   "outputs": [
    {
     "name": "stdout",
     "output_type": "stream",
     "text": [
      "15\n"
     ]
    }
   ],
   "source": [
    "def triangulo(x):\n",
    "    \n",
    "    if x>=1:\n",
    "        result=(x*(x+1)) //2\n",
    "        print(result)\n",
    "        \n",
    "        \n",
    "triangulo(5)"
   ]
  },
  {
   "cell_type": "markdown",
   "metadata": {},
   "source": [
    "## Mínimo comun múltiplo es el número más pequeño que es el multiplo de dos números"
   ]
  },
  {
   "cell_type": "code",
   "execution_count": 7,
   "metadata": {},
   "outputs": [
    {
     "name": "stdout",
     "output_type": "stream",
     "text": [
      "416\n"
     ]
    }
   ],
   "source": [
    "def mcm(x,y):\n",
    "    z=max(x,y)\n",
    "    \n",
    "    while True:\n",
    "        if (z%x==0)and(z%y==0):\n",
    "            return z\n",
    "        else:\n",
    "            z=z+1\n",
    "print(mcm(32,13))"
   ]
  },
  {
   "cell_type": "code",
   "execution_count": 32,
   "metadata": {},
   "outputs": [
    {
     "name": "stdout",
     "output_type": "stream",
     "text": [
      "1\n"
     ]
    }
   ],
   "source": [
    "def nd(numero):\n",
    "    numero -= 1\n",
    "    if numero >= 10:\n",
    "            numero=(numero//10)\n",
    "            print (numero)\n",
    "            \n",
    "    else:\n",
    "        print (1)\n",
    "nd(10)       "
   ]
  },
  {
   "cell_type": "code",
   "execution_count": 35,
   "metadata": {},
   "outputs": [
    {
     "data": {
      "text/plain": [
       "1"
      ]
     },
     "execution_count": 35,
     "metadata": {},
     "output_type": "execute_result"
    }
   ],
   "source": [
    "19//10"
   ]
  },
  {
   "cell_type": "code",
   "execution_count": 34,
   "metadata": {},
   "outputs": [
    {
     "name": "stdout",
     "output_type": "stream",
     "text": [
      "1\n"
     ]
    }
   ],
   "source": [
    "def nd(numero):\n",
    "    numero -= 1\n",
    "    if numero >= 10:\n",
    "            numero= (numero//10)\n",
    "            print (numero)\n",
    "            \n",
    "    else:\n",
    "        print (1)\n",
    "nd(19)       "
   ]
  },
  {
   "cell_type": "code",
   "execution_count": 43,
   "metadata": {},
   "outputs": [
    {
     "ename": "SyntaxError",
     "evalue": "invalid syntax (<ipython-input-43-fdfbbfd49112>, line 2)",
     "output_type": "error",
     "traceback": [
      "\u001b[1;36m  File \u001b[1;32m\"<ipython-input-43-fdfbbfd49112>\"\u001b[1;36m, line \u001b[1;32m2\u001b[0m\n\u001b[1;33m    if num=1:\u001b[0m\n\u001b[1;37m          ^\u001b[0m\n\u001b[1;31mSyntaxError\u001b[0m\u001b[1;31m:\u001b[0m invalid syntax\n"
     ]
    }
   ],
   "source": [
    "def secuencia(num):\n",
    "    if num=1:\n",
    "        return num\n",
    "    \n",
    "    else:\n",
    "        return num+secuencia(n+1)\n",
    "num=int(input(\"Numero para que inicie la sumatoria\"))\n",
    "print(secuencia(num))"
   ]
  },
  {
   "cell_type": "code",
   "execution_count": 45,
   "metadata": {},
   "outputs": [
    {
     "name": "stdout",
     "output_type": "stream",
     "text": [
      "Número de la sumatoria:4\n",
      "10\n"
     ]
    }
   ],
   "source": [
    "def sumatoria(num):\n",
    "    if num==1:\n",
    "        return 1\n",
    "    else:\n",
    "        return num+sumatoria(num-1)\n",
    "num=int(input(\"Número de la sumatoria:\"))\n",
    "print(sumatoria(num))"
   ]
  },
  {
   "cell_type": "code",
   "execution_count": 58,
   "metadata": {},
   "outputs": [
    {
     "name": "stdout",
     "output_type": "stream",
     "text": [
      "9\n"
     ]
    }
   ],
   "source": [
    "def secuencia(a,b,c):\n",
    "    suma=a+b+c\n",
    "    if a==b and a==c:\n",
    "        suma\n",
    "    else:\n",
    "        suma+suma\n",
    "        return suma\n",
    "print(secuencia(1,3,5))"
   ]
  },
  {
   "cell_type": "code",
   "execution_count": 59,
   "metadata": {},
   "outputs": [
    {
     "name": "stdout",
     "output_type": "stream",
     "text": [
      "True\n",
      "True\n",
      "False\n",
      "False\n"
     ]
    }
   ],
   "source": []
  },
  {
   "cell_type": "code",
   "execution_count": null,
   "metadata": {},
   "outputs": [],
   "source": []
  }
 ],
 "metadata": {
  "kernelspec": {
   "display_name": "Python 3",
   "language": "python",
   "name": "python3"
  },
  "language_info": {
   "codemirror_mode": {
    "name": "ipython",
    "version": 3
   },
   "file_extension": ".py",
   "mimetype": "text/x-python",
   "name": "python",
   "nbconvert_exporter": "python",
   "pygments_lexer": "ipython3",
   "version": "3.8.5"
  }
 },
 "nbformat": 4,
 "nbformat_minor": 4
}
