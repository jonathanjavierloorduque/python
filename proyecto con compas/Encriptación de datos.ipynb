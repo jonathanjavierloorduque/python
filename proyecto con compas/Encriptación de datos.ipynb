{
 "cells": [
  {
   "cell_type": "markdown",
   "metadata": {},
   "source": [
    "## NUMPY Y MATPLOTLIB"
   ]
  },
  {
   "cell_type": "code",
   "execution_count": 1,
   "metadata": {},
   "outputs": [
    {
     "name": "stdout",
     "output_type": "stream",
     "text": [
      "[-1.39428571 10.11333333]\n"
     ]
    },
    {
     "data": {
      "image/png": "[encoded data removed]",
      "text/plain": [
       "<Figure size 432x288 with 1 Axes>"
      ]
     },
     "metadata": {
      "needs_background": "light"
     },
     "output_type": "display_data"
    }
   ],
   "source": [
    "# -*- coding: utf-8 -*-\n",
    "\"\"\"\n",
    "Created on Tue Jan 19 14:21:21 2021\n",
    "\n",
    "@author: Iván Sarmiento \n",
    "\"\"\"\n",
    "\n",
    "import numpy as np\n",
    "from matplotlib import pyplot as plt\n",
    "\n",
    "\"\"\"La pérdida de peso de una persona que sigue una determinada dieta, \n",
    "en el transcurso del tiempo, viene dada por la siguiente tabla:\n",
    "Tiempo (meses) 1 2 3 4 5 6 \n",
    "Pérdida de Peso (kg) 9 7.5 5.2 4.6 3.1 2\n",
    "Con el objetivo de estudiar la pérdida de peso en función del tiempo, \n",
    "ajuste a dichos datos una recta.¿Qué pérdida de\n",
    "peso se tenía cuando habían pasado 2 meses y medio?\"\"\"\n",
    "\n",
    "# Datos experimentales\n",
    "x = np.array([ 1,  2,  3,  4,  5, 6 ])\n",
    "y = np.array([ 9,  7.5,  5.2,  4.6,  3.1,  2 ])\n",
    "\n",
    "# Ajuste a una recta (polinomio de grado 1, y=mx+b)\n",
    "p = np.polyfit(x, y, 1)\n",
    "\n",
    "print(p)\n",
    "# imprime [ -1.3942...  10.113... ]\n",
    "\n",
    "#GRAFICAR LA RECTA DE MÍNIMOS CUADRADOS \n",
    "\n",
    "# Valores de y calculados del ajuste\n",
    "y_ajuste = p[0]*x + p[1]\n",
    "\n",
    "# Dibujamos los datos experimentales\n",
    "p_datos, = plt.plot(x, y, 'b.')\n",
    "# Dibujamos la recta de ajuste\n",
    "p_ajuste, = plt.plot(x, y_ajuste, 'r-')\n",
    "\n",
    "plt.title('Ajuste lineal por mínimos cuadrados')\n",
    "\n",
    "plt.xlabel('Tiempo (meses)')\n",
    "plt.ylabel('Pérdida de peso (kg)')\n",
    "\n",
    "plt.legend(('Datos experimentales', 'Ajuste lineal'), loc=\"upper right\")\n",
    "plt.show()"
   ]
  },
  {
   "cell_type": "markdown",
   "metadata": {},
   "source": [
    "## GENERARE  LA CLAVE"
   ]
  },
  {
   "cell_type": "code",
   "execution_count": 8,
   "metadata": {},
   "outputs": [
    {
     "name": "stdout",
     "output_type": "stream",
     "text": [
      "b'DnpPJA-f54uEHYybOWB5qLXXc1Ky1hRq_wyGeOgSzVc='\n"
     ]
    }
   ],
   "source": [
    "from cryptography.fernet import Fernet\n",
    "\n",
    "key = Fernet.generate_key()\n",
    "print(key)\n"
   ]
  },
  {
   "cell_type": "markdown",
   "metadata": {},
   "source": [
    "## GUARDARE LA CLAVE GENERADA"
   ]
  },
  {
   "cell_type": "code",
   "execution_count": 9,
   "metadata": {},
   "outputs": [
    {
     "name": "stdout",
     "output_type": "stream",
     "text": [
      "b'DnpPJA-f54uEHYybOWB5qLXXc1Ky1hRq_wyGeOgSzVc='\n"
     ]
    }
   ],
   "source": [
    "file =open(\"key.key\", \"wb\")\n",
    "file.write(key) #el tipo de claves esta en bytes\n",
    "file.close()\n",
    "print(key)"
   ]
  },
  {
   "cell_type": "markdown",
   "metadata": {},
   "source": [
    "## SELECCIONARE EL ARCHIVO EL CUAL SERA ENCRIPTADO"
   ]
  },
  {
   "cell_type": "code",
   "execution_count": 10,
   "metadata": {},
   "outputs": [],
   "source": [
    "from cryptography.fernet import Fernet\n",
    "\n",
    "#obtener la clave desde un archivo\n",
    "file = open(\"key.key\", \"rb\")\n",
    "key = file.read() # la claver sera en tipo byte\n",
    "file.close()\n",
    "\n",
    "\n",
    "#abrir el archivo a encryptar y encriptarlo\n",
    "with open(\"Ajuste_de_datos_a_recta_de_grado_1.py\",\"rb\") as f :\n",
    "     data = f.read()\n",
    "\n",
    "fernet = Fernet(key)\n",
    "encrypted = fernet.encrypt(data)\n",
    "\n",
    "#escribir el archivo encriptado\n",
    "\n",
    "with open(\"Ajuste_de_datos_a_recta_de_grado_1.py.encrypted\",\"wb\") as f:\n",
    "    f.write(encrypted)"
   ]
  },
  {
   "cell_type": "markdown",
   "metadata": {},
   "source": [
    "## LUEGO SOLO LA PERSONA QUE TIENE LA CLAVE VA A PODER DESENCRIPTAR LOS ANALISIS DE LOS DATOS."
   ]
  },
  {
   "cell_type": "code",
   "execution_count": 11,
   "metadata": {},
   "outputs": [],
   "source": [
    "from cryptography.fernet import Fernet\n",
    "\n",
    "#obtener la clave desde un archivo\n",
    "file = open(\"key.key\", \"rb\")\n",
    "key = file.read() # la claver sera en tipo byte\n",
    "file.close()\n",
    "\n",
    "\n",
    "#abrir el archivo a encryptado y desencriptarlo\n",
    "with open(\"Ajuste_de_datos_a_recta_de_grado_1.py.encrypted\",\"rb\") as f:\n",
    "     data = f.read()\n",
    "\n",
    "fernet = Fernet(key)\n",
    "encrypted = fernet.decrypt(data)\n",
    "\n",
    "#sobrescribir el archivo encriptado\n",
    "\n",
    "with open(\"Ajuste_de_datos_a_recta_de_grado_1.py.decrypted\",\"wb\") as f:\n",
    "    f.write(encrypted)\n"
   ]
  },
  {
   "cell_type": "markdown",
   "metadata": {},
   "source": [
    "## Los resultados Graficos tambien seran encriptados con la misma llave"
   ]
  },
  {
   "cell_type": "code",
   "execution_count": 10,
   "metadata": {},
   "outputs": [],
   "source": [
    "from PIL import Image\n",
    "import sys\n",
    "try:\n",
    "    img = Image.open(\"Ajuste_lineal_por_minimos_cuadrados.jpg\")\n",
    "except:\n",
    "    print(\"No se pudo cargar la imagen\")\n",
    "    sys.exit(1)\n",
    "#img.show()# mostrar imagen\n",
    "img.save(\"Ajuste_lineal_por_minimos_cuadrados_más_liviano.png\",\"png\")"
   ]
  },
  {
   "cell_type": "markdown",
   "metadata": {},
   "source": [
    "## Luego lo encriptamos \n"
   ]
  },
  {
   "cell_type": "code",
   "execution_count": 11,
   "metadata": {},
   "outputs": [],
   "source": [
    "from cryptography.fernet import Fernet\n",
    "\n",
    "#obtener la clave desde un archivo\n",
    "file = open(\"key.key\", \"rb\")\n",
    "key = file.read() # la claver sera en tipo byte\n",
    "file.close()\n",
    "\n",
    "\n",
    "#abrir el archivo a encryptar y encriptarlo\n",
    "with open(\"Ajuste_lineal_por_minimos_cuadrados_más_liviano.png\",\"rb\") as f :\n",
    "     data = f.read()\n",
    "\n",
    "fernet = Fernet(key)\n",
    "encrypted = fernet.encrypt(data)\n",
    "\n",
    "#escribir el archivo encriptado\n",
    "\n",
    "with open(\"Ajuste_lineal_por_minimos_cuadrados_más_liviano.png.encrypted\",\"wb\") as f:\n",
    "    f.write(encrypted)"
   ]
  },
  {
   "cell_type": "markdown",
   "metadata": {},
   "source": [
    "## Y lo desencriptamos "
   ]
  },
  {
   "cell_type": "code",
   "execution_count": 12,
   "metadata": {},
   "outputs": [],
   "source": [
    "from cryptography.fernet import Fernet\n",
    "\n",
    "#obtener la clave desde un archivo\n",
    "file = open(\"key.key\", \"rb\")\n",
    "key = file.read() # la claver sera en tipo byte\n",
    "file.close()\n",
    "\n",
    "\n",
    "#abrir el archivo a encryptado y desencriptarlo\n",
    "with open(\"Ajuste_lineal_por_minimos_cuadrados_más_liviano.png.encrypted\",\"rb\") as f:\n",
    "     data = f.read()\n",
    "\n",
    "fernet = Fernet(key)\n",
    "encrypted = fernet.decrypt(data)\n",
    "\n",
    "#sobrescribir el archivo encriptado\n",
    "\n",
    "with open(\"Ajuste_lineal_por_minimos_cuadrados_más_liviano.png.decrypted\",\"wb\") as f:\n",
    "    f.write(encrypted)\n"
   ]
  }
 ],
 "metadata": {
  "kernelspec": {
   "display_name": "Python 3",
   "language": "python",
   "name": "python3"
  },
  "language_info": {
   "codemirror_mode": {
    "name": "ipython",
    "version": 3
   },
   "file_extension": ".py",
   "mimetype": "text/x-python",
   "name": "python",
   "nbconvert_exporter": "python",
   "pygments_lexer": "ipython3",
   "version": "3.8.5"
  }
 },
 "nbformat": 4,
 "nbformat_minor": 4
}
