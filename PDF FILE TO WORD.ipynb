{
 "cells": [
  {
   "cell_type": "code",
   "execution_count": 1,
   "id": "6773c5aa",
   "metadata": {},
   "outputs": [],
   "source": [
    "import win32com.client\n",
    "import os"
   ]
  },
  {
   "cell_type": "code",
   "execution_count": 3,
   "id": "6d0bdb18",
   "metadata": {},
   "outputs": [
    {
     "name": "stdout",
     "output_type": "stream",
     "text": [
      "Pdf to Dock is completed\n"
     ]
    },
    {
     "ename": "NameError",
     "evalue": "name 'Word' is not defined",
     "output_type": "error",
     "traceback": [
      "\u001b[1;31m---------------------------------------------------------------------------\u001b[0m",
      "\u001b[1;31mNameError\u001b[0m                                 Traceback (most recent call last)",
      "\u001b[1;32m~\\AppData\\Local\\Temp/ipykernel_1304/908576489.py\u001b[0m in \u001b[0;36m<module>\u001b[1;34m\u001b[0m\n\u001b[0;32m      9\u001b[0m \u001b[0mprint\u001b[0m\u001b[1;33m(\u001b[0m\u001b[1;34m\"Pdf to Dock is completed\"\u001b[0m\u001b[1;33m)\u001b[0m\u001b[1;33m\u001b[0m\u001b[1;33m\u001b[0m\u001b[0m\n\u001b[0;32m     10\u001b[0m \u001b[0mwb\u001b[0m\u001b[1;33m.\u001b[0m\u001b[0mClose\u001b[0m\u001b[1;33m(\u001b[0m\u001b[1;33m)\u001b[0m\u001b[1;33m\u001b[0m\u001b[1;33m\u001b[0m\u001b[0m\n\u001b[1;32m---> 11\u001b[1;33m \u001b[0mWord\u001b[0m\u001b[1;33m.\u001b[0m\u001b[0mQuit\u001b[0m\u001b[1;33m(\u001b[0m\u001b[1;33m)\u001b[0m\u001b[1;33m\u001b[0m\u001b[1;33m\u001b[0m\u001b[0m\n\u001b[0m",
      "\u001b[1;31mNameError\u001b[0m: name 'Word' is not defined"
     ]
    }
   ],
   "source": [
    "word=win32com.client.Dispatch(\"word.Application\")\n",
    "word.visible=0\n",
    "doc_pdf=\"Test.pdf\"\n",
    "input_file= os.path.abspath(doc_pdf)\n",
    "\n",
    "wb=word.Documents.Open(input_file)\n",
    "output_file=os.path.abspath(doc_pdf[0:-4]+\"docx\".format())\n",
    "wb.SaveAs2(output_file,FileFormat=16)\n",
    "print(\"Pdf to Dock is completed\")\n",
    "wb.Close()\n",
    "word.Quit()"
   ]
  },
  {
   "cell_type": "code",
   "execution_count": null,
   "id": "28202fee",
   "metadata": {},
   "outputs": [],
   "source": []
  }
 ],
 "metadata": {
  "kernelspec": {
   "display_name": "Python 3 (ipykernel)",
   "language": "python",
   "name": "python3"
  },
  "language_info": {
   "codemirror_mode": {
    "name": "ipython",
    "version": 3
   },
   "file_extension": ".py",
   "mimetype": "text/x-python",
   "name": "python",
   "nbconvert_exporter": "python",
   "pygments_lexer": "ipython3",
   "version": "3.9.5"
  }
 },
 "nbformat": 4,
 "nbformat_minor": 5
}
