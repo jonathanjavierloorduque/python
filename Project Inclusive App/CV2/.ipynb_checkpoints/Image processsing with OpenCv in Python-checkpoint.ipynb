{
 "cells": [
  {
   "cell_type": "markdown",
   "id": "69b2aad2",
   "metadata": {},
   "source": [
    "Chapter 1:Sofware and packages"
   ]
  },
  {
   "cell_type": "code",
   "execution_count": 1,
   "id": "14f8dda1",
   "metadata": {},
   "outputs": [
    {
     "ename": "ModuleNotFoundError",
     "evalue": "No module named 'cv2'",
     "output_type": "error",
     "traceback": [
      "\u001b[1;31m---------------------------------------------------------------------------\u001b[0m",
      "\u001b[1;31mModuleNotFoundError\u001b[0m                       Traceback (most recent call last)",
      "\u001b[1;32m~\\AppData\\Local\\Temp/ipykernel_1588/3843721791.py\u001b[0m in \u001b[0;36m<module>\u001b[1;34m\u001b[0m\n\u001b[0;32m      1\u001b[0m \u001b[1;32mimport\u001b[0m \u001b[0mnumpy\u001b[0m \u001b[1;32mas\u001b[0m \u001b[0mnp\u001b[0m\u001b[1;33m\u001b[0m\u001b[1;33m\u001b[0m\u001b[0m\n\u001b[1;32m----> 2\u001b[1;33m \u001b[1;32mimport\u001b[0m \u001b[0mcv2\u001b[0m\u001b[1;33m\u001b[0m\u001b[1;33m\u001b[0m\u001b[0m\n\u001b[0m\u001b[0;32m      3\u001b[0m \u001b[1;32mfrom\u001b[0m \u001b[0mmatplotlib\u001b[0m \u001b[1;32mimport\u001b[0m \u001b[0mpyplot\u001b[0m \u001b[1;32mas\u001b[0m \u001b[0mplt\u001b[0m\u001b[1;33m\u001b[0m\u001b[1;33m\u001b[0m\u001b[0m\n",
      "\u001b[1;31mModuleNotFoundError\u001b[0m: No module named 'cv2'"
     ]
    }
   ],
   "source": [
    "import numpy as np\n",
    "import cv2\n",
    "from matplotlib import pyplot as plt"
   ]
  },
  {
   "cell_type": "code",
   "execution_count": 2,
   "id": "1ec44edc",
   "metadata": {},
   "outputs": [],
   "source": [
    "## Chapter2: basic operations on image"
   ]
  },
  {
   "cell_type": "code",
   "execution_count": 3,
   "id": "c0319dbd",
   "metadata": {},
   "outputs": [],
   "source": [
    "img=cv2.imread(\"im0.png\",0)"
   ]
  },
  {
   "cell_type": "code",
   "execution_count": 4,
   "id": "76354fe5",
   "metadata": {
    "scrolled": true
   },
   "outputs": [
    {
     "data": {
      "text/plain": [
       "array([[202, 202, 202, ...,  53,  53,  53],\n",
       "       [202, 202, 202, ...,  53,  53,  53],\n",
       "       [202, 202, 202, ...,  53,  53,  53],\n",
       "       ...,\n",
       "       [202, 202, 202, ..., 202, 202, 202],\n",
       "       [202, 202, 202, ..., 202, 202, 202],\n",
       "       [202, 202, 202, ..., 202, 202, 202]], dtype=uint8)"
      ]
     },
     "execution_count": 4,
     "metadata": {},
     "output_type": "execute_result"
    }
   ],
   "source": [
    "img"
   ]
  },
  {
   "cell_type": "code",
   "execution_count": 5,
   "id": "baa32a8e",
   "metadata": {},
   "outputs": [],
   "source": [
    "def wind(image):\n",
    "    cv2.namedWindow(\"image\",cv2.WINDOW_NORMAL)\n",
    "    cv2.imshow('window',image)\n",
    "    cv2.waitKey(0)\n",
    "    cv2.destroyAllWindows()"
   ]
  },
  {
   "cell_type": "code",
   "execution_count": 6,
   "id": "ad65ee9d",
   "metadata": {},
   "outputs": [],
   "source": [
    "wind(img)"
   ]
  },
  {
   "cell_type": "code",
   "execution_count": 7,
   "id": "03320722",
   "metadata": {},
   "outputs": [],
   "source": [
    "imgCol=cv2.imread(\"im0.png\",1)"
   ]
  },
  {
   "cell_type": "code",
   "execution_count": 11,
   "id": "8f1cdc65",
   "metadata": {},
   "outputs": [],
   "source": [
    "wind(imgCol)"
   ]
  },
  {
   "cell_type": "code",
   "execution_count": null,
   "id": "8757abff",
   "metadata": {},
   "outputs": [],
   "source": []
  },
  {
   "cell_type": "markdown",
   "id": "8e18196e",
   "metadata": {},
   "source": [
    "img = cv2.imread('im0.png')\n",
    "plt.imshow(img, cmap = 'gray', interpolation = 'bicubic')\n",
    "plt.xticks([]), plt.yticks([])  # to hide tick values on X and Y axis\n",
    "plt.show()"
   ]
  },
  {
   "cell_type": "markdown",
   "id": "3be3a3ba",
   "metadata": {},
   "source": [
    "imgCol=cv2.imread('im0.png',1)\n",
    "plt.imshow(img, cmap = 'gray', interpolation = 'bicubic')\n",
    "plt.xticks([]), plt.yticks([])  # to hide tick values on X and Y axis\n",
    "plt.show()"
   ]
  },
  {
   "cell_type": "code",
   "execution_count": null,
   "id": "ff93c261",
   "metadata": {},
   "outputs": [],
   "source": [
    "#Resizing, cropping and exporting"
   ]
  },
  {
   "cell_type": "code",
   "execution_count": 8,
   "id": "5d8ffb04",
   "metadata": {},
   "outputs": [],
   "source": [
    "imgres=cv2.resize(imgCol,dsize=None, fx=0.2, fy=0.2, interpolation=cv2.INTER_CUBIC)"
   ]
  },
  {
   "cell_type": "code",
   "execution_count": 9,
   "id": "799f5672",
   "metadata": {},
   "outputs": [],
   "source": [
    "cv2.imshow(\"window\",imgres)\n",
    "cv2.waitKey(0)\n",
    "cv2.destroyAllWindows()"
   ]
  },
  {
   "cell_type": "markdown",
   "id": "3e6638b6",
   "metadata": {},
   "source": [
    "plt.imshow(imgres, cmap = 'gray', interpolation = 'bicubic')\n",
    "plt.xticks([]), plt.yticks([])  # to hide tick values on X and Y axis\n",
    "plt.show()"
   ]
  },
  {
   "cell_type": "code",
   "execution_count": 10,
   "id": "d5f1d817",
   "metadata": {},
   "outputs": [],
   "source": [
    "cropped=imgres[120:300,120:200]"
   ]
  },
  {
   "cell_type": "code",
   "execution_count": 11,
   "id": "6c2800ca",
   "metadata": {
    "scrolled": true
   },
   "outputs": [],
   "source": [
    "wind(cropped)"
   ]
  },
  {
   "cell_type": "code",
   "execution_count": 13,
   "id": "39771919",
   "metadata": {},
   "outputs": [
    {
     "data": {
      "text/plain": [
       "True"
      ]
     },
     "execution_count": 13,
     "metadata": {},
     "output_type": "execute_result"
    }
   ],
   "source": [
    "# guardar los cambios\n",
    "cv2.imwrite(\"hand.png\",cropped)"
   ]
  },
  {
   "cell_type": "markdown",
   "id": "e743b286",
   "metadata": {},
   "source": [
    "## Chapter 3:Geometric operations on images"
   ]
  },
  {
   "cell_type": "code",
   "execution_count": null,
   "id": "38cfd7c8",
   "metadata": {},
   "outputs": [],
   "source": [
    "#3.1 image gradients # cambios de color"
   ]
  },
  {
   "cell_type": "code",
   "execution_count": 5,
   "id": "d103d67b",
   "metadata": {},
   "outputs": [],
   "source": [
    "crops=cv2.imread(\"crops.png\",0)"
   ]
  },
  {
   "cell_type": "code",
   "execution_count": 9,
   "id": "5373cb54",
   "metadata": {},
   "outputs": [],
   "source": [
    "wind(crops)"
   ]
  },
  {
   "cell_type": "code",
   "execution_count": 11,
   "id": "4b1164ac",
   "metadata": {},
   "outputs": [],
   "source": [
    "sobelx=cv2.Sobel(crops,cv2.CV_8U,1,0,ksize=3)"
   ]
  },
  {
   "cell_type": "code",
   "execution_count": 12,
   "id": "b152eaf5",
   "metadata": {},
   "outputs": [],
   "source": [
    "wind(sobelx)"
   ]
  },
  {
   "cell_type": "code",
   "execution_count": 14,
   "id": "9dc182f5",
   "metadata": {},
   "outputs": [],
   "source": [
    "laplacian=cv2.Laplacian(crops,cv2.CV_8U)\n",
    "wind(laplacian)"
   ]
  },
  {
   "cell_type": "code",
   "execution_count": null,
   "id": "50b3536e",
   "metadata": {},
   "outputs": [],
   "source": [
    "#3.2 Edge and feature detection"
   ]
  },
  {
   "cell_type": "code",
   "execution_count": 17,
   "id": "8ff7b5cd",
   "metadata": {},
   "outputs": [],
   "source": [
    "crops2=cv2.imread(\"crops2.png\",0)"
   ]
  },
  {
   "cell_type": "code",
   "execution_count": 21,
   "id": "c5d840cd",
   "metadata": {},
   "outputs": [],
   "source": [
    "edges=cv2.Canny(crops,150,400)\n",
    "wind(edges)"
   ]
  },
  {
   "cell_type": "code",
   "execution_count": 6,
   "id": "b210f6e1",
   "metadata": {
    "scrolled": true
   },
   "outputs": [],
   "source": [
    "bbal=cv2.imread(\"basketball.jpg\",1)\n",
    "wind(bbal)"
   ]
  },
  {
   "cell_type": "code",
   "execution_count": 7,
   "id": "aa2be48f",
   "metadata": {},
   "outputs": [],
   "source": [
    "edges=cv2.Canny(bbal,150,400)\n",
    "wind(edges)"
   ]
  },
  {
   "cell_type": "code",
   "execution_count": null,
   "id": "3fbeec2f",
   "metadata": {},
   "outputs": [],
   "source": []
  }
 ],
 "metadata": {
  "kernelspec": {
   "display_name": "Python 3 (ipykernel)",
   "language": "python",
   "name": "python3"
  },
  "language_info": {
   "codemirror_mode": {
    "name": "ipython",
    "version": 3
   },
   "file_extension": ".py",
   "mimetype": "text/x-python",
   "name": "python",
   "nbconvert_exporter": "python",
   "pygments_lexer": "ipython3",
   "version": "3.9.5"
  }
 },
 "nbformat": 4,
 "nbformat_minor": 5
}
