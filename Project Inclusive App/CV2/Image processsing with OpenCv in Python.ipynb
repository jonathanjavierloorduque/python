{
 "cells": [
  {
   "cell_type": "markdown",
   "id": "69b2aad2",
   "metadata": {},
   "source": [
    "Chapter 1:Sofware and packages"
   ]
  },
  {
   "cell_type": "code",
   "execution_count": 1,
   "id": "14f8dda1",
   "metadata": {},
   "outputs": [],
   "source": [
    "import numpy as np\n",
    "import cv2\n",
    "from matplotlib import pyplot as plt"
   ]
  },
  {
   "cell_type": "code",
   "execution_count": 2,
   "id": "1ec44edc",
   "metadata": {},
   "outputs": [],
   "source": [
    "## Chapter2: basic operations on image"
   ]
  },
  {
   "cell_type": "code",
   "execution_count": 3,
   "id": "c0319dbd",
   "metadata": {},
   "outputs": [],
   "source": [
    "img=cv2.imread(\"im0.png\",0)"
   ]
  },
  {
   "cell_type": "code",
   "execution_count": 4,
   "id": "76354fe5",
   "metadata": {
    "scrolled": true
   },
   "outputs": [
    {
     "data": {
      "text/plain": [
       "array([[202, 202, 202, ...,  53,  53,  53],\n",
       "       [202, 202, 202, ...,  53,  53,  53],\n",
       "       [202, 202, 202, ...,  53,  53,  53],\n",
       "       ...,\n",
       "       [202, 202, 202, ..., 202, 202, 202],\n",
       "       [202, 202, 202, ..., 202, 202, 202],\n",
       "       [202, 202, 202, ..., 202, 202, 202]], dtype=uint8)"
      ]
     },
     "execution_count": 4,
     "metadata": {},
     "output_type": "execute_result"
    }
   ],
   "source": [
    "img"
   ]
  },
  {
   "cell_type": "code",
   "execution_count": 5,
   "id": "baa32a8e",
   "metadata": {},
   "outputs": [],
   "source": [
    "def wind(image):\n",
    "    cv2.namedWindow(\"image\",cv2.WINDOW_NORMAL)\n",
    "    cv2.imshow(\"image\",image)\n",
    "    cv2.waitKey(0)\n",
    "    cv2.destroyAllWindows()"
   ]
  },
  {
   "cell_type": "code",
   "execution_count": 14,
   "id": "ad65ee9d",
   "metadata": {},
   "outputs": [],
   "source": [
    "wind(img)"
   ]
  },
  {
   "cell_type": "code",
   "execution_count": 9,
   "id": "03320722",
   "metadata": {},
   "outputs": [],
   "source": [
    "imgCol=cv2.imread(\"im0.png\",1)"
   ]
  },
  {
   "cell_type": "code",
   "execution_count": 10,
   "id": "8f1cdc65",
   "metadata": {},
   "outputs": [],
   "source": [
    "wind(imgCol)"
   ]
  },
  {
   "cell_type": "code",
   "execution_count": null,
   "id": "8757abff",
   "metadata": {},
   "outputs": [],
   "source": []
  },
  {
   "cell_type": "markdown",
   "id": "8e18196e",
   "metadata": {},
   "source": [
    "img = cv2.imread('im0.png')\n",
    "plt.imshow(img, cmap = 'gray', interpolation = 'bicubic')\n",
    "plt.xticks([]), plt.yticks([])  # to hide tick values on X and Y axis\n",
    "plt.show()"
   ]
  },
  {
   "cell_type": "markdown",
   "id": "3be3a3ba",
   "metadata": {},
   "source": [
    "imgCol=cv2.imread('im0.png',1)\n",
    "plt.imshow(img, cmap = 'gray', interpolation = 'bicubic')\n",
    "plt.xticks([]), plt.yticks([])  # to hide tick values on X and Y axis\n",
    "plt.show()"
   ]
  },
  {
   "cell_type": "code",
   "execution_count": 11,
   "id": "ff93c261",
   "metadata": {},
   "outputs": [],
   "source": [
    "#Resizing, cropping and exporting"
   ]
  },
  {
   "cell_type": "code",
   "execution_count": 12,
   "id": "5d8ffb04",
   "metadata": {},
   "outputs": [],
   "source": [
    "imgres=cv2.resize(imgCol,dsize=None, fx=0.2, fy=0.2, interpolation=cv2.INTER_CUBIC)"
   ]
  },
  {
   "cell_type": "code",
   "execution_count": 13,
   "id": "799f5672",
   "metadata": {},
   "outputs": [],
   "source": [
    "cv2.imshow(\"window\",imgres)\n",
    "cv2.waitKey(0)\n",
    "cv2.destroyAllWindows()"
   ]
  },
  {
   "cell_type": "markdown",
   "id": "3e6638b6",
   "metadata": {},
   "source": [
    "plt.imshow(imgres, cmap = 'gray', interpolation = 'bicubic')\n",
    "plt.xticks([]), plt.yticks([])  # to hide tick values on X and Y axis\n",
    "plt.show()"
   ]
  },
  {
   "cell_type": "code",
   "execution_count": 14,
   "id": "d5f1d817",
   "metadata": {},
   "outputs": [],
   "source": [
    "cropped=imgres[120:300,120:200]"
   ]
  },
  {
   "cell_type": "code",
   "execution_count": 15,
   "id": "6c2800ca",
   "metadata": {
    "scrolled": true
   },
   "outputs": [],
   "source": [
    "wind(cropped)"
   ]
  },
  {
   "cell_type": "code",
   "execution_count": null,
   "id": "39771919",
   "metadata": {},
   "outputs": [],
   "source": [
    "# guardar los cambios\n",
    "cv2.imwrite(\"hand.png\",cropped)"
   ]
  },
  {
   "cell_type": "markdown",
   "id": "e743b286",
   "metadata": {},
   "source": [
    "## Chapter 3:Geometric operations on images"
   ]
  },
  {
   "cell_type": "code",
   "execution_count": null,
   "id": "38cfd7c8",
   "metadata": {},
   "outputs": [],
   "source": [
    "#3.1 image gradients # cambios de color"
   ]
  },
  {
   "cell_type": "code",
   "execution_count": null,
   "id": "d103d67b",
   "metadata": {},
   "outputs": [],
   "source": [
    "crops=cv2.imread(\"crops.png\",0)"
   ]
  },
  {
   "cell_type": "code",
   "execution_count": null,
   "id": "5373cb54",
   "metadata": {},
   "outputs": [],
   "source": [
    "wind(crops)"
   ]
  },
  {
   "cell_type": "code",
   "execution_count": null,
   "id": "4b1164ac",
   "metadata": {},
   "outputs": [],
   "source": [
    "sobelx=cv2.Sobel(crops,cv2.CV_8U,1,0,ksize=3)"
   ]
  },
  {
   "cell_type": "code",
   "execution_count": null,
   "id": "b152eaf5",
   "metadata": {},
   "outputs": [],
   "source": [
    "wind(sobelx)"
   ]
  },
  {
   "cell_type": "code",
   "execution_count": null,
   "id": "9dc182f5",
   "metadata": {},
   "outputs": [],
   "source": [
    "laplacian=cv2.Laplacian(crops,cv2.CV_8U)\n",
    "wind(laplacian)"
   ]
  },
  {
   "cell_type": "code",
   "execution_count": null,
   "id": "50b3536e",
   "metadata": {},
   "outputs": [],
   "source": [
    "#3.2 Edge and feature detection"
   ]
  },
  {
   "cell_type": "code",
   "execution_count": null,
   "id": "8ff7b5cd",
   "metadata": {},
   "outputs": [],
   "source": [
    "crops2=cv2.imread(\"crops2.png\",0)"
   ]
  },
  {
   "cell_type": "code",
   "execution_count": null,
   "id": "c5d840cd",
   "metadata": {},
   "outputs": [],
   "source": [
    "edges=cv2.Canny(crops,150,400)\n",
    "wind(edges)"
   ]
  },
  {
   "cell_type": "code",
   "execution_count": null,
   "id": "b210f6e1",
   "metadata": {
    "scrolled": true
   },
   "outputs": [],
   "source": [
    "bbal=cv2.imread(\"basketball.jpg\",1)\n",
    "wind(bbal)"
   ]
  },
  {
   "cell_type": "code",
   "execution_count": null,
   "id": "aa2be48f",
   "metadata": {},
   "outputs": [],
   "source": [
    "edges=cv2.Canny(bbal,150,400)\n",
    "wind(edges)"
   ]
  },
  {
   "cell_type": "code",
   "execution_count": null,
   "id": "3fbeec2f",
   "metadata": {},
   "outputs": [],
   "source": [
    "lines=cv2.HoughLines(edges,1,np.pi/180,200)"
   ]
  },
  {
   "cell_type": "code",
   "execution_count": null,
   "id": "668c7413",
   "metadata": {},
   "outputs": [],
   "source": [
    "lines"
   ]
  },
  {
   "cell_type": "code",
   "execution_count": null,
   "id": "0d5469cb",
   "metadata": {},
   "outputs": [],
   "source": [
    "for iterator in lines:\n",
    "    rho=iterator[0][0]\n",
    "    theta=iterator[0][1]\n",
    "    a=np.cos(theta)\n",
    "    b=np.sin(theta)\n",
    "    x0=a*rho\n",
    "    y0=b*rho\n",
    "    x1=int(x0+1000*(-b))\n",
    "    y1=int(x0+1000*(a))\n",
    "    x2=int(x0+1000*(-b))\n",
    "    y2=int(y0-1000*(a))\n",
    "    cv2.line(bbal,(x1,y1),(x2,y2),(0,0,255),2)\n",
    "    "
   ]
  },
  {
   "cell_type": "code",
   "execution_count": null,
   "id": "0d60e505",
   "metadata": {},
   "outputs": [],
   "source": [
    "wind(bbal)"
   ]
  },
  {
   "cell_type": "code",
   "execution_count": null,
   "id": "0ecedf78",
   "metadata": {},
   "outputs": [],
   "source": [
    "#3.3 A simple geocomputation application"
   ]
  },
  {
   "cell_type": "code",
   "execution_count": 16,
   "id": "ad16b3df",
   "metadata": {},
   "outputs": [],
   "source": [
    "imgN1=cv2.imread(\"doble.png\",1)"
   ]
  },
  {
   "cell_type": "code",
   "execution_count": 7,
   "id": "3a8cc7e4",
   "metadata": {},
   "outputs": [],
   "source": [
    "wind(imgN1)"
   ]
  },
  {
   "cell_type": "code",
   "execution_count": 17,
   "id": "29c397d7",
   "metadata": {},
   "outputs": [],
   "source": [
    "diffs=np.array([[538,109],[1203,739],[758,137],[1240,467]])"
   ]
  },
  {
   "cell_type": "code",
   "execution_count": 18,
   "id": "1df4322e",
   "metadata": {},
   "outputs": [],
   "source": [
    "def euclid(x1,x2,y1,y2):\n",
    "    return int(np.sqrt((x1-x2)**2+(y1-y2)**2))"
   ]
  },
  {
   "cell_type": "code",
   "execution_count": 20,
   "id": "7edb5146",
   "metadata": {},
   "outputs": [
    {
     "ename": "AttributeError",
     "evalue": "module 'cv2' has no attribute 'KMEANS_RAMDOM_CENTERS'",
     "output_type": "error",
     "traceback": [
      "\u001b[1;31m---------------------------------------------------------------------------\u001b[0m",
      "\u001b[1;31mAttributeError\u001b[0m                            Traceback (most recent call last)",
      "\u001b[1;32m~\\AppData\\Local\\Temp/ipykernel_7080/3050654723.py\u001b[0m in \u001b[0;36m<module>\u001b[1;34m\u001b[0m\n\u001b[0;32m      2\u001b[0m \u001b[0mcriteria\u001b[0m\u001b[1;33m=\u001b[0m\u001b[1;33m(\u001b[0m\u001b[0mcv2\u001b[0m\u001b[1;33m.\u001b[0m\u001b[0mTERM_CRITERIA_EPS\u001b[0m\u001b[1;33m+\u001b[0m\u001b[0mcv2\u001b[0m\u001b[1;33m.\u001b[0m\u001b[0mTERM_CRITERIA_MAX_ITER\u001b[0m\u001b[1;33m,\u001b[0m\u001b[1;36m15\u001b[0m\u001b[1;33m,\u001b[0m\u001b[1;36m1.0\u001b[0m\u001b[1;33m)\u001b[0m\u001b[1;33m\u001b[0m\u001b[1;33m\u001b[0m\u001b[0m\n\u001b[0;32m      3\u001b[0m \u001b[0mK\u001b[0m\u001b[1;33m=\u001b[0m\u001b[1;36m4\u001b[0m\u001b[1;33m\u001b[0m\u001b[1;33m\u001b[0m\u001b[0m\n\u001b[1;32m----> 4\u001b[1;33m \u001b[0mred\u001b[0m\u001b[1;33m,\u001b[0m\u001b[0mlab\u001b[0m\u001b[1;33m,\u001b[0m\u001b[0mcenter\u001b[0m\u001b[1;33m=\u001b[0m\u001b[0mcv2\u001b[0m\u001b[1;33m.\u001b[0m\u001b[0mkmeans\u001b[0m\u001b[1;33m(\u001b[0m\u001b[0mimgCL\u001b[0m\u001b[1;33m,\u001b[0m\u001b[0mK\u001b[0m\u001b[1;33m,\u001b[0m\u001b[1;32mNone\u001b[0m\u001b[1;33m,\u001b[0m\u001b[0mcriteria\u001b[0m\u001b[1;33m,\u001b[0m\u001b[1;36m10\u001b[0m\u001b[1;33m,\u001b[0m\u001b[0mcv2\u001b[0m\u001b[1;33m.\u001b[0m\u001b[0mKMEANS_RAMDOM_CENTERS\u001b[0m\u001b[1;33m)\u001b[0m\u001b[1;33m\u001b[0m\u001b[1;33m\u001b[0m\u001b[0m\n\u001b[0m\u001b[0;32m      5\u001b[0m \u001b[0mcenter\u001b[0m\u001b[1;33m=\u001b[0m\u001b[0mnp\u001b[0m\u001b[1;33m.\u001b[0m\u001b[0munit8\u001b[0m\u001b[1;33m(\u001b[0m\u001b[0mcenter\u001b[0m\u001b[1;33m)\u001b[0m\u001b[1;33m\u001b[0m\u001b[1;33m\u001b[0m\u001b[0m\n\u001b[0;32m      6\u001b[0m \u001b[0mres\u001b[0m\u001b[1;33m=\u001b[0m\u001b[0mcenter\u001b[0m\u001b[1;33m[\u001b[0m\u001b[0mlab\u001b[0m\u001b[1;33m.\u001b[0m\u001b[0mflatten\u001b[0m\u001b[1;33m(\u001b[0m\u001b[1;33m)\u001b[0m\u001b[1;33m]\u001b[0m\u001b[1;33m\u001b[0m\u001b[1;33m\u001b[0m\u001b[0m\n",
      "\u001b[1;31mAttributeError\u001b[0m: module 'cv2' has no attribute 'KMEANS_RAMDOM_CENTERS'"
     ]
    }
   ],
   "source": [
    "imgCL=np.float32(img.reshape((-1,3)))\n",
    "criteria=(cv2.TERM_CRITERIA_EPS+cv2.TERM_CRITERIA_MAX_ITER,15,1.0)\n",
    "K=4\n",
    "red,lab,center=cv2.kmeans(imgCL,K,None,criteria,10,cv2.KMEANS_RAMDOM_CENTERS)\n",
    "center=np.unit8(center)\n",
    "res=center[lab.flatten()]\n",
    "res2=res.reshape((img.shape))\n",
    "wind(res2)"
   ]
  },
  {
   "cell_type": "markdown",
   "id": "461dde4e",
   "metadata": {},
   "source": [
    "#Chapter5: An Earth Observation application"
   ]
  },
  {
   "cell_type": "code",
   "execution_count": 6,
   "id": "22b44109",
   "metadata": {},
   "outputs": [],
   "source": [
    "pathB=\"C:/Users/JONATHAN/Documents/GitHub/python/Project Inclusive App/CV2/New folder/before/\"\n",
    "pathA=\"C:/Users/JONATHAN/Documents/GitHub/python/Project Inclusive App/CV2/New folder/after/\""
   ]
  },
  {
   "cell_type": "code",
   "execution_count": 16,
   "id": "8b03c3c2",
   "metadata": {},
   "outputs": [],
   "source": [
    "BEF=[]\n",
    "AFT=[]\n",
    "for i in range(1,8):\n",
    "    BEF.append(cv2.imread(pathB+\"B\"+str(i)+\".PNG\",0)[4200:4700,2900:3500])\n",
    "    AFT.append(cv2.imread(pathA+\"B\"+str(i)+\".PNG\",0)[4200:4700,2900:3500])"
   ]
  },
  {
   "cell_type": "code",
   "execution_count": 17,
   "id": "f2eab9bb",
   "metadata": {},
   "outputs": [],
   "source": [
    "BEF32=[]\n",
    "AFT32=[]\n",
    "for i in range(7):\n",
    "    BEF32.append(np.float32(cv2.equalizeHist(BEF[i])))\n",
    "    AFT32.append(np.float32(cv2.equalizeHist(AFT[i])))"
   ]
  },
  {
   "cell_type": "code",
   "execution_count": 18,
   "id": "0ea371eb",
   "metadata": {},
   "outputs": [
    {
     "ename": "IndexError",
     "evalue": "list index out of range",
     "output_type": "error",
     "traceback": [
      "\u001b[1;31m---------------------------------------------------------------------------\u001b[0m",
      "\u001b[1;31mIndexError\u001b[0m                                Traceback (most recent call last)",
      "\u001b[1;32m~\\AppData\\Local\\Temp/ipykernel_4732/240021434.py\u001b[0m in \u001b[0;36m<module>\u001b[1;34m\u001b[0m\n\u001b[1;32m----> 1\u001b[1;33m \u001b[0mbefore\u001b[0m\u001b[1;33m=\u001b[0m\u001b[0mcv2\u001b[0m\u001b[1;33m.\u001b[0m\u001b[0mmerge\u001b[0m\u001b[1;33m(\u001b[0m\u001b[1;33m(\u001b[0m\u001b[0mBEF32\u001b[0m\u001b[1;33m[\u001b[0m\u001b[1;36m1\u001b[0m\u001b[1;33m]\u001b[0m\u001b[1;33m,\u001b[0m\u001b[0mBEF32\u001b[0m\u001b[1;33m[\u001b[0m\u001b[1;36m2\u001b[0m\u001b[1;33m]\u001b[0m\u001b[1;33m,\u001b[0m\u001b[0mBEF32\u001b[0m\u001b[1;33m[\u001b[0m\u001b[1;36m3\u001b[0m\u001b[1;33m]\u001b[0m\u001b[1;33m,\u001b[0m\u001b[0mBEF32\u001b[0m\u001b[1;33m[\u001b[0m\u001b[1;36m4\u001b[0m\u001b[1;33m]\u001b[0m\u001b[1;33m,\u001b[0m\u001b[0mBEF32\u001b[0m\u001b[1;33m[\u001b[0m\u001b[1;36m5\u001b[0m\u001b[1;33m]\u001b[0m\u001b[1;33m,\u001b[0m\u001b[0mBEF32\u001b[0m\u001b[1;33m[\u001b[0m\u001b[1;36m6\u001b[0m\u001b[1;33m]\u001b[0m\u001b[1;33m,\u001b[0m\u001b[0mBEF32\u001b[0m\u001b[1;33m[\u001b[0m\u001b[1;36m7\u001b[0m\u001b[1;33m]\u001b[0m\u001b[1;33m)\u001b[0m\u001b[1;33m)\u001b[0m\u001b[1;33m\u001b[0m\u001b[1;33m\u001b[0m\u001b[0m\n\u001b[0m",
      "\u001b[1;31mIndexError\u001b[0m: list index out of range"
     ]
    }
   ],
   "source": [
    "before=cv2.merge((BEF32[1],BEF32[2],BEF32[3],BEF32[4],BEF32[5],BEF32[6],BEF32[7]))"
   ]
  },
  {
   "cell_type": "code",
   "execution_count": null,
   "id": "0c0ef846",
   "metadata": {},
   "outputs": [],
   "source": []
  }
 ],
 "metadata": {
  "kernelspec": {
   "display_name": "Python 3 (ipykernel)",
   "language": "python",
   "name": "python3"
  },
  "language_info": {
   "codemirror_mode": {
    "name": "ipython",
    "version": 3
   },
   "file_extension": ".py",
   "mimetype": "text/x-python",
   "name": "python",
   "nbconvert_exporter": "python",
   "pygments_lexer": "ipython3",
   "version": "3.9.5"
  }
 },
 "nbformat": 4,
 "nbformat_minor": 5
}
