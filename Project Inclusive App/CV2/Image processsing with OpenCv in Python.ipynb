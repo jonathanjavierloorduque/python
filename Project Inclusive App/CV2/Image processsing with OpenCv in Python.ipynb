{
 "cells": [
  {
   "cell_type": "markdown",
   "id": "69b2aad2",
   "metadata": {},
   "source": [
    "Chapter 1:Sofware and packages"
   ]
  },
  {
   "cell_type": "code",
   "execution_count": 1,
   "id": "14f8dda1",
   "metadata": {},
   "outputs": [],
   "source": [
    "import numpy as np\n",
    "import cv2\n",
    "from matplotlib import pyplot as plt"
   ]
  },
  {
   "cell_type": "code",
   "execution_count": 2,
   "id": "1ec44edc",
   "metadata": {},
   "outputs": [],
   "source": [
    "## Chapter2: basic operations on image"
   ]
  },
  {
   "cell_type": "code",
   "execution_count": 3,
   "id": "c0319dbd",
   "metadata": {},
   "outputs": [],
   "source": [
    "img=cv2.imread(\"im0.png\",0)"
   ]
  },
  {
   "cell_type": "code",
   "execution_count": 4,
   "id": "76354fe5",
   "metadata": {
    "scrolled": true
   },
   "outputs": [
    {
     "data": {
      "text/plain": [
       "array([[202, 202, 202, ...,  53,  53,  53],\n",
       "       [202, 202, 202, ...,  53,  53,  53],\n",
       "       [202, 202, 202, ...,  53,  53,  53],\n",
       "       ...,\n",
       "       [202, 202, 202, ..., 202, 202, 202],\n",
       "       [202, 202, 202, ..., 202, 202, 202],\n",
       "       [202, 202, 202, ..., 202, 202, 202]], dtype=uint8)"
      ]
     },
     "execution_count": 4,
     "metadata": {},
     "output_type": "execute_result"
    }
   ],
   "source": [
    "img"
   ]
  },
  {
   "cell_type": "code",
   "execution_count": 5,
   "id": "baa32a8e",
   "metadata": {},
   "outputs": [],
   "source": [
    "def wind(image):\n",
    "    cv2.namedWindow(\"image\",cv2.WINDOW_NORMAL)\n",
    "    cv2.imshow('window',image)\n",
    "    cv2.waitKey(0)\n",
    "    cv2.destroyAllWindows()"
   ]
  },
  {
   "cell_type": "code",
   "execution_count": 8,
   "id": "ad65ee9d",
   "metadata": {},
   "outputs": [],
   "source": [
    "wind(img)"
   ]
  },
  {
   "cell_type": "code",
   "execution_count": 9,
   "id": "03320722",
   "metadata": {},
   "outputs": [],
   "source": [
    "imgCol=cv2.imread(\"im0.png\",1)"
   ]
  },
  {
   "cell_type": "code",
   "execution_count": 10,
   "id": "8f1cdc65",
   "metadata": {},
   "outputs": [],
   "source": [
    "wind(imgCol)"
   ]
  },
  {
   "cell_type": "code",
   "execution_count": null,
   "id": "8757abff",
   "metadata": {},
   "outputs": [],
   "source": []
  },
  {
   "cell_type": "markdown",
   "id": "8e18196e",
   "metadata": {},
   "source": [
    "img = cv2.imread('im0.png')\n",
    "plt.imshow(img, cmap = 'gray', interpolation = 'bicubic')\n",
    "plt.xticks([]), plt.yticks([])  # to hide tick values on X and Y axis\n",
    "plt.show()"
   ]
  },
  {
   "cell_type": "markdown",
   "id": "3be3a3ba",
   "metadata": {},
   "source": [
    "imgCol=cv2.imread('im0.png',1)\n",
    "plt.imshow(img, cmap = 'gray', interpolation = 'bicubic')\n",
    "plt.xticks([]), plt.yticks([])  # to hide tick values on X and Y axis\n",
    "plt.show()"
   ]
  },
  {
   "cell_type": "code",
   "execution_count": 11,
   "id": "ff93c261",
   "metadata": {},
   "outputs": [],
   "source": [
    "#Resizing, cropping and exporting"
   ]
  },
  {
   "cell_type": "code",
   "execution_count": 12,
   "id": "5d8ffb04",
   "metadata": {},
   "outputs": [],
   "source": [
    "imgres=cv2.resize(imgCol,dsize=None, fx=0.2, fy=0.2, interpolation=cv2.INTER_CUBIC)"
   ]
  },
  {
   "cell_type": "code",
   "execution_count": 13,
   "id": "799f5672",
   "metadata": {},
   "outputs": [],
   "source": [
    "cv2.imshow(\"window\",imgres)\n",
    "cv2.waitKey(0)\n",
    "cv2.destroyAllWindows()"
   ]
  },
  {
   "cell_type": "markdown",
   "id": "3e6638b6",
   "metadata": {},
   "source": [
    "plt.imshow(imgres, cmap = 'gray', interpolation = 'bicubic')\n",
    "plt.xticks([]), plt.yticks([])  # to hide tick values on X and Y axis\n",
    "plt.show()"
   ]
  },
  {
   "cell_type": "code",
   "execution_count": 14,
   "id": "d5f1d817",
   "metadata": {},
   "outputs": [],
   "source": [
    "cropped=imgres[120:300,120:200]"
   ]
  },
  {
   "cell_type": "code",
   "execution_count": 15,
   "id": "6c2800ca",
   "metadata": {
    "scrolled": true
   },
   "outputs": [],
   "source": [
    "wind(cropped)"
   ]
  },
  {
   "cell_type": "code",
   "execution_count": null,
   "id": "39771919",
   "metadata": {},
   "outputs": [],
   "source": [
    "# guardar los cambios\n",
    "cv2.imwrite(\"hand.png\",cropped)"
   ]
  },
  {
   "cell_type": "markdown",
   "id": "e743b286",
   "metadata": {},
   "source": [
    "## Chapter 3:Geometric operations on images"
   ]
  },
  {
   "cell_type": "code",
   "execution_count": null,
   "id": "38cfd7c8",
   "metadata": {},
   "outputs": [],
   "source": [
    "#3.1 image gradients # cambios de color"
   ]
  },
  {
   "cell_type": "code",
   "execution_count": null,
   "id": "d103d67b",
   "metadata": {},
   "outputs": [],
   "source": [
    "crops=cv2.imread(\"crops.png\",0)"
   ]
  },
  {
   "cell_type": "code",
   "execution_count": null,
   "id": "5373cb54",
   "metadata": {},
   "outputs": [],
   "source": [
    "wind(crops)"
   ]
  },
  {
   "cell_type": "code",
   "execution_count": null,
   "id": "4b1164ac",
   "metadata": {},
   "outputs": [],
   "source": [
    "sobelx=cv2.Sobel(crops,cv2.CV_8U,1,0,ksize=3)"
   ]
  },
  {
   "cell_type": "code",
   "execution_count": null,
   "id": "b152eaf5",
   "metadata": {},
   "outputs": [],
   "source": [
    "wind(sobelx)"
   ]
  },
  {
   "cell_type": "code",
   "execution_count": null,
   "id": "9dc182f5",
   "metadata": {},
   "outputs": [],
   "source": [
    "laplacian=cv2.Laplacian(crops,cv2.CV_8U)\n",
    "wind(laplacian)"
   ]
  },
  {
   "cell_type": "code",
   "execution_count": null,
   "id": "50b3536e",
   "metadata": {},
   "outputs": [],
   "source": [
    "#3.2 Edge and feature detection"
   ]
  },
  {
   "cell_type": "code",
   "execution_count": null,
   "id": "8ff7b5cd",
   "metadata": {},
   "outputs": [],
   "source": [
    "crops2=cv2.imread(\"crops2.png\",0)"
   ]
  },
  {
   "cell_type": "code",
   "execution_count": null,
   "id": "c5d840cd",
   "metadata": {},
   "outputs": [],
   "source": [
    "edges=cv2.Canny(crops,150,400)\n",
    "wind(edges)"
   ]
  },
  {
   "cell_type": "code",
   "execution_count": null,
   "id": "b210f6e1",
   "metadata": {
    "scrolled": true
   },
   "outputs": [],
   "source": [
    "bbal=cv2.imread(\"basketball.jpg\",1)\n",
    "wind(bbal)"
   ]
  },
  {
   "cell_type": "code",
   "execution_count": null,
   "id": "aa2be48f",
   "metadata": {},
   "outputs": [],
   "source": [
    "edges=cv2.Canny(bbal,150,400)\n",
    "wind(edges)"
   ]
  },
  {
   "cell_type": "code",
   "execution_count": null,
   "id": "3fbeec2f",
   "metadata": {},
   "outputs": [],
   "source": [
    "lines=cv2.HoughLines(edges,1,np.pi/180,200)"
   ]
  },
  {
   "cell_type": "code",
   "execution_count": null,
   "id": "668c7413",
   "metadata": {},
   "outputs": [],
   "source": [
    "lines"
   ]
  },
  {
   "cell_type": "code",
   "execution_count": null,
   "id": "0d5469cb",
   "metadata": {},
   "outputs": [],
   "source": [
    "for iterator in lines:\n",
    "    rho=iterator[0][0]\n",
    "    theta=iterator[0][1]\n",
    "    a=np.cos(theta)\n",
    "    b=np.sin(theta)\n",
    "    x0=a*rho\n",
    "    y0=b*rho\n",
    "    x1=int(x0+1000*(-b))\n",
    "    y1=int(x0+1000*(a))\n",
    "    x2=int(x0+1000*(-b))\n",
    "    y2=int(y0-1000*(a))\n",
    "    cv2.line(bbal,(x1,y1),(x2,y2),(0,0,255),2)\n",
    "    "
   ]
  },
  {
   "cell_type": "code",
   "execution_count": null,
   "id": "0d60e505",
   "metadata": {},
   "outputs": [],
   "source": [
    "wind(bbal)"
   ]
  },
  {
   "cell_type": "code",
   "execution_count": null,
   "id": "0ecedf78",
   "metadata": {},
   "outputs": [],
   "source": [
    "#3.3 A simple geocomputation application"
   ]
  },
  {
   "cell_type": "code",
   "execution_count": 6,
   "id": "ad16b3df",
   "metadata": {},
   "outputs": [],
   "source": [
    "imgN1=cv2.imread(\"doble.png\",1)"
   ]
  },
  {
   "cell_type": "code",
   "execution_count": 7,
   "id": "3a8cc7e4",
   "metadata": {},
   "outputs": [],
   "source": [
    "wind(imgN1)"
   ]
  },
  {
   "cell_type": "code",
   "execution_count": 8,
   "id": "29c397d7",
   "metadata": {},
   "outputs": [],
   "source": [
    "diffs=np.array([[538,109],[1203,739],[758,137],[1240,467]])"
   ]
  },
  {
   "cell_type": "code",
   "execution_count": null,
   "id": "43db7a99",
   "metadata": {},
   "outputs": [],
   "source": [
    "def euclid(x1,x2,y1,y2):\n",
    "    return int(np.sqrt((x1-x2)**2+(y1-y2)**2))"
   ]
  }
 ],
 "metadata": {
  "kernelspec": {
   "display_name": "Python 3 (ipykernel)",
   "language": "python",
   "name": "python3"
  },
  "language_info": {
   "codemirror_mode": {
    "name": "ipython",
    "version": 3
   },
   "file_extension": ".py",
   "mimetype": "text/x-python",
   "name": "python",
   "nbconvert_exporter": "python",
   "pygments_lexer": "ipython3",
   "version": "3.9.5"
  }
 },
 "nbformat": 4,
 "nbformat_minor": 5
}
