{
 "cells": [
  {
   "cell_type": "markdown",
   "id": "4e103935",
   "metadata": {},
   "source": [
    "# Importación de las librerias que vamos a utilizar"
   ]
  },
  {
   "cell_type": "code",
   "execution_count": 21,
   "id": "5efb9fd5",
   "metadata": {},
   "outputs": [],
   "source": [
    "import numpy as np\n",
    "import cv2\n",
    "from matplotlib import pyplot as plt\n",
    "import os"
   ]
  },
  {
   "cell_type": "markdown",
   "id": "c87152c9",
   "metadata": {},
   "source": [
    "# Defino una ventana que permita visuaizar los graficos"
   ]
  },
  {
   "cell_type": "code",
   "execution_count": 6,
   "id": "1841ba05",
   "metadata": {},
   "outputs": [],
   "source": [
    "def wind(image):  \n",
    "    cv2.namedWindow(\"image\",cv2.WINDOW_NORMAL)\n",
    "    cv2.imshow('windows', image)#\"image\", image)\n",
    "    cv2.waitKey(0)\n",
    "    cv2.destroyAllWindows()"
   ]
  },
  {
   "cell_type": "markdown",
   "id": "ac6e580d",
   "metadata": {},
   "source": [
    "## Abro las imagenes "
   ]
  },
  {
   "cell_type": "code",
   "execution_count": 7,
   "id": "168a67c5",
   "metadata": {},
   "outputs": [],
   "source": [
    "crops=cv2.imread(\"sembrio1.png\",1)\n",
    "wind(crops)"
   ]
  },
  {
   "cell_type": "code",
   "execution_count": 3,
   "id": "8164870e",
   "metadata": {},
   "outputs": [
    {
     "ename": "NameError",
     "evalue": "name 'cv2' is not defined",
     "output_type": "error",
     "traceback": [
      "\u001b[1;31m---------------------------------------------------------------------------\u001b[0m",
      "\u001b[1;31mNameError\u001b[0m                                 Traceback (most recent call last)",
      "\u001b[1;32m~\\AppData\\Local\\Temp/ipykernel_11656/2408428010.py\u001b[0m in \u001b[0;36m<module>\u001b[1;34m\u001b[0m\n\u001b[1;32m----> 1\u001b[1;33m \u001b[0mcrops2\u001b[0m\u001b[1;33m=\u001b[0m\u001b[0mcv2\u001b[0m\u001b[1;33m.\u001b[0m\u001b[0mimread\u001b[0m\u001b[1;33m(\u001b[0m\u001b[1;34m\"sembrio2.png\"\u001b[0m\u001b[1;33m,\u001b[0m\u001b[1;36m0\u001b[0m\u001b[1;33m)\u001b[0m\u001b[1;33m\u001b[0m\u001b[1;33m\u001b[0m\u001b[0m\n\u001b[0m\u001b[0;32m      2\u001b[0m \u001b[0mwind\u001b[0m\u001b[1;33m(\u001b[0m\u001b[0mcrops2\u001b[0m\u001b[1;33m)\u001b[0m\u001b[1;33m\u001b[0m\u001b[1;33m\u001b[0m\u001b[0m\n",
      "\u001b[1;31mNameError\u001b[0m: name 'cv2' is not defined"
     ]
    }
   ],
   "source": [
    "crops2=cv2.imread(\"sembrio2.png\",0)\n",
    "wind(crops2)"
   ]
  },
  {
   "cell_type": "code",
   "execution_count": 4,
   "id": "47a2483d",
   "metadata": {
    "scrolled": true
   },
   "outputs": [
    {
     "ename": "NameError",
     "evalue": "name 'cv2' is not defined",
     "output_type": "error",
     "traceback": [
      "\u001b[1;31m---------------------------------------------------------------------------\u001b[0m",
      "\u001b[1;31mNameError\u001b[0m                                 Traceback (most recent call last)",
      "\u001b[1;32m~\\AppData\\Local\\Temp/ipykernel_11656/904494821.py\u001b[0m in \u001b[0;36m<module>\u001b[1;34m\u001b[0m\n\u001b[1;32m----> 1\u001b[1;33m \u001b[0mguaya\u001b[0m\u001b[1;33m=\u001b[0m\u001b[0mcv2\u001b[0m\u001b[1;33m.\u001b[0m\u001b[0mimread\u001b[0m\u001b[1;33m(\u001b[0m\u001b[1;34m\"Guayaquil.jpg\"\u001b[0m\u001b[1;33m,\u001b[0m\u001b[1;36m1\u001b[0m\u001b[1;33m)\u001b[0m\u001b[1;33m\u001b[0m\u001b[1;33m\u001b[0m\u001b[0m\n\u001b[0m\u001b[0;32m      2\u001b[0m \u001b[0mrioguaya\u001b[0m\u001b[1;33m=\u001b[0m\u001b[0mcv2\u001b[0m\u001b[1;33m.\u001b[0m\u001b[0mresize\u001b[0m\u001b[1;33m(\u001b[0m\u001b[0mguaya\u001b[0m\u001b[1;33m,\u001b[0m\u001b[0mdsize\u001b[0m\u001b[1;33m=\u001b[0m\u001b[1;32mNone\u001b[0m\u001b[1;33m,\u001b[0m\u001b[0mfx\u001b[0m\u001b[1;33m=\u001b[0m\u001b[1;36m0.5\u001b[0m\u001b[1;33m,\u001b[0m\u001b[0mfy\u001b[0m\u001b[1;33m=\u001b[0m\u001b[1;36m0.5\u001b[0m\u001b[1;33m,\u001b[0m\u001b[0minterpolation\u001b[0m\u001b[1;33m=\u001b[0m\u001b[0mcv2\u001b[0m\u001b[1;33m.\u001b[0m\u001b[0mINTER_CUBIC\u001b[0m\u001b[1;33m)\u001b[0m\u001b[1;33m\u001b[0m\u001b[1;33m\u001b[0m\u001b[0m\n\u001b[0;32m      3\u001b[0m \u001b[0mwind\u001b[0m\u001b[1;33m(\u001b[0m\u001b[0mrioguaya\u001b[0m\u001b[1;33m)\u001b[0m\u001b[1;33m\u001b[0m\u001b[1;33m\u001b[0m\u001b[0m\n",
      "\u001b[1;31mNameError\u001b[0m: name 'cv2' is not defined"
     ]
    }
   ],
   "source": [
    "guaya=cv2.imread(\"Guayaquil.jpg\",1)\n",
    "rioguaya=cv2.resize(guaya,dsize=None,fx=0.5,fy=0.5,interpolation=cv2.INTER_CUBIC)\n",
    "wind(rioguaya)"
   ]
  },
  {
   "cell_type": "markdown",
   "id": "22c21f6e",
   "metadata": {},
   "source": [
    "# Colocar filtros"
   ]
  },
  {
   "cell_type": "code",
   "execution_count": 13,
   "id": "60eadff3",
   "metadata": {},
   "outputs": [],
   "source": [
    "sobelx=cv2.Sobel(crops,cv2.CV_8U,1,0,ksize=3)\n",
    "wind(sobelx)"
   ]
  },
  {
   "cell_type": "markdown",
   "id": "3d941f5f",
   "metadata": {},
   "source": [
    "# Detección de taludes"
   ]
  },
  {
   "cell_type": "code",
   "execution_count": 14,
   "id": "92bf0076",
   "metadata": {},
   "outputs": [],
   "source": [
    "laplacian=cv2.Laplacian(crops,cv2.CV_8U)\n",
    "wind(laplacian)"
   ]
  },
  {
   "cell_type": "markdown",
   "id": "d7417aad",
   "metadata": {},
   "source": [
    "## Identificación de bordes y pendientes"
   ]
  },
  {
   "cell_type": "code",
   "execution_count": 10,
   "id": "633a3c4c",
   "metadata": {},
   "outputs": [],
   "source": [
    "edges1=cv2.Canny(crops,150,400)\n",
    "wind(edges1)"
   ]
  },
  {
   "cell_type": "code",
   "execution_count": 18,
   "id": "f19b91ad",
   "metadata": {},
   "outputs": [],
   "source": [
    "edges2=cv2.Canny(crops2,150,400)\n",
    "wind(edges)"
   ]
  },
  {
   "cell_type": "code",
   "execution_count": 21,
   "id": "19b19bf9",
   "metadata": {},
   "outputs": [],
   "source": [
    "edges3=cv2.Canny(rioguaya,150,400)\n",
    "wind(edges)"
   ]
  },
  {
   "cell_type": "markdown",
   "id": "398fe379",
   "metadata": {},
   "source": [
    "# Guardar la imagen"
   ]
  },
  {
   "cell_type": "code",
   "execution_count": 16,
   "id": "66bcdb64",
   "metadata": {},
   "outputs": [
    {
     "data": {
      "text/plain": [
       "True"
      ]
     },
     "execution_count": 16,
     "metadata": {},
     "output_type": "execute_result"
    }
   ],
   "source": [
    "cv2.imwrite(\"New1.jpg\",edges1)"
   ]
  },
  {
   "cell_type": "markdown",
   "id": "33f60b04",
   "metadata": {},
   "source": [
    "## Borrar imagen"
   ]
  },
  {
   "cell_type": "code",
   "execution_count": 22,
   "id": "2ba96d1c",
   "metadata": {},
   "outputs": [],
   "source": [
    "try: \n",
    "    os.remove(\"New1.png\")\n",
    "except: pass"
   ]
  },
  {
   "cell_type": "markdown",
   "id": "cd6ba2d3",
   "metadata": {},
   "source": [
    "# Encontrar similitudes entre dos imagenes"
   ]
  },
  {
   "cell_type": "code",
   "execution_count": 19,
   "id": "79176134",
   "metadata": {},
   "outputs": [],
   "source": [
    "imagen1= cv2.imread(\"New1.jpg\")\n",
    "imagen2= cv2.imread(\"New1.jpg\")\n"
   ]
  },
  {
   "cell_type": "markdown",
   "id": "56e1d5f2",
   "metadata": {},
   "source": [
    "## Ver si las imagenes son iguales"
   ]
  },
  {
   "cell_type": "code",
   "execution_count": 20,
   "id": "2ba5cbb8",
   "metadata": {},
   "outputs": [
    {
     "name": "stdout",
     "output_type": "stream",
     "text": [
      "Las imagenes tienen el mismo tamaño y canales \n",
      "Las imagenes son completamente iguales\n"
     ]
    }
   ],
   "source": [
    "if imagen1.shape == imagen2.shape:\n",
    "    print(\"Las imagenes tienen el mismo tamaño y canales \")\n",
    "    differencia= cv2.subtract(imagen1,imagen2)\n",
    "    b,g,r=cv2.split(differencia)\n",
    "    \n",
    "    if cv2.countNonZero(b) == 0 and cv2. countNonZero(g) ==0 and cv2.countNonZero(r)==0:\n",
    "        print(\"Las imagenes son completamente iguales\")\n",
    "    else:\n",
    "        print(\"La imagenes no son  iguales\")"
   ]
  },
  {
   "cell_type": "markdown",
   "id": "06b0f07d",
   "metadata": {},
   "source": [
    "## Ver si dos imagenes son similares"
   ]
  },
  {
   "cell_type": "code",
   "execution_count": null,
   "id": "9a8e6ac4",
   "metadata": {},
   "outputs": [],
   "source": []
  }
 ],
 "metadata": {
  "kernelspec": {
   "display_name": "Python 3 (ipykernel)",
   "language": "python",
   "name": "python3"
  },
  "language_info": {
   "codemirror_mode": {
    "name": "ipython",
    "version": 3
   },
   "file_extension": ".py",
   "mimetype": "text/x-python",
   "name": "python",
   "nbconvert_exporter": "python",
   "pygments_lexer": "ipython3",
   "version": "3.9.5"
  }
 },
 "nbformat": 4,
 "nbformat_minor": 5
}
