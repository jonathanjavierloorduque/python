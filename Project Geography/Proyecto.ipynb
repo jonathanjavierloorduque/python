{
 "cells": [
  {
   "cell_type": "markdown",
   "id": "4e103935",
   "metadata": {},
   "source": [
    "# Importación de las librerias que vamos a utilizar"
   ]
  },
  {
   "cell_type": "code",
   "execution_count": 1,
   "id": "5efb9fd5",
   "metadata": {},
   "outputs": [],
   "source": [
    "import numpy as np\n",
    "import cv2\n",
    "from matplotlib import pyplot as plt\n",
    "import os\n",
    "import rasterio as rio\n",
    "import scipy.ndimage"
   ]
  },
  {
   "cell_type": "markdown",
   "id": "77ad4847",
   "metadata": {},
   "source": [
    "# Defino una ventana que permita visuaizar los graficos"
   ]
  },
  {
   "cell_type": "code",
   "execution_count": 2,
   "id": "1841ba05",
   "metadata": {},
   "outputs": [],
   "source": [
    "def wind(image):  \n",
    "    cv2.namedWindow(\"image\",cv2.WINDOW_NORMAL)\n",
    "    cv2.imshow('image', image)#\"image\", image)\n",
    "    cv2.waitKey(0)\n",
    "    cv2.destroyAllWindows()"
   ]
  },
  {
   "cell_type": "markdown",
   "id": "ac6e580d",
   "metadata": {},
   "source": [
    "## Abro las imagenes "
   ]
  },
  {
   "cell_type": "code",
   "execution_count": 4,
   "id": "168a67c5",
   "metadata": {},
   "outputs": [],
   "source": [
    "crops=cv2.imread(\"sembrio1.png\",1)\n",
    "wind(crops)"
   ]
  },
  {
   "cell_type": "code",
   "execution_count": 5,
   "id": "8164870e",
   "metadata": {},
   "outputs": [],
   "source": [
    "crops2=cv2.imread(\"sembrio2.png\",0)\n",
    "wind(crops2)"
   ]
  },
  {
   "cell_type": "code",
   "execution_count": 6,
   "id": "47a2483d",
   "metadata": {
    "scrolled": true
   },
   "outputs": [],
   "source": [
    "guaya=cv2.imread(\"Guayaquil.jpg\",1)\n",
    "rioguaya=cv2.resize(guaya,dsize=None,fx=0.5,fy=0.5,interpolation=cv2.INTER_CUBIC)\n",
    "wind(rioguaya)"
   ]
  },
  {
   "cell_type": "markdown",
   "id": "22c21f6e",
   "metadata": {},
   "source": [
    "# Colocar filtros"
   ]
  },
  {
   "cell_type": "code",
   "execution_count": 7,
   "id": "60eadff3",
   "metadata": {},
   "outputs": [],
   "source": [
    "sobelx=cv2.Sobel(crops,cv2.CV_8U,1,0,ksize=3)\n",
    "wind(sobelx)"
   ]
  },
  {
   "cell_type": "markdown",
   "id": "f11ae54f",
   "metadata": {},
   "source": [
    "# Detección de taludes"
   ]
  },
  {
   "cell_type": "code",
   "execution_count": 8,
   "id": "92bf0076",
   "metadata": {},
   "outputs": [],
   "source": [
    "laplacian=cv2.Laplacian(crops,cv2.CV_8U)\n",
    "wind(laplacian)"
   ]
  },
  {
   "cell_type": "markdown",
   "id": "d7417aad",
   "metadata": {},
   "source": [
    "## Identificación de bordes y pendientes"
   ]
  },
  {
   "cell_type": "code",
   "execution_count": 9,
   "id": "633a3c4c",
   "metadata": {},
   "outputs": [],
   "source": [
    "edges1=cv2.Canny(crops,150,400)\n",
    "wind(edges1)"
   ]
  },
  {
   "cell_type": "code",
   "execution_count": 10,
   "id": "f19b91ad",
   "metadata": {},
   "outputs": [],
   "source": [
    "edges2=cv2.Canny(crops2,150,400)\n",
    "wind(edges2)"
   ]
  },
  {
   "cell_type": "code",
   "execution_count": 11,
   "id": "19b19bf9",
   "metadata": {},
   "outputs": [],
   "source": [
    "edges3=cv2.Canny(rioguaya,150,400)\n",
    "wind(edges3)"
   ]
  },
  {
   "cell_type": "markdown",
   "id": "6c630ab2",
   "metadata": {},
   "source": [
    "# Guardar la imagen"
   ]
  },
  {
   "cell_type": "code",
   "execution_count": 12,
   "id": "303696cf",
   "metadata": {},
   "outputs": [
    {
     "data": {
      "text/plain": [
       "True"
      ]
     },
     "execution_count": 12,
     "metadata": {},
     "output_type": "execute_result"
    }
   ],
   "source": [
    "cv2.imwrite(\"New1.png\",edges1)"
   ]
  },
  {
   "cell_type": "markdown",
   "id": "92fcdcb9",
   "metadata": {},
   "source": [
    "## Borrar imagen"
   ]
  },
  {
   "cell_type": "code",
   "execution_count": 14,
   "id": "c47d799f",
   "metadata": {},
   "outputs": [],
   "source": [
    "try: \n",
    "    os.remove(\"New1.png\")\n",
    "except: pass"
   ]
  },
  {
   "cell_type": "markdown",
   "id": "c09be501",
   "metadata": {},
   "source": [
    "# Encontrar similitudes entre dos imagenes"
   ]
  },
  {
   "cell_type": "code",
   "execution_count": 13,
   "id": "25bebbbc",
   "metadata": {},
   "outputs": [],
   "source": [
    "imagen1= cv2.imread(\"sembrio1.png\")\n",
    "imagen2= cv2.imread(\"New1.png\")\n"
   ]
  },
  {
   "cell_type": "markdown",
   "id": "bd7bb935",
   "metadata": {},
   "source": [
    "## Ver si las imagenes son iguales"
   ]
  },
  {
   "cell_type": "code",
   "execution_count": 14,
   "id": "24b8c9c9",
   "metadata": {},
   "outputs": [
    {
     "name": "stdout",
     "output_type": "stream",
     "text": [
      "Las imagenes tienen el mismo tamaño y escala de gises \n",
      "La imagenes no son  iguales\n"
     ]
    }
   ],
   "source": [
    "if imagen1.shape == imagen2.shape:\n",
    "    print(\"Las imagenes tienen el mismo tamaño y escala de gises \")\n",
    "    differencia= cv2.subtract(imagen1,imagen2)\n",
    "    b,g,r=cv2.split(differencia)\n",
    "    \n",
    "    if cv2.countNonZero(b) == 0 and cv2. countNonZero(g) ==0 and cv2.countNonZero(r)==0:\n",
    "        print(\"Las imagenes son completamente iguales\")\n",
    "    else:\n",
    "        print(\"La imagenes no son  iguales\")"
   ]
  },
  {
   "cell_type": "markdown",
   "id": "43d1c918",
   "metadata": {},
   "source": [
    "## Ver si dos imagenes en diferente tiempo o por diferentes satelites son similares"
   ]
  },
  {
   "cell_type": "code",
   "execution_count": 25,
   "id": "596f84c2",
   "metadata": {},
   "outputs": [],
   "source": [
    "sift=cv2.SIFT_create()\n",
    "kp_1, desc_1 =sift.detectAndCompute(imagen1,None)\n",
    "kp_2, desc_2 =sift.detectAndCompute(imagen2,None)\n",
    "\n",
    "index_params=dict(algorithm=0, trees=5)\n",
    "search_params=dict()\n",
    "flann =cv2.FlannBasedMatcher(index_params,search_params)\n",
    "\n",
    "matches=flann.knnMatch(desc_1,desc_2, k=2)\n",
    "#print(len(matches))\n",
    "\n",
    "good_points=[]\n",
    "ratio=0.1\n",
    "for m, n in matches:\n",
    "    if m.distance< ratio*n.distance:\n",
    "        good_points.append(m)\n",
    "        print(len(good_points))\n",
    "\n",
    "#result = cv2.drawMatchesKnn(imagen1,kp_1,imagen2,kp_2,matches, None)\n",
    "result = cv2.drawMatches(imagen1,kp_1,imagen2,kp_2,good_points, None)\n",
    "cv2.imshow(\"result\",result)\n",
    "##Cambio el tamaño \n",
    "#cv2.resize(result,None, fx=0.4, fy=0.4)\n",
    "##cambio en imagen 1 e imagen2\n",
    "\n",
    "cv2.imshow(\"imagen1\",imagen1)\n",
    "cv2.imshow(\"imagen2\",imagen2)\n",
    "cv2.waitKey(0)\n",
    "cv2.destroyAllWindows()"
   ]
  },
  {
   "cell_type": "markdown",
   "id": "1840f245",
   "metadata": {},
   "source": [
    "# 0rientación con detección de lineas rectas usando \"La transformada de Hough Transform\""
   ]
  },
  {
   "cell_type": "code",
   "execution_count": 2,
   "id": "66a5d049",
   "metadata": {},
   "outputs": [
    {
     "ename": "ModuleNotFoundError",
     "evalue": "No module named 'skimage'",
     "output_type": "error",
     "traceback": [
      "\u001b[1;31m---------------------------------------------------------------------------\u001b[0m",
      "\u001b[1;31mModuleNotFoundError\u001b[0m                       Traceback (most recent call last)",
      "\u001b[1;32m~\\AppData\\Local\\Temp/ipykernel_8028/2269405458.py\u001b[0m in \u001b[0;36m<module>\u001b[1;34m\u001b[0m\n\u001b[1;32m----> 1\u001b[1;33m \u001b[1;32mfrom\u001b[0m \u001b[0mskimage\u001b[0m\u001b[1;33m.\u001b[0m\u001b[0mtransform\u001b[0m \u001b[1;32mimport\u001b[0m \u001b[0mprobabilistic_hough_line\u001b[0m\u001b[1;33m\u001b[0m\u001b[1;33m\u001b[0m\u001b[0m\n\u001b[0m\u001b[0;32m      2\u001b[0m \u001b[1;32mfrom\u001b[0m \u001b[0mmatplotlib\u001b[0m\u001b[1;33m.\u001b[0m\u001b[0mcollections\u001b[0m \u001b[1;32mimport\u001b[0m \u001b[0mLineCollection\u001b[0m\u001b[1;33m\u001b[0m\u001b[1;33m\u001b[0m\u001b[0m\n\u001b[0;32m      3\u001b[0m \u001b[1;33m\u001b[0m\u001b[0m\n\u001b[0;32m      4\u001b[0m \u001b[0mgap_ratio\u001b[0m \u001b[1;33m=\u001b[0m \u001b[1;36m0.12\u001b[0m\u001b[1;33m\u001b[0m\u001b[1;33m\u001b[0m\u001b[0m\n\u001b[0;32m      5\u001b[0m \u001b[1;33m\u001b[0m\u001b[0m\n",
      "\u001b[1;31mModuleNotFoundError\u001b[0m: No module named 'skimage'"
     ]
    }
   ],
   "source": [
    "from skimage.transform import probabilistic_hough_line\n",
    "from matplotlib.collections import LineCollection\n",
    "\n",
    "gap_ratio = 0.12\n",
    "\n",
    "fig, ax = plt.subplots(constrained_layout=True)\n",
    "ax.imshow(aerial_photo)\n",
    "col = ax.add_collection(LineCollection([], color='yellow'))\n",
    "ax.set(xticks=[], yticks=[])\n",
    "\n",
    "def update(length):\n",
    "    lines = probabilistic_hough_line(canny, line_length=length, \n",
    "                                     line_gap=int(length*gap_ratio))\n",
    "    col.set_segments(lines)\n",
    "\n",
    "utils.Slider(ax, 5, 50, update, start=10).show()"
   ]
  },
  {
   "cell_type": "code",
   "execution_count": null,
   "id": "209dcc80",
   "metadata": {},
   "outputs": [],
   "source": []
  }
 ],
 "metadata": {
  "kernelspec": {
   "display_name": "Python 3 (ipykernel)",
   "language": "python",
   "name": "python3"
  },
  "language_info": {
   "codemirror_mode": {
    "name": "ipython",
    "version": 3
   },
   "file_extension": ".py",
   "mimetype": "text/x-python",
   "name": "python",
   "nbconvert_exporter": "python",
   "pygments_lexer": "ipython3",
   "version": "3.9.5"
  }
 },
 "nbformat": 4,
 "nbformat_minor": 5
}
