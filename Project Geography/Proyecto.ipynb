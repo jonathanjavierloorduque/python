{
 "cells": [
  {
   "cell_type": "markdown",
   "id": "4e103935",
   "metadata": {},
   "source": [
    "# Importación de las librerias que vamos a utilizar"
   ]
  },
  {
   "cell_type": "code",
   "execution_count": 3,
   "id": "5efb9fd5",
   "metadata": {},
   "outputs": [],
   "source": [
    "import numpy as np\n",
    "import cv2\n",
    "from matplotlib import pyplot as plt\n",
    "import os"
   ]
  },
  {
   "cell_type": "markdown",
   "id": "77ad4847",
   "metadata": {},
   "source": [
    "# Defino una ventana que permita visuaizar los graficos"
   ]
  },
  {
   "cell_type": "code",
   "execution_count": 4,
   "id": "1841ba05",
   "metadata": {},
   "outputs": [],
   "source": [
    "def wind(image):  \n",
    "    cv2.namedWindow(\"image\",cv2.WINDOW_NORMAL)\n",
    "    cv2.imshow('image', image)#\"image\", image)\n",
    "    cv2.waitKey(0)\n",
    "    cv2.destroyAllWindows()"
   ]
  },
  {
   "cell_type": "markdown",
   "id": "ac6e580d",
   "metadata": {},
   "source": [
    "## Abro las imagenes "
   ]
  },
  {
   "cell_type": "code",
   "execution_count": 5,
   "id": "168a67c5",
   "metadata": {},
   "outputs": [],
   "source": [
    "crops=cv2.imread(\"sembrio1.png\",1)\n",
    "wind(crops)"
   ]
  },
  {
   "cell_type": "code",
   "execution_count": 6,
   "id": "8164870e",
   "metadata": {},
   "outputs": [],
   "source": [
    "crops2=cv2.imread(\"sembrio2.png\",0)\n",
    "wind(crops2)"
   ]
  },
  {
   "cell_type": "code",
   "execution_count": 7,
   "id": "47a2483d",
   "metadata": {
    "scrolled": true
   },
   "outputs": [],
   "source": [
    "guaya=cv2.imread(\"Guayaquil.jpg\",1)\n",
    "rioguaya=cv2.resize(guaya,dsize=None,fx=0.5,fy=0.5,interpolation=cv2.INTER_CUBIC)\n",
    "wind(rioguaya)"
   ]
  },
  {
   "cell_type": "markdown",
   "id": "22c21f6e",
   "metadata": {},
   "source": [
    "# Colocar filtros"
   ]
  },
  {
   "cell_type": "code",
   "execution_count": 8,
   "id": "60eadff3",
   "metadata": {},
   "outputs": [],
   "source": [
    "sobelx=cv2.Sobel(crops,cv2.CV_8U,1,0,ksize=3)\n",
    "wind(sobelx)"
   ]
  },
  {
   "cell_type": "markdown",
   "id": "f11ae54f",
   "metadata": {},
   "source": [
    "# Detección de taludes"
   ]
  },
  {
   "cell_type": "code",
   "execution_count": 9,
   "id": "92bf0076",
   "metadata": {},
   "outputs": [],
   "source": [
    "laplacian=cv2.Laplacian(crops,cv2.CV_8U)\n",
    "wind(laplacian)"
   ]
  },
  {
   "cell_type": "markdown",
   "id": "d7417aad",
   "metadata": {},
   "source": [
    "## Identificación de bordes y pendientes"
   ]
  },
  {
   "cell_type": "code",
   "execution_count": 10,
   "id": "633a3c4c",
   "metadata": {},
   "outputs": [],
   "source": [
    "edges1=cv2.Canny(crops,150,400)\n",
    "wind(edges1)"
   ]
  },
  {
   "cell_type": "code",
   "execution_count": 11,
   "id": "f19b91ad",
   "metadata": {},
   "outputs": [],
   "source": [
    "edges2=cv2.Canny(crops2,150,400)\n",
    "wind(edges2)"
   ]
  },
  {
   "cell_type": "code",
   "execution_count": 12,
   "id": "19b19bf9",
   "metadata": {},
   "outputs": [],
   "source": [
    "edges3=cv2.Canny(rioguaya,150,400)\n",
    "wind(edges3)"
   ]
  },
  {
   "cell_type": "markdown",
   "id": "6c630ab2",
   "metadata": {},
   "source": [
    "# Guardar la imagen"
   ]
  },
  {
   "cell_type": "code",
   "execution_count": 13,
   "id": "303696cf",
   "metadata": {},
   "outputs": [
    {
     "data": {
      "text/plain": [
       "True"
      ]
     },
     "execution_count": 13,
     "metadata": {},
     "output_type": "execute_result"
    }
   ],
   "source": [
    "cv2.imwrite(\"New1.png\",edges1)"
   ]
  },
  {
   "cell_type": "markdown",
   "id": "92fcdcb9",
   "metadata": {},
   "source": [
    "## Borrar imagen"
   ]
  },
  {
   "cell_type": "code",
   "execution_count": 14,
   "id": "c47d799f",
   "metadata": {},
   "outputs": [],
   "source": [
    "try: \n",
    "    os.remove(\"New1.png\")\n",
    "except: pass"
   ]
  },
  {
   "cell_type": "markdown",
   "id": "c09be501",
   "metadata": {},
   "source": [
    "# Encontrar similitudes entre dos imagenes"
   ]
  },
  {
   "cell_type": "code",
   "execution_count": 14,
   "id": "25bebbbc",
   "metadata": {},
   "outputs": [],
   "source": [
    "imagen1= cv2.imread(\"sembrio1.png\")\n",
    "imagen2= cv2.imread(\"New1.png\")\n"
   ]
  },
  {
   "cell_type": "markdown",
   "id": "bd7bb935",
   "metadata": {},
   "source": [
    "## Ver si las imagenes son iguales"
   ]
  },
  {
   "cell_type": "code",
   "execution_count": 15,
   "id": "24b8c9c9",
   "metadata": {},
   "outputs": [
    {
     "name": "stdout",
     "output_type": "stream",
     "text": [
      "Las imagenes tienen el mismo tamaño y escala de gises \n",
      "La imagenes no son  iguales\n"
     ]
    }
   ],
   "source": [
    "if imagen1.shape == imagen2.shape:\n",
    "    print(\"Las imagenes tienen el mismo tamaño y escala de gises \")\n",
    "    differencia= cv2.subtract(imagen1,imagen2)\n",
    "    b,g,r=cv2.split(differencia)\n",
    "    \n",
    "    if cv2.countNonZero(b) == 0 and cv2. countNonZero(g) ==0 and cv2.countNonZero(r)==0:\n",
    "        print(\"Las imagenes son completamente iguales\")\n",
    "    else:\n",
    "        print(\"La imagenes no son  iguales\")"
   ]
  },
  {
   "cell_type": "markdown",
   "id": "43d1c918",
   "metadata": {},
   "source": [
    "## Ver si dos imagenes en diferente tiempo o por diferentes satelites son similares"
   ]
  },
  {
   "cell_type": "code",
   "execution_count": 16,
   "id": "596f84c2",
   "metadata": {},
   "outputs": [],
   "source": [
    "sift=cv2.SIFT_create()\n",
    "kp_1, desc_1 =sift.detectAndCompute(imagen1,None)\n",
    "kp_2, desc_2 =sift.detectAndCompute(imagen2,None)\n",
    "\n",
    "index_params=dict(algorithm=0, trees=5)\n",
    "search_params=dict()\n",
    "flann =cv2.FlannBasedMatcher(index_params,search_params)\n",
    "\n",
    "matches=flann.knnMatch(desc_1,desc_2, k=2)\n",
    "#print(len(matches))\n",
    "\n",
    "good_points=[]\n",
    "ratio=0.1\n",
    "for m, n in matches:\n",
    "    if m.distance< ratio*n.distance:\n",
    "        good_points.append(m)\n",
    "        print(len(good_points))\n",
    "\n",
    "#result = cv2.drawMatchesKnn(imagen1,kp_1,imagen2,kp_2,matches, None)\n",
    "result = cv2.drawMatches(imagen1,kp_1,imagen2,kp_2,good_points, None)\n",
    "cv2.imshow(\"result\",result)\n",
    "##Cambio el tamaño \n",
    "#cv2.resize(result,None, fx=0.4, fy=0.4)\n",
    "##cambio en imagen 1 e imagen2\n",
    "\n",
    "cv2.imshow(\"imagen1\",imagen1)\n",
    "cv2.imshow(\"imagen2\",imagen2)\n",
    "cv2.waitKey(0)\n",
    "cv2.destroyAllWindows()"
   ]
  },
  {
   "cell_type": "markdown",
   "id": "1840f245",
   "metadata": {},
   "source": [
    "# 0rientación con detección de lineas rectas usando \"La transformada de Hough \""
   ]
  },
  {
   "cell_type": "markdown",
   "id": "1a12e50a",
   "metadata": {},
   "source": [
    "## Abriendo la imagen"
   ]
  },
  {
   "cell_type": "code",
   "execution_count": 17,
   "id": "209dcc80",
   "metadata": {},
   "outputs": [],
   "source": [
    "Ori=cv2.imread(\"Moher.jpg\",0)\n",
    "edges4=cv2.Canny(Ori,150,400)\n",
    "wind(edges4)"
   ]
  },
  {
   "cell_type": "code",
   "execution_count": 18,
   "id": "9a0bab7d",
   "metadata": {},
   "outputs": [],
   "source": [
    "lines=cv2.HoughLines(Ori,5,5*np.pi/180,200)"
   ]
  },
  {
   "cell_type": "code",
   "execution_count": 19,
   "id": "25314681",
   "metadata": {},
   "outputs": [
    {
     "data": {
      "text/plain": [
       "array([[[ 5.2750000e+02,  7.8539813e-01]],\n",
       "\n",
       "       [[ 3.2500000e+01,  2.3561945e+00]],\n",
       "\n",
       "       [[ 5.9750000e+02,  7.8539813e-01]],\n",
       "\n",
       "       [[ 1.0250000e+02,  2.3561945e+00]],\n",
       "\n",
       "       [[ 5.4750000e+02,  6.9813168e-01]],\n",
       "\n",
       "       [[-2.5000000e+00,  2.4434609e+00]],\n",
       "\n",
       "       [[-3.7500000e+01,  2.3561945e+00]],\n",
       "\n",
       "       [[ 4.8750000e+02,  6.1086524e-01]],\n",
       "\n",
       "       [[-1.0250000e+02,  2.5307274e+00]],\n",
       "\n",
       "       [[-6.2500000e+01,  2.5307274e+00]],\n",
       "\n",
       "       [[-8.2500000e+01,  2.5307274e+00]],\n",
       "\n",
       "       [[ 4.5250000e+02,  7.8539813e-01]],\n",
       "\n",
       "       [[ 7.7500000e+01,  2.3561945e+00]],\n",
       "\n",
       "       [[ 4.7500000e+01,  2.3561945e+00]],\n",
       "\n",
       "       [[ 5.7500000e+01,  2.3561945e+00]],\n",
       "\n",
       "       [[ 6.6750000e+02,  7.8539813e-01]],\n",
       "\n",
       "       [[ 4.4250000e+02,  5.2359879e-01]],\n",
       "\n",
       "       [[-1.8750000e+02,  2.6179938e+00]],\n",
       "\n",
       "       [[-1.7250000e+02,  2.6179938e+00]],\n",
       "\n",
       "       [[-1.5250000e+02,  2.6179938e+00]],\n",
       "\n",
       "       [[-1.4250000e+02,  2.6179938e+00]],\n",
       "\n",
       "       [[ 4.2750000e+02,  5.2359879e-01]],\n",
       "\n",
       "       [[ 4.5750000e+02,  5.2359879e-01]],\n",
       "\n",
       "       [[ 6.1750000e+02,  5.2359879e-01]],\n",
       "\n",
       "       [[ 1.7250000e+02,  2.3561945e+00]],\n",
       "\n",
       "       [[ 1.4250000e+02,  2.2689281e+00]],\n",
       "\n",
       "       [[ 1.8250000e+02,  2.2689281e+00]],\n",
       "\n",
       "       [[ 4.6750000e+02,  8.7266457e-01]],\n",
       "\n",
       "       [[ 6.4250000e+02,  8.7266457e-01]],\n",
       "\n",
       "       [[ 1.2750000e+02,  2.2689281e+00]],\n",
       "\n",
       "       [[ 1.5250000e+02,  2.2689281e+00]],\n",
       "\n",
       "       [[ 1.6750000e+02,  2.2689281e+00]],\n",
       "\n",
       "       [[ 3.6750000e+02,  4.3633229e-01]],\n",
       "\n",
       "       [[ 3.8750000e+02,  4.3633229e-01]],\n",
       "\n",
       "       [[-2.8250000e+02,  2.7052603e+00]],\n",
       "\n",
       "       [[-2.6250000e+02,  2.7052603e+00]],\n",
       "\n",
       "       [[-2.3750000e+02,  2.7052603e+00]],\n",
       "\n",
       "       [[-2.2250000e+02,  2.7052603e+00]],\n",
       "\n",
       "       [[ 3.7750000e+02,  4.3633229e-01]],\n",
       "\n",
       "       [[-1.0750000e+02,  2.3561945e+00]],\n",
       "\n",
       "       [[-3.6750000e+02,  2.7925267e+00]],\n",
       "\n",
       "       [[-3.3250000e+02,  2.7925267e+00]],\n",
       "\n",
       "       [[-3.1250000e+02,  2.7925267e+00]],\n",
       "\n",
       "       [[ 3.2750000e+02,  3.4906584e-01]],\n",
       "\n",
       "       [[ 3.1750000e+02,  3.4906584e-01]],\n",
       "\n",
       "       [[-3.8250000e+02,  2.7925267e+00]],\n",
       "\n",
       "       [[-3.2250000e+02,  2.7925267e+00]],\n",
       "\n",
       "       [[ 3.0250000e+02,  3.4906584e-01]],\n",
       "\n",
       "       [[ 3.3750000e+02,  3.4906584e-01]],\n",
       "\n",
       "       [[-3.5250000e+02,  2.7925267e+00]],\n",
       "\n",
       "       [[-3.4250000e+02,  2.7925267e+00]],\n",
       "\n",
       "       [[ 2.9250000e+02,  3.4906584e-01]],\n",
       "\n",
       "       [[-4.3750000e+02,  2.8797932e+00]],\n",
       "\n",
       "       [[-4.0750000e+02,  2.8797932e+00]],\n",
       "\n",
       "       [[ 2.2250000e+02,  2.6179940e-01]],\n",
       "\n",
       "       [[ 2.4250000e+02,  2.6179940e-01]],\n",
       "\n",
       "       [[ 2.5250000e+02,  2.6179940e-01]],\n",
       "\n",
       "       [[ 2.6250000e+02,  2.6179940e-01]],\n",
       "\n",
       "       [[-4.6250000e+02,  2.8797932e+00]],\n",
       "\n",
       "       [[-3.9750000e+02,  2.8797932e+00]],\n",
       "\n",
       "       [[ 6.8750000e+02,  2.6179940e-01]],\n",
       "\n",
       "       [[-4.7250000e+02,  2.8797932e+00]],\n",
       "\n",
       "       [[ 2.6750000e+02,  2.1816616e+00]],\n",
       "\n",
       "       [[ 2.1750000e+02,  2.1816616e+00]],\n",
       "\n",
       "       [[ 2.5250000e+02,  2.1816616e+00]],\n",
       "\n",
       "       [[ 6.8250000e+02,  9.5993108e-01]],\n",
       "\n",
       "       [[ 2.2750000e+02,  2.1816616e+00]],\n",
       "\n",
       "       [[ 2.3750000e+02,  2.1816616e+00]],\n",
       "\n",
       "       [[ 4.2750000e+02,  9.5993108e-01]],\n",
       "\n",
       "       [[ 4.1250000e+02,  9.5993108e-01]],\n",
       "\n",
       "       [[ 3.8250000e+02,  7.8539813e-01]],\n",
       "\n",
       "       [[ 7.0250000e+02,  1.7453292e-01]],\n",
       "\n",
       "       [[ 2.0750000e+02,  1.7453292e-01]],\n",
       "\n",
       "       [[-5.3250000e+02,  2.9670596e+00]],\n",
       "\n",
       "       [[-5.1750000e+02,  2.9670596e+00]],\n",
       "\n",
       "       [[ 1.8250000e+02,  1.7453292e-01]],\n",
       "\n",
       "       [[ 1.5750000e+02,  1.7453292e-01]],\n",
       "\n",
       "       [[-5.4250000e+02,  2.9670596e+00]],\n",
       "\n",
       "       [[-5.0250000e+02,  2.9670596e+00]],\n",
       "\n",
       "       [[ 1.7250000e+02,  1.7453292e-01]],\n",
       "\n",
       "       [[-5.5750000e+02,  2.9670596e+00]],\n",
       "\n",
       "       [[-4.8750000e+02,  2.9670596e+00]],\n",
       "\n",
       "       [[-5.9750000e+02,  3.0543261e+00]],\n",
       "\n",
       "       [[-5.8750000e+02,  3.0543261e+00]],\n",
       "\n",
       "       [[-6.2750000e+02,  3.0543261e+00]],\n",
       "\n",
       "       [[-6.1750000e+02,  3.0543261e+00]],\n",
       "\n",
       "       [[-6.0750000e+02,  3.0543261e+00]],\n",
       "\n",
       "       [[ 8.2500000e+01,  8.7266460e-02]],\n",
       "\n",
       "       [[ 7.0750000e+02,  8.7266460e-02]],\n",
       "\n",
       "       [[ 9.2500000e+01,  8.7266460e-02]],\n",
       "\n",
       "       [[-6.4250000e+02,  3.0543261e+00]],\n",
       "\n",
       "       [[-5.6750000e+02,  3.0543261e+00]],\n",
       "\n",
       "       [[ 1.0250000e+02,  8.7266460e-02]],\n",
       "\n",
       "       [[ 1.1250000e+02,  8.7266460e-02]],\n",
       "\n",
       "       [[ 1.2750000e+02,  8.7266460e-02]],\n",
       "\n",
       "       [[-5.7750000e+02,  3.0543261e+00]],\n",
       "\n",
       "       [[ 1.4250000e+02,  8.7266460e-02]],\n",
       "\n",
       "       [[ 2.5000000e+00,  0.0000000e+00]],\n",
       "\n",
       "       [[ 7.3750000e+02,  7.8539813e-01]],\n",
       "\n",
       "       [[ 3.6750000e+02,  2.0943952e+00]],\n",
       "\n",
       "       [[ 3.6250000e+02,  1.0471976e+00]],\n",
       "\n",
       "       [[ 3.1250000e+02,  2.0943952e+00]],\n",
       "\n",
       "       [[ 3.4250000e+02,  2.0943952e+00]],\n",
       "\n",
       "       [[ 3.1250000e+02,  1.1344640e+00]],\n",
       "\n",
       "       [[ 7.5750000e+02,  1.1344640e+00]],\n",
       "\n",
       "       [[ 3.3250000e+02,  1.1344640e+00]],\n",
       "\n",
       "       [[ 3.9750000e+02,  2.0071285e+00]],\n",
       "\n",
       "       [[ 4.0750000e+02,  2.0071285e+00]],\n",
       "\n",
       "       [[ 4.1750000e+02,  2.0071285e+00]],\n",
       "\n",
       "       [[ 4.2750000e+02,  2.0071285e+00]],\n",
       "\n",
       "       [[ 4.4250000e+02,  2.0071285e+00]],\n",
       "\n",
       "       [[ 4.5250000e+02,  2.0071285e+00]],\n",
       "\n",
       "       [[ 3.2250000e+02,  1.1344640e+00]],\n",
       "\n",
       "       [[ 3.0250000e+02,  1.1344640e+00]],\n",
       "\n",
       "       [[ 5.2250000e+02,  1.9198622e+00]],\n",
       "\n",
       "       [[ 5.4250000e+02,  1.9198622e+00]],\n",
       "\n",
       "       [[ 7.9250000e+02,  1.2217305e+00]],\n",
       "\n",
       "       [[ 5.0250000e+02,  1.9198622e+00]],\n",
       "\n",
       "       [[ 5.1250000e+02,  1.9198622e+00]],\n",
       "\n",
       "       [[ 5.3250000e+02,  1.9198622e+00]],\n",
       "\n",
       "       [[ 2.7250000e+02,  1.2217305e+00]],\n",
       "\n",
       "       [[ 4.8750000e+02,  1.9198622e+00]],\n",
       "\n",
       "       [[ 2.8250000e+02,  1.2217305e+00]],\n",
       "\n",
       "       [[ 7.8250000e+02,  1.2217305e+00]],\n",
       "\n",
       "       [[ 4.7750000e+02,  1.9198622e+00]],\n",
       "\n",
       "       [[ 2.4750000e+02,  1.2217305e+00]],\n",
       "\n",
       "       [[ 2.6250000e+02,  1.2217305e+00]],\n",
       "\n",
       "       [[ 2.1250000e+02,  1.3089969e+00]],\n",
       "\n",
       "       [[ 8.0750000e+02,  1.3089969e+00]],\n",
       "\n",
       "       [[ 5.9750000e+02,  1.8325957e+00]],\n",
       "\n",
       "       [[ 6.1750000e+02,  1.8325957e+00]],\n",
       "\n",
       "       [[ 1.9250000e+02,  1.3089969e+00]],\n",
       "\n",
       "       [[ 2.0250000e+02,  1.3089969e+00]],\n",
       "\n",
       "       [[ 5.5750000e+02,  1.8325957e+00]],\n",
       "\n",
       "       [[ 5.7750000e+02,  1.8325957e+00]],\n",
       "\n",
       "       [[ 2.2750000e+02,  1.3089969e+00]],\n",
       "\n",
       "       [[ 6.7750000e+02,  1.7453291e+00]],\n",
       "\n",
       "       [[ 6.9250000e+02,  1.7453291e+00]],\n",
       "\n",
       "       [[ 1.3250000e+02,  1.3962634e+00]],\n",
       "\n",
       "       [[ 8.2250000e+02,  1.3962634e+00]],\n",
       "\n",
       "       [[ 6.4250000e+02,  1.7453291e+00]],\n",
       "\n",
       "       [[ 6.5750000e+02,  1.7453291e+00]],\n",
       "\n",
       "       [[ 7.0750000e+02,  1.7453291e+00]],\n",
       "\n",
       "       [[ 1.5250000e+02,  1.3962634e+00]],\n",
       "\n",
       "       [[ 1.7250000e+02,  1.3962634e+00]],\n",
       "\n",
       "       [[ 1.1250000e+02,  1.4835298e+00]],\n",
       "\n",
       "       [[ 7.6250000e+02,  1.6580627e+00]],\n",
       "\n",
       "       [[ 1.0250000e+02,  1.4835298e+00]],\n",
       "\n",
       "       [[ 7.5250000e+02,  1.6580627e+00]],\n",
       "\n",
       "       [[ 9.2500000e+01,  1.4835298e+00]],\n",
       "\n",
       "       [[ 7.7250000e+02,  1.6580627e+00]],\n",
       "\n",
       "       [[ 6.7500000e+01,  1.4835298e+00]],\n",
       "\n",
       "       [[ 7.7500000e+01,  1.4835298e+00]],\n",
       "\n",
       "       [[ 7.1750000e+02,  1.6580627e+00]],\n",
       "\n",
       "       [[ 7.2750000e+02,  1.6580627e+00]],\n",
       "\n",
       "       [[ 7.4250000e+02,  1.6580627e+00]],\n",
       "\n",
       "       [[ 3.1250000e+02,  7.8539813e-01]],\n",
       "\n",
       "       [[ 8.0750000e+02,  7.8539813e-01]],\n",
       "\n",
       "       [[ 2.4250000e+02,  7.8539813e-01]],\n",
       "\n",
       "       [[ 8.7750000e+02,  7.8539813e-01]],\n",
       "\n",
       "       [[ 1.7250000e+02,  7.8539813e-01]],\n",
       "\n",
       "       [[ 9.4750000e+02,  7.8539813e-01]],\n",
       "\n",
       "       [[ 1.0250000e+02,  7.8539813e-01]],\n",
       "\n",
       "       [[ 1.0175000e+03,  7.8539813e-01]]], dtype=float32)"
      ]
     },
     "execution_count": 19,
     "metadata": {},
     "output_type": "execute_result"
    }
   ],
   "source": [
    "lines"
   ]
  },
  {
   "cell_type": "code",
   "execution_count": 20,
   "id": "8807f079",
   "metadata": {},
   "outputs": [],
   "source": [
    "for iterator in lines:\n",
    "    rho=iterator[0][0]\n",
    "    theta=iterator[0][1]\n",
    "    a=np.cos(theta)\n",
    "    b=np.sin(theta)\n",
    "    x0=a*rho\n",
    "    y0=b*rho\n",
    "    x1=int(x0+1000*(-b))\n",
    "    y1=int(y0+1000*(a))\n",
    "    x2=int(x0-1000*(-b))\n",
    "    y2=int(y0-1000*(a))\n",
    "    cv2.line(Ori,(x1,y1),(x2,y2),(0,0,255),2)"
   ]
  },
  {
   "cell_type": "code",
   "execution_count": 21,
   "id": "6e1a139b",
   "metadata": {},
   "outputs": [],
   "source": [
    "wind(Ori)"
   ]
  },
  {
   "cell_type": "code",
   "execution_count": null,
   "id": "1c79e72f",
   "metadata": {},
   "outputs": [],
   "source": []
  }
 ],
 "metadata": {
  "kernelspec": {
   "display_name": "Python 3 (ipykernel)",
   "language": "python",
   "name": "python3"
  },
  "language_info": {
   "codemirror_mode": {
    "name": "ipython",
    "version": 3
   },
   "file_extension": ".py",
   "mimetype": "text/x-python",
   "name": "python",
   "nbconvert_exporter": "python",
   "pygments_lexer": "ipython3",
   "version": "3.9.5"
  }
 },
 "nbformat": 4,
 "nbformat_minor": 5
}
