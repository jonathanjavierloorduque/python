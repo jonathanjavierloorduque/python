{
 "cells": [
  {
   "cell_type": "markdown",
   "id": "4e103935",
   "metadata": {},
   "source": [
    "# Importación de las librerias que vamos a utilizar"
   ]
  },
  {
   "cell_type": "code",
   "execution_count": 5,
   "id": "5efb9fd5",
   "metadata": {},
   "outputs": [],
   "source": [
    "import numpy as np\n",
    "import cv2\n",
    "from matplotlib import pyplot as plt"
   ]
  },
  {
   "cell_type": "markdown",
   "id": "e9d88bce",
   "metadata": {},
   "source": [
    "# Defino una ventana que permita visuaizar los graficos"
   ]
  },
  {
   "cell_type": "code",
   "execution_count": 6,
   "id": "1841ba05",
   "metadata": {},
   "outputs": [],
   "source": [
    "def wind(image):  \n",
    "    cv2.namedWindow(\"image\",cv2.WINDOW_NORMAL)\n",
    "    cv2.imshow('windows', image)#\"image\", image)\n",
    "    cv2.waitKey(0)\n",
    "    cv2.destroyAllWindows()"
   ]
  },
  {
   "cell_type": "markdown",
   "id": "ac6e580d",
   "metadata": {},
   "source": [
    "## Abro las imagenes "
   ]
  },
  {
   "cell_type": "code",
   "execution_count": 7,
   "id": "168a67c5",
   "metadata": {},
   "outputs": [],
   "source": [
    "crops=cv2.imread(\"sembrio1.png\",1)\n",
    "wind(crops)"
   ]
  },
  {
   "cell_type": "code",
   "execution_count": 3,
   "id": "8164870e",
   "metadata": {},
   "outputs": [
    {
     "ename": "NameError",
     "evalue": "name 'cv2' is not defined",
     "output_type": "error",
     "traceback": [
      "\u001b[1;31m---------------------------------------------------------------------------\u001b[0m",
      "\u001b[1;31mNameError\u001b[0m                                 Traceback (most recent call last)",
      "\u001b[1;32m~\\AppData\\Local\\Temp/ipykernel_11656/2408428010.py\u001b[0m in \u001b[0;36m<module>\u001b[1;34m\u001b[0m\n\u001b[1;32m----> 1\u001b[1;33m \u001b[0mcrops2\u001b[0m\u001b[1;33m=\u001b[0m\u001b[0mcv2\u001b[0m\u001b[1;33m.\u001b[0m\u001b[0mimread\u001b[0m\u001b[1;33m(\u001b[0m\u001b[1;34m\"sembrio2.png\"\u001b[0m\u001b[1;33m,\u001b[0m\u001b[1;36m0\u001b[0m\u001b[1;33m)\u001b[0m\u001b[1;33m\u001b[0m\u001b[1;33m\u001b[0m\u001b[0m\n\u001b[0m\u001b[0;32m      2\u001b[0m \u001b[0mwind\u001b[0m\u001b[1;33m(\u001b[0m\u001b[0mcrops2\u001b[0m\u001b[1;33m)\u001b[0m\u001b[1;33m\u001b[0m\u001b[1;33m\u001b[0m\u001b[0m\n",
      "\u001b[1;31mNameError\u001b[0m: name 'cv2' is not defined"
     ]
    }
   ],
   "source": [
    "crops2=cv2.imread(\"sembrio2.png\",0)\n",
    "wind(crops2)"
   ]
  },
  {
   "cell_type": "code",
   "execution_count": 4,
   "id": "47a2483d",
   "metadata": {
    "scrolled": true
   },
   "outputs": [
    {
     "ename": "NameError",
     "evalue": "name 'cv2' is not defined",
     "output_type": "error",
     "traceback": [
      "\u001b[1;31m---------------------------------------------------------------------------\u001b[0m",
      "\u001b[1;31mNameError\u001b[0m                                 Traceback (most recent call last)",
      "\u001b[1;32m~\\AppData\\Local\\Temp/ipykernel_11656/904494821.py\u001b[0m in \u001b[0;36m<module>\u001b[1;34m\u001b[0m\n\u001b[1;32m----> 1\u001b[1;33m \u001b[0mguaya\u001b[0m\u001b[1;33m=\u001b[0m\u001b[0mcv2\u001b[0m\u001b[1;33m.\u001b[0m\u001b[0mimread\u001b[0m\u001b[1;33m(\u001b[0m\u001b[1;34m\"Guayaquil.jpg\"\u001b[0m\u001b[1;33m,\u001b[0m\u001b[1;36m1\u001b[0m\u001b[1;33m)\u001b[0m\u001b[1;33m\u001b[0m\u001b[1;33m\u001b[0m\u001b[0m\n\u001b[0m\u001b[0;32m      2\u001b[0m \u001b[0mrioguaya\u001b[0m\u001b[1;33m=\u001b[0m\u001b[0mcv2\u001b[0m\u001b[1;33m.\u001b[0m\u001b[0mresize\u001b[0m\u001b[1;33m(\u001b[0m\u001b[0mguaya\u001b[0m\u001b[1;33m,\u001b[0m\u001b[0mdsize\u001b[0m\u001b[1;33m=\u001b[0m\u001b[1;32mNone\u001b[0m\u001b[1;33m,\u001b[0m\u001b[0mfx\u001b[0m\u001b[1;33m=\u001b[0m\u001b[1;36m0.5\u001b[0m\u001b[1;33m,\u001b[0m\u001b[0mfy\u001b[0m\u001b[1;33m=\u001b[0m\u001b[1;36m0.5\u001b[0m\u001b[1;33m,\u001b[0m\u001b[0minterpolation\u001b[0m\u001b[1;33m=\u001b[0m\u001b[0mcv2\u001b[0m\u001b[1;33m.\u001b[0m\u001b[0mINTER_CUBIC\u001b[0m\u001b[1;33m)\u001b[0m\u001b[1;33m\u001b[0m\u001b[1;33m\u001b[0m\u001b[0m\n\u001b[0;32m      3\u001b[0m \u001b[0mwind\u001b[0m\u001b[1;33m(\u001b[0m\u001b[0mrioguaya\u001b[0m\u001b[1;33m)\u001b[0m\u001b[1;33m\u001b[0m\u001b[1;33m\u001b[0m\u001b[0m\n",
      "\u001b[1;31mNameError\u001b[0m: name 'cv2' is not defined"
     ]
    }
   ],
   "source": [
    "guaya=cv2.imread(\"Guayaquil.jpg\",1)\n",
    "rioguaya=cv2.resize(guaya,dsize=None,fx=0.5,fy=0.5,interpolation=cv2.INTER_CUBIC)\n",
    "wind(rioguaya)"
   ]
  },
  {
   "cell_type": "markdown",
   "id": "22c21f6e",
   "metadata": {},
   "source": [
    "# Colocar filtros"
   ]
  },
  {
   "cell_type": "code",
   "execution_count": 13,
   "id": "60eadff3",
   "metadata": {},
   "outputs": [],
   "source": [
    "sobelx=cv2.Sobel(crops,cv2.CV_8U,1,0,ksize=3)\n",
    "wind(sobelx)"
   ]
  },
  {
   "cell_type": "markdown",
   "id": "5b54cc75",
   "metadata": {},
   "source": [
    "# Detección de taludes"
   ]
  },
  {
   "cell_type": "code",
   "execution_count": 14,
   "id": "92bf0076",
   "metadata": {},
   "outputs": [],
   "source": [
    "laplacian=cv2.Laplacian(crops,cv2.CV_8U)\n",
    "wind(laplacian)"
   ]
  },
  {
   "cell_type": "markdown",
   "id": "d7417aad",
   "metadata": {},
   "source": [
    "## Identificación de bordes y pendientes"
   ]
  },
  {
   "cell_type": "code",
   "execution_count": 10,
   "id": "633a3c4c",
   "metadata": {},
   "outputs": [],
   "source": [
    "edges1=cv2.Canny(crops,150,400)\n",
    "wind(edges1)"
   ]
  },
  {
   "cell_type": "code",
   "execution_count": 18,
   "id": "f19b91ad",
   "metadata": {},
   "outputs": [],
   "source": [
    "edges2=cv2.Canny(crops2,150,400)\n",
    "wind(edges)"
   ]
  },
  {
   "cell_type": "code",
   "execution_count": 21,
   "id": "19b19bf9",
   "metadata": {},
   "outputs": [],
   "source": [
    "edges3=cv2.Canny(rioguaya,150,400)\n",
    "wind(edges)"
   ]
  },
  {
   "cell_type": "markdown",
   "id": "03a18333",
   "metadata": {},
   "source": [
    "# Guardar la imagen"
   ]
  },
  {
   "cell_type": "code",
   "execution_count": 11,
   "id": "aaad5b8d",
   "metadata": {},
   "outputs": [
    {
     "data": {
      "text/plain": [
       "True"
      ]
     },
     "execution_count": 11,
     "metadata": {},
     "output_type": "execute_result"
    }
   ],
   "source": [
    "cv2.imwrite(\"New1.png\",edges1)"
   ]
  },
  {
   "cell_type": "markdown",
   "id": "01860970",
   "metadata": {},
   "source": [
    "# Encontrar similitudes entre dos imagenes"
   ]
  },
  {
   "cell_type": "code",
   "execution_count": null,
   "id": "8ca1b1bd",
   "metadata": {},
   "outputs": [],
   "source": [
    "imagen1= cv2.imread(\"sembrio1.png\")\n",
    "imagen2= cv2.imread(\"New1.png\")\n"
   ]
  },
  {
   "cell_type": "markdown",
   "id": "4b73d7f5",
   "metadata": {},
   "source": [
    "## Ver si las imagenes son iguales"
   ]
  },
  {
   "cell_type": "code",
   "execution_count": null,
   "id": "6b888c54",
   "metadata": {},
   "outputs": [],
   "source": [
    "if imagen1.shape == imagen2.shape:\n",
    "    print(\"Las imagenes tienen el mismo tamaño y canales \")\n",
    "    differencia= cv2.subtract(imagen1,imagen2)"
   ]
  },
  {
   "cell_type": "markdown",
   "id": "8cb61fd6",
   "metadata": {},
   "source": [
    "## Ver si dos imagenes son similares"
   ]
  },
  {
   "cell_type": "code",
   "execution_count": null,
   "id": "5000abea",
   "metadata": {},
   "outputs": [],
   "source": []
  },
  {
   "cell_type": "markdown",
   "id": "f0bf7b6e",
   "metadata": {},
   "source": [
    "# Detección de el cambio de imagenes de una parte de el planeta"
   ]
  },
  {
   "cell_type": "code",
   "execution_count": 4,
   "id": "c6f4fea0",
   "metadata": {},
   "outputs": [],
   "source": [
    "pathB=\"C:/Users/JONATHAN/Documents/GitHub/python/Project Geography/New folder/before/\"\n",
    "pathA=\"C:/Users/JONATHAN/Documents/GitHub/python/Project Geography/New folder/after/\""
   ]
  },
  {
   "cell_type": "code",
   "execution_count": 5,
   "id": "bf6c3d16",
   "metadata": {},
   "outputs": [],
   "source": [
    "BEF=[]\n",
    "AFT=[]\n",
    "for i in range(1,8):\n",
    "    BEF.append(cv2.imread(pathB+\"B\"+str(i)+\".tiff\",0)[4200:4700,2900:3500])\n",
    "    AFT.append(cv2.imread(pathA+\"B\"+str(i)+\".tif\",0)[4200:4700,2900:3500])"
   ]
  },
  {
   "cell_type": "code",
   "execution_count": 6,
   "id": "eb47ce23",
   "metadata": {},
   "outputs": [
    {
     "ename": "error",
     "evalue": "OpenCV(4.5.4) D:\\a\\opencv-python\\opencv-python\\opencv\\modules\\imgproc\\src\\color.cpp:182: error: (-215:Assertion failed) !_src.empty() in function 'cv::cvtColor'\n",
     "output_type": "error",
     "traceback": [
      "\u001b[1;31m---------------------------------------------------------------------------\u001b[0m",
      "\u001b[1;31merror\u001b[0m                                     Traceback (most recent call last)",
      "\u001b[1;32m~\\AppData\\Local\\Temp/ipykernel_9304/708839287.py\u001b[0m in \u001b[0;36m<module>\u001b[1;34m\u001b[0m\n\u001b[1;32m----> 1\u001b[1;33m \u001b[0mwind\u001b[0m\u001b[1;33m(\u001b[0m\u001b[0mBEF\u001b[0m\u001b[1;33m[\u001b[0m\u001b[1;36m6\u001b[0m\u001b[1;33m]\u001b[0m\u001b[1;33m)\u001b[0m\u001b[1;33m\u001b[0m\u001b[1;33m\u001b[0m\u001b[0m\n\u001b[0m",
      "\u001b[1;32m~\\AppData\\Local\\Temp/ipykernel_9304/3232655981.py\u001b[0m in \u001b[0;36mwind\u001b[1;34m(image)\u001b[0m\n\u001b[0;32m      1\u001b[0m \u001b[1;32mdef\u001b[0m \u001b[0mwind\u001b[0m\u001b[1;33m(\u001b[0m\u001b[0mimage\u001b[0m\u001b[1;33m)\u001b[0m\u001b[1;33m:\u001b[0m\u001b[1;33m\u001b[0m\u001b[1;33m\u001b[0m\u001b[0m\n\u001b[0;32m      2\u001b[0m     \u001b[0mcv2\u001b[0m\u001b[1;33m.\u001b[0m\u001b[0mnamedWindow\u001b[0m\u001b[1;33m(\u001b[0m\u001b[1;34m\"image\"\u001b[0m\u001b[1;33m,\u001b[0m\u001b[0mcv2\u001b[0m\u001b[1;33m.\u001b[0m\u001b[0mWINDOW_NORMAL\u001b[0m\u001b[1;33m)\u001b[0m\u001b[1;33m\u001b[0m\u001b[1;33m\u001b[0m\u001b[0m\n\u001b[1;32m----> 3\u001b[1;33m     \u001b[0mcv2\u001b[0m\u001b[1;33m.\u001b[0m\u001b[0mimshow\u001b[0m\u001b[1;33m(\u001b[0m\u001b[1;34m\"image\"\u001b[0m\u001b[1;33m,\u001b[0m \u001b[0mimage\u001b[0m\u001b[1;33m)\u001b[0m\u001b[1;33m\u001b[0m\u001b[1;33m\u001b[0m\u001b[0m\n\u001b[0m\u001b[0;32m      4\u001b[0m     \u001b[0mcv2\u001b[0m\u001b[1;33m.\u001b[0m\u001b[0mwaitKey\u001b[0m\u001b[1;33m(\u001b[0m\u001b[1;36m0\u001b[0m\u001b[1;33m)\u001b[0m\u001b[1;33m\u001b[0m\u001b[1;33m\u001b[0m\u001b[0m\n\u001b[0;32m      5\u001b[0m     \u001b[0mcv2\u001b[0m\u001b[1;33m.\u001b[0m\u001b[0mdestroyAllWindows\u001b[0m\u001b[1;33m(\u001b[0m\u001b[1;33m)\u001b[0m\u001b[1;33m\u001b[0m\u001b[1;33m\u001b[0m\u001b[0m\n",
      "\u001b[1;31merror\u001b[0m: OpenCV(4.5.4) D:\\a\\opencv-python\\opencv-python\\opencv\\modules\\imgproc\\src\\color.cpp:182: error: (-215:Assertion failed) !_src.empty() in function 'cv::cvtColor'\n"
     ]
    }
   ],
   "source": [
    "wind(BEF[6])"
   ]
  },
  {
   "cell_type": "code",
   "execution_count": 7,
   "id": "86b26ad0",
   "metadata": {},
   "outputs": [],
   "source": [
    "BEF32=[]\n",
    "AFT32=[]\n",
    "for i in range(7):\n",
    "    BEF32.append(np.float32(cv2.equalizeHist(BEF[i])))\n",
    "    AFT32.append(np.float32(cv2.equalizeHist(AFT[i])))"
   ]
  },
  {
   "cell_type": "code",
   "execution_count": 8,
   "id": "be38c8b8",
   "metadata": {},
   "outputs": [
    {
     "ename": "error",
     "evalue": "OpenCV(4.5.4) D:\\a\\opencv-python\\opencv-python\\opencv\\modules\\imgproc\\src\\color.cpp:182: error: (-215:Assertion failed) !_src.empty() in function 'cv::cvtColor'\n",
     "output_type": "error",
     "traceback": [
      "\u001b[1;31m---------------------------------------------------------------------------\u001b[0m",
      "\u001b[1;31merror\u001b[0m                                     Traceback (most recent call last)",
      "\u001b[1;32m~\\AppData\\Local\\Temp/ipykernel_6684/3184579291.py\u001b[0m in \u001b[0;36m<module>\u001b[1;34m\u001b[0m\n\u001b[1;32m----> 1\u001b[1;33m \u001b[0mwind\u001b[0m\u001b[1;33m(\u001b[0m\u001b[0mcv2\u001b[0m\u001b[1;33m.\u001b[0m\u001b[0mequalizeHist\u001b[0m\u001b[1;33m(\u001b[0m\u001b[0mBEF\u001b[0m\u001b[1;33m[\u001b[0m\u001b[1;36m0\u001b[0m\u001b[1;33m]\u001b[0m\u001b[1;33m)\u001b[0m\u001b[1;33m)\u001b[0m\u001b[1;33m\u001b[0m\u001b[1;33m\u001b[0m\u001b[0m\n\u001b[0m",
      "\u001b[1;32m~\\AppData\\Local\\Temp/ipykernel_6684/3232655981.py\u001b[0m in \u001b[0;36mwind\u001b[1;34m(image)\u001b[0m\n\u001b[0;32m      1\u001b[0m \u001b[1;32mdef\u001b[0m \u001b[0mwind\u001b[0m\u001b[1;33m(\u001b[0m\u001b[0mimage\u001b[0m\u001b[1;33m)\u001b[0m\u001b[1;33m:\u001b[0m\u001b[1;33m\u001b[0m\u001b[1;33m\u001b[0m\u001b[0m\n\u001b[0;32m      2\u001b[0m     \u001b[0mcv2\u001b[0m\u001b[1;33m.\u001b[0m\u001b[0mnamedWindow\u001b[0m\u001b[1;33m(\u001b[0m\u001b[1;34m\"image\"\u001b[0m\u001b[1;33m,\u001b[0m\u001b[0mcv2\u001b[0m\u001b[1;33m.\u001b[0m\u001b[0mWINDOW_NORMAL\u001b[0m\u001b[1;33m)\u001b[0m\u001b[1;33m\u001b[0m\u001b[1;33m\u001b[0m\u001b[0m\n\u001b[1;32m----> 3\u001b[1;33m     \u001b[0mcv2\u001b[0m\u001b[1;33m.\u001b[0m\u001b[0mimshow\u001b[0m\u001b[1;33m(\u001b[0m\u001b[1;34m\"image\"\u001b[0m\u001b[1;33m,\u001b[0m \u001b[0mimage\u001b[0m\u001b[1;33m)\u001b[0m\u001b[1;33m\u001b[0m\u001b[1;33m\u001b[0m\u001b[0m\n\u001b[0m\u001b[0;32m      4\u001b[0m     \u001b[0mcv2\u001b[0m\u001b[1;33m.\u001b[0m\u001b[0mwaitKey\u001b[0m\u001b[1;33m(\u001b[0m\u001b[1;36m0\u001b[0m\u001b[1;33m)\u001b[0m\u001b[1;33m\u001b[0m\u001b[1;33m\u001b[0m\u001b[0m\n\u001b[0;32m      5\u001b[0m     \u001b[0mcv2\u001b[0m\u001b[1;33m.\u001b[0m\u001b[0mdestroyAllWindows\u001b[0m\u001b[1;33m(\u001b[0m\u001b[1;33m)\u001b[0m\u001b[1;33m\u001b[0m\u001b[1;33m\u001b[0m\u001b[0m\n",
      "\u001b[1;31merror\u001b[0m: OpenCV(4.5.4) D:\\a\\opencv-python\\opencv-python\\opencv\\modules\\imgproc\\src\\color.cpp:182: error: (-215:Assertion failed) !_src.empty() in function 'cv::cvtColor'\n"
     ]
    }
   ],
   "source": [
    "wind(cv2.equalizeHist(BEF[0]))"
   ]
  },
  {
   "cell_type": "code",
   "execution_count": 13,
   "id": "6dbbdd0a",
   "metadata": {},
   "outputs": [
    {
     "ename": "SyntaxError",
     "evalue": "unexpected EOF while parsing (Temp/ipykernel_13568/3695153213.py, line 1)",
     "output_type": "error",
     "traceback": [
      "\u001b[1;36m  File \u001b[1;32m\"C:\\Users\\JONATHAN\\AppData\\Local\\Temp/ipykernel_13568/3695153213.py\"\u001b[1;36m, line \u001b[1;32m1\u001b[0m\n\u001b[1;33m    before=cv2.merge((int(BEF32[0]),int(BEF32[1]),int(BEF32[2]),int(BEF32[3]),int(BEF32[4]),int(BEF32[5]),int(BEF32[6]))\u001b[0m\n\u001b[1;37m                                                                                                                        ^\u001b[0m\n\u001b[1;31mSyntaxError\u001b[0m\u001b[1;31m:\u001b[0m unexpected EOF while parsing\n"
     ]
    }
   ],
   "source": [
    "before=cv2.merge((int(BEF32[0]),int(BEF32[1]),int(BEF32[2]),int(BEF32[3]),int(BEF32[4]),int(BEF32[5]),int(BEF32[6]))"
   ]
  }
 ],
 "metadata": {
  "kernelspec": {
   "display_name": "Python 3 (ipykernel)",
   "language": "python",
   "name": "python3"
  },
  "language_info": {
   "codemirror_mode": {
    "name": "ipython",
    "version": 3
   },
   "file_extension": ".py",
   "mimetype": "text/x-python",
   "name": "python",
   "nbconvert_exporter": "python",
   "pygments_lexer": "ipython3",
   "version": "3.9.5"
  }
 },
 "nbformat": 4,
 "nbformat_minor": 5
}
