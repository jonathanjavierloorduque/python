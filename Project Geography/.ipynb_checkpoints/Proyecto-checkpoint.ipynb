{
 "cells": [
  {
   "cell_type": "markdown",
   "id": "4e103935",
   "metadata": {},
   "source": [
    "# Importación de las librerias que vamos a utilizar"
   ]
  },
  {
   "cell_type": "code",
   "execution_count": 1,
   "id": "5efb9fd5",
   "metadata": {},
   "outputs": [],
   "source": [
    "import numpy as np\n",
    "import cv2\n",
    "from matplotlib import pyplot as plt\n",
    "import os"
   ]
  },
  {
   "cell_type": "markdown",
   "id": "77ad4847",
   "metadata": {},
   "source": [
    "# Defino una ventana que permita visuaizar los graficos"
   ]
  },
  {
   "cell_type": "code",
   "execution_count": 4,
   "id": "1841ba05",
   "metadata": {},
   "outputs": [],
   "source": [
    "def wind(image):  \n",
    "    cv2.namedWindow(\"image\",cv2.WINDOW_NORMAL)\n",
    "    cv2.imshow('image', image)#\"image\", image)\n",
    "    cv2.waitKey(0)\n",
    "    cv2.destroyAllWindows()"
   ]
  },
  {
   "cell_type": "markdown",
   "id": "ac6e580d",
   "metadata": {},
   "source": [
    "## Abro las imagenes "
   ]
  },
  {
   "cell_type": "code",
   "execution_count": 5,
   "id": "168a67c5",
   "metadata": {},
   "outputs": [],
   "source": [
    "crops=cv2.imread(\"sembrio1.png\",1)\n",
    "wind(crops)"
   ]
  },
  {
   "cell_type": "code",
   "execution_count": 6,
   "id": "8164870e",
   "metadata": {},
   "outputs": [],
   "source": [
    "crops2=cv2.imread(\"sembrio2.png\",0)\n",
    "wind(crops2)"
   ]
  },
  {
   "cell_type": "code",
   "execution_count": 7,
   "id": "47a2483d",
   "metadata": {
    "scrolled": true
   },
   "outputs": [],
   "source": [
    "guaya=cv2.imread(\"Guayaquil.jpg\",1)\n",
    "rioguaya=cv2.resize(guaya,dsize=None,fx=0.5,fy=0.5,interpolation=cv2.INTER_CUBIC)\n",
    "wind(rioguaya)"
   ]
  },
  {
   "cell_type": "markdown",
   "id": "22c21f6e",
   "metadata": {},
   "source": [
    "# Colocar filtros"
   ]
  },
  {
   "cell_type": "code",
   "execution_count": 8,
   "id": "60eadff3",
   "metadata": {},
   "outputs": [],
   "source": [
    "sobelx=cv2.Sobel(crops,cv2.CV_8U,1,0,ksize=3)\n",
    "wind(sobelx)"
   ]
  },
  {
   "cell_type": "markdown",
   "id": "f11ae54f",
   "metadata": {},
   "source": [
    "# Detección de taludes"
   ]
  },
  {
   "cell_type": "code",
   "execution_count": 9,
   "id": "92bf0076",
   "metadata": {},
   "outputs": [],
   "source": [
    "laplacian=cv2.Laplacian(crops,cv2.CV_8U)\n",
    "wind(laplacian)"
   ]
  },
  {
   "cell_type": "markdown",
   "id": "d7417aad",
   "metadata": {},
   "source": [
    "## Identificación de bordes y pendientes"
   ]
  },
  {
   "cell_type": "code",
   "execution_count": 10,
   "id": "633a3c4c",
   "metadata": {},
   "outputs": [],
   "source": [
    "edges1=cv2.Canny(crops,150,400)\n",
    "wind(edges1)"
   ]
  },
  {
   "cell_type": "code",
   "execution_count": 11,
   "id": "f19b91ad",
   "metadata": {},
   "outputs": [],
   "source": [
    "edges2=cv2.Canny(crops2,150,400)\n",
    "wind(edges2)"
   ]
  },
  {
   "cell_type": "code",
   "execution_count": 12,
   "id": "19b19bf9",
   "metadata": {},
   "outputs": [],
   "source": [
    "edges3=cv2.Canny(rioguaya,150,400)\n",
    "wind(edges3)"
   ]
  },
  {
   "cell_type": "markdown",
   "id": "6c630ab2",
   "metadata": {},
   "source": [
    "# Guardar la imagen"
   ]
  },
  {
   "cell_type": "code",
   "execution_count": 13,
   "id": "303696cf",
   "metadata": {},
   "outputs": [
    {
     "data": {
      "text/plain": [
       "True"
      ]
     },
     "execution_count": 13,
     "metadata": {},
     "output_type": "execute_result"
    }
   ],
   "source": [
    "cv2.imwrite(\"New1.png\",edges1)"
   ]
  },
  {
   "cell_type": "markdown",
   "id": "92fcdcb9",
   "metadata": {},
   "source": [
    "## Borrar imagen"
   ]
  },
  {
   "cell_type": "code",
   "execution_count": 14,
   "id": "c47d799f",
   "metadata": {},
   "outputs": [],
   "source": [
    "try: \n",
    "    os.remove(\"New1.png\")\n",
    "except: pass"
   ]
  },
  {
   "cell_type": "markdown",
   "id": "c09be501",
   "metadata": {},
   "source": [
    "# Encontrar similitudes entre dos imagenes"
   ]
  },
  {
   "cell_type": "code",
   "execution_count": 14,
   "id": "25bebbbc",
   "metadata": {},
   "outputs": [],
   "source": [
    "imagen1= cv2.imread(\"sembrio1.png\")\n",
    "imagen2= cv2.imread(\"New1.png\")\n"
   ]
  },
  {
   "cell_type": "markdown",
   "id": "bd7bb935",
   "metadata": {},
   "source": [
    "## Ver si las imagenes son iguales"
   ]
  },
  {
   "cell_type": "code",
   "execution_count": 15,
   "id": "24b8c9c9",
   "metadata": {},
   "outputs": [
    {
     "name": "stdout",
     "output_type": "stream",
     "text": [
      "Las imagenes tienen el mismo tamaño y escala de gises \n",
      "La imagenes no son  iguales\n"
     ]
    }
   ],
   "source": [
    "if imagen1.shape == imagen2.shape:\n",
    "    print(\"Las imagenes tienen el mismo tamaño y escala de gises \")\n",
    "    differencia= cv2.subtract(imagen1,imagen2)\n",
    "    b,g,r=cv2.split(differencia)\n",
    "    \n",
    "    if cv2.countNonZero(b) == 0 and cv2. countNonZero(g) ==0 and cv2.countNonZero(r)==0:\n",
    "        print(\"Las imagenes son completamente iguales\")\n",
    "    else:\n",
    "        print(\"La imagenes no son  iguales\")"
   ]
  },
  {
   "cell_type": "markdown",
   "id": "43d1c918",
   "metadata": {},
   "source": [
    "## Ver si dos imagenes en diferente tiempo o por diferentes satelites son similares"
   ]
  },
  {
   "cell_type": "code",
   "execution_count": null,
   "id": "596f84c2",
   "metadata": {},
   "outputs": [],
   "source": [
    "sift=cv2.SIFT_create()\n",
    "kp_1, desc_1 =sift.detectAndCompute(imagen1,None)\n",
    "kp_2, desc_2 =sift.detectAndCompute(imagen2,None)\n",
    "\n",
    "index_params=dict(algorithm=0, trees=5)\n",
    "search_params=dict()\n",
    "flann =cv2.FlannBasedMatcher(index_params,search_params)\n",
    "\n",
    "matches=flann.knnMatch(desc_1,desc_2, k=2)\n",
    "#print(len(matches))\n",
    "\n",
    "good_points=[]\n",
    "for m, n in matches:\n",
    "    if m.distance< 0.6*n.distance:\n",
    "        good_points.append(m)\n",
    "print(len(good_points))\n",
    "\n",
    "#result = cv2.drawMatchesKnn(imagen1,kp_1,imagen2,kp_2,matches, None)\n",
    "result = cv2.drawMatchesKnn(imagen1,kp_1,imagen2,kp_2,matches, None)\n",
    "cv2.imshow(\"result\",cv2.resize(result,None, fx=0.4, fy=0.4))\n",
    "##Cambio el tamaño \n",
    "#cv2.resize(result,None, fx=0.4, fy=0.4)\n",
    "##cambio en imagen 1 e imagen2\n",
    "\n",
    "cv2.imshow(\"imagen1\",cv2.resize(imagen1,None, fx=0.4, fy=0.4))\n",
    "cv2.imshow(\"imagen2\",cv2.resize(imagen2,None, fx=0.4, fy=0.4))\n",
    "cv2.waitKey(0)\n",
    "cv2.destroyAllWindows()"
   ]
  },
  {
   "cell_type": "code",
   "execution_count": null,
   "id": "258d445d",
   "metadata": {},
   "outputs": [],
   "source": []
  }
 ],
 "metadata": {
  "kernelspec": {
   "display_name": "Python 3 (ipykernel)",
   "language": "python",
   "name": "python3"
  },
  "language_info": {
   "codemirror_mode": {
    "name": "ipython",
    "version": 3
   },
   "file_extension": ".py",
   "mimetype": "text/x-python",
   "name": "python",
   "nbconvert_exporter": "python",
   "pygments_lexer": "ipython3",
   "version": "3.9.5"
  }
 },
 "nbformat": 4,
 "nbformat_minor": 5
}
