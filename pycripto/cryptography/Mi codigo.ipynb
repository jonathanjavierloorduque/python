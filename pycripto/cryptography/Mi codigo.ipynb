{
 "cells": [
  {
   "cell_type": "markdown",
   "metadata": {},
   "source": [
    "*genera una clave*"
   ]
  },
  {
   "cell_type": "code",
   "execution_count": 15,
   "metadata": {},
   "outputs": [
    {
     "name": "stdout",
     "output_type": "stream",
     "text": [
      "b'1ZncQxKMoaV_mQbMvGOZAP9OPHcRPwnHskvwbp5oAPA='\n"
     ]
    }
   ],
   "source": [
    "from cryptography.fernet import Fernet\n",
    "\n",
    "key = Fernet.generate_key()\n",
    "print(key)\n",
    "\n"
   ]
  },
  {
   "cell_type": "markdown",
   "metadata": {},
   "source": [
    "**Esta sera la clave que pongo en el archivo**"
   ]
  },
  {
   "cell_type": "code",
   "execution_count": 16,
   "metadata": {},
   "outputs": [
    {
     "name": "stdout",
     "output_type": "stream",
     "text": [
      "b'1ZncQxKMoaV_mQbMvGOZAP9OPHcRPwnHskvwbp5oAPA='\n"
     ]
    }
   ],
   "source": [
    "file =open(\"key.key\", \"wb\")\n",
    "file.write(key) #el tipo de claves esta en bytes\n",
    "file.close()\n",
    "print(key)"
   ]
  },
  {
   "cell_type": "code",
   "execution_count": 18,
   "metadata": {},
   "outputs": [
    {
     "name": "stdout",
     "output_type": "stream",
     "text": [
      "b'1ZncQxKMoaV_mQbMvGOZAP9OPHcRPwnHskvwbp5oAPA='\n"
     ]
    }
   ],
   "source": [
    "from cryptography.fernet import Fernet\n",
    "\n",
    "file = open(\"key.key\",\"br\")\n",
    "key = file.read()#la clabe seguirta estando en bytes\n",
    "print (key)"
   ]
  },
  {
   "cell_type": "markdown",
   "metadata": {},
   "source": [
    "Utilizare pybase 64 para una intefaz grafica y os"
   ]
  },
  {
   "cell_type": "code",
   "execution_count": 14,
   "metadata": {},
   "outputs": [
    {
     "ename": "SyntaxError",
     "evalue": "invalid syntax (<ipython-input-14-5367d0efa85b>, line 15)",
     "output_type": "error",
     "traceback": [
      "\u001b[1;36m  File \u001b[1;32m\"<ipython-input-14-5367d0efa85b>\"\u001b[1;36m, line \u001b[1;32m15\u001b[0m\n\u001b[1;33m    iterations = 100000,\u001b[0m\n\u001b[1;37m    ^\u001b[0m\n\u001b[1;31mSyntaxError\u001b[0m\u001b[1;31m:\u001b[0m invalid syntax\n"
     ]
    }
   ],
   "source": [
    "import base64\n",
    "import os\n",
    "from cryptography.hazmat.backends import default_backend\n",
    "from cryptography.hazmat.primitives import hashes\n",
    "from cryptography.hazmat.kdf.pbkdfgf2 import PBKDF2HMAC\n",
    "\n",
    "password_provide  = \"password\"# esta es la entrada desde la cadena\n",
    "password = password_provide.encode() #convertir a tipo bytes\n",
    "\n",
    "salt = b'REUQ_pRAOTOEGcUh1VLT-e-sOaRQxoy3WMGzT3tq99E='\n",
    "kdf = PBKDF2HMAC(\n",
    "    algorithm=hashes.SHA256(),\n",
    "    length=32,\n",
    "    salt=salt\n",
    "    iterations= 100000,\n",
    "    backend=default_backend()\n",
    ")\n",
    "key =based64.urlsafe_b64encode(kdf.derive(password)) # se puede usar kdf una vez impreso\n",
    "print (key)"
   ]
  },
  {
   "cell_type": "code",
   "execution_count": 23,
   "metadata": {},
   "outputs": [],
   "source": [
    "import base64\n",
    "from cryptography.hazmat.backends import default_backend\n",
    "from cryptography.hazmat.primitives import hashes\n",
    "from cryptography.hazmat.primitives.kdf.pbkdf2 import PBKDF2HMAC\n",
    "\n",
    "password_provided = \"password\"  \n",
    "password = password_provided.encode()  \n",
    "salt = b'1ZncQxKMoaV_mQbMvGOZAP9OPHcRPwnHskvwbp5oAPA=' \n",
    "kdf = PBKDF2HMAC(\n",
    "    algorithm=hashes.SHA256(),\n",
    "    length=32,\n",
    "    salt=salt,\n",
    "    iterations=100000,\n",
    "    backend=default_backend()\n",
    ")\n",
    "key = base64.urlsafe_b64encode(kdf.derive(password))  "
   ]
  },
  {
   "cell_type": "code",
   "execution_count": 3,
   "metadata": {},
   "outputs": [
    {
     "name": "stdout",
     "output_type": "stream",
     "text": [
      "b'gAAAAABgAajfW4BD1omTqVzuz8EuNrmTyTtjzGBEM-hrMDP89K0jhUWaToeSI889Vz_AzmlhTERHTFUCiGkXcHdzz6UY8KfFA8kl5jKDTzN7tTW2ANncv6c='\n",
      "b'whatsapp es de facebook'\n",
      "whatsapp es de facebook\n"
     ]
    }
   ],
   "source": [
    "from cryptography.fernet import Fernet\n",
    "#obtener la clave desde un archivo\n",
    "file = open(\"key.key\", \"rb\")\n",
    "key = file.read() # la claver sera en tipo byte\n",
    "file.close()\n",
    "#Mensaje codificado\n",
    "message = \"whatsapp es de facebook\"\n",
    "encoded = message.encode()\n",
    "\n",
    "#encriptado de el mensaje\n",
    "f = Fernet(key)\n",
    "encrypted = f.encrypt(encoded)\n",
    "print(encrypted)\n",
    "\n",
    "#desencriptado\n",
    "f2 = Fernet(key)\n",
    "decrypted = decrypted = f2.decrypt(encrypted)\n",
    "print(decrypted)\n",
    "\n",
    "#decodificar el mensaje\n",
    "original_message =decrypted.decode()\n",
    "print(original_message)"
   ]
  },
  {
   "cell_type": "code",
   "execution_count": 19,
   "metadata": {},
   "outputs": [],
   "source": [
    "from cryptography.fernet import Fernet\n",
    "\n",
    "#obtener la clave desde un archivo\n",
    "file = open(\"key.key\", \"rb\")\n",
    "key = file.read() # la claver sera en tipo byte\n",
    "file.close()\n",
    "\n",
    "\n",
    "#abrir el archivo a encryptar y encriptarlo\n",
    "with open(\"verdad_de_las_apps.txt\",\"rb\") as f :\n",
    "     data = f.read()\n",
    "\n",
    "fernet = Fernet(key)\n",
    "encrypted = fernet.encrypt(data)\n",
    "\n",
    "#escribir el archivo encriptado\n",
    "\n",
    "with open(\"verdad_de_las_apps.txt.encrypted\",\"wb\") as f:\n",
    "    f.write(encrypted)\n"
   ]
  },
  {
   "cell_type": "code",
   "execution_count": 21,
   "metadata": {},
   "outputs": [],
   "source": [
    "from cryptography.fernet import Fernet\n",
    "\n",
    "#obtener la clave desde un archivo\n",
    "file = open(\"key.key\", \"rb\")\n",
    "key = file.read() # la claver sera en tipo byte\n",
    "file.close()\n",
    "\n",
    "\n",
    "#abrir el archivo a encryptado y desencriptarlo\n",
    "with open(\"verdad_de_las_apps.txt.encrypted\",\"rb\") as f:\n",
    "     data = f.read()\n",
    "\n",
    "fernet = Fernet(key)\n",
    "encrypted = fernet.decrypt(data)\n",
    "\n",
    "#sobrescribir el archivo encriptado\n",
    "\n",
    "with open(\"verdad_de_las_apps.txt.decrypted\",\"wb\") as f:\n",
    "    f.write(encrypted)\n"
   ]
  },
  {
   "cell_type": "code",
   "execution_count": 25,
   "metadata": {},
   "outputs": [
    {
     "ename": "NameError",
     "evalue": "name 'data' is not defined",
     "output_type": "error",
     "traceback": [
      "\u001b[1;31m---------------------------------------------------------------------------\u001b[0m",
      "\u001b[1;31mNameError\u001b[0m                                 Traceback (most recent call last)",
      "\u001b[1;32m<ipython-input-25-24b53b1b78eb>\u001b[0m in \u001b[0;36m<module>\u001b[1;34m\u001b[0m\n\u001b[0;32m      1\u001b[0m \u001b[1;31m#desencriptar un archivo\u001b[0m\u001b[1;33m\u001b[0m\u001b[1;33m\u001b[0m\u001b[1;33m\u001b[0m\u001b[0m\n\u001b[0;32m      2\u001b[0m \u001b[0mfernet\u001b[0m \u001b[1;33m=\u001b[0m \u001b[0mFernet\u001b[0m\u001b[1;33m(\u001b[0m\u001b[0mkey\u001b[0m\u001b[1;33m)\u001b[0m\u001b[1;33m\u001b[0m\u001b[1;33m\u001b[0m\u001b[0m\n\u001b[1;32m----> 3\u001b[1;33m \u001b[0mencrypted\u001b[0m \u001b[1;33m=\u001b[0m \u001b[0mfernet\u001b[0m\u001b[1;33m.\u001b[0m\u001b[0mdecrypt\u001b[0m\u001b[1;33m(\u001b[0m\u001b[0mdata\u001b[0m\u001b[1;33m)\u001b[0m\u001b[1;33m\u001b[0m\u001b[1;33m\u001b[0m\u001b[0m\n\u001b[0m\u001b[0;32m      4\u001b[0m \u001b[1;33m\u001b[0m\u001b[0m\n\u001b[0;32m      5\u001b[0m \u001b[1;32mwith\u001b[0m \u001b[0mopen\u001b[0m\u001b[1;33m(\u001b[0m\u001b[1;34m\"verdad_de_las_apps.txt.decrypted\"\u001b[0m\u001b[1;33m,\u001b[0m\u001b[1;34m\"wb\"\u001b[0m\u001b[1;33m)\u001b[0m \u001b[1;32mas\u001b[0m \u001b[0mf\u001b[0m \u001b[1;33m:\u001b[0m\u001b[1;33m\u001b[0m\u001b[1;33m\u001b[0m\u001b[0m\n",
      "\u001b[1;31mNameError\u001b[0m: name 'data' is not defined"
     ]
    }
   ],
   "source": [
    "\n",
    "#desencriptar un archivo\n",
    "fernet = Fernet(key)\n",
    "decrypted = fernet.decrypt(data)\n",
    "\n",
    "with open(\"verdad_de_las_apps.txt.decrypted\",\"wb\") as f :\n",
    "    f.write (decrypted)"
   ]
  },
  {
   "cell_type": "code",
   "execution_count": null,
   "metadata": {},
   "outputs": [],
   "source": [
    "#abrir el archivo a encryptar y encriptarlo\n",
    "with open(\"verdad_de_las_apps.txt.encrypted\",\"wb\") as f :\n",
    "    f.write (encrypted)\n"
   ]
  }
 ],
 "metadata": {
  "kernelspec": {
   "display_name": "Python 3",
   "language": "python",
   "name": "python3"
  },
  "language_info": {
   "codemirror_mode": {
    "name": "ipython",
    "version": 3
   },
   "file_extension": ".py",
   "mimetype": "text/x-python",
   "name": "python",
   "nbconvert_exporter": "python",
   "pygments_lexer": "ipython3",
   "version": "3.8.5"
  }
 },
 "nbformat": 4,
 "nbformat_minor": 4
}
